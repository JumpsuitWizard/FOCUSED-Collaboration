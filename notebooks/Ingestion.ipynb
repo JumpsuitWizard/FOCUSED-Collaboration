{
 "cells": [
  {
   "cell_type": "markdown",
   "id": "a1104407",
   "metadata": {},
   "source": [
    "# FOCUSED Project: OSPO adoption\n",
    "\n",
    "As part of the [FOCUSED Collaboration project](https://github.com/JumpsuitWizard/FOCUSED-Collaboration), this notebook examines OSPO (Open Source Programs Offices) adoption across the [Standard and Poor's 500 index](https://en.wikipedia.org/wiki/S%26P_500).\n",
    "\n",
    "## Authors\n",
    "\n",
    "- **PI**: Duane O'Brien\n",
    "- **Researcher**: julia ferraioli\n",
    "- **Analyst**: Reshama Shaikh\n",
    "\n",
    "## Research question\n",
    "\n",
    "## Methodology\n",
    "\n",
    "## Data sources\n",
    "\n",
    "The following data sources are used in the analysis:\n",
    "\n",
    "- [S&P 500](https://github.com/datasets/s-and-p-500-companies/blob/master/data/constituents.csv)\n",
    "- [OSCI Index](https://opensourceindex.io/)\n",
    "- [OSPO Landscape](https://landscape.todogroup.org/)\n",
    "- [OSPO++ Membership](https://ospoplusplus.org/about/members/)\n",
    "- [OSPO Alliance Membership](https://ospo-alliance.org/membership/)\n"
   ]
  },
  {
   "cell_type": "markdown",
   "id": "02f6cbec",
   "metadata": {},
   "source": [
    "## Data fetching\n",
    "\n",
    "Get the latest version of the data if the cached copy is more than 1 month old\n"
   ]
  },
  {
   "cell_type": "code",
   "execution_count": null,
   "id": "61c03176",
   "metadata": {},
   "outputs": [],
   "source": [
    "from datetime import date\n",
    "import pandas as pd\n",
    "import pprint\n",
    "import os\n",
    "import re\n",
    "import requests\n",
    "\n",
    "pp = pprint.PrettyPrinter(indent=2)\n",
    "\n",
    "# Set the raw output directory in YYYY/MM format\n",
    "today = date.today()\n",
    "data_dir = \"data_raw/%s/%s/\" % (today.year, ('%02d' % (today.month)))\n",
    "\n",
    "# Dictionary of sources\n",
    "sources = {\"SP500\": {\"name\": \"S&P 500\",\n",
    "                     \"link\": \"https://raw.githubusercontent.com/datasets/s-and-p-500-companies/main/data/constituents.csv\",\n",
    "                     \"format\": \"csv\",\n",
    "                     \"data\": None\n",
    "                     },\n",
    "           \"OSCI\": {\"name\": \"OSCI\",\n",
    "                    # This is the base URL; needs to be fully qualified with year/month.json (ex /monthly/2023/07.json)\n",
    "                    \"link\": \"https://ststaticprodosciwebz2vmu.blob.core.windows.net/data/osci-ranking/monthly/%s/%s.json\" % (today.year, ('%02d' % (today.month-1))),\n",
    "                    \"format\": \"json\",\n",
    "                    \"data\": None\n",
    "                    },\n",
    "           \"TODO\": {\"name\": \"TODO Group Landscape\",\n",
    "                    \"link\": \"https://landscape.todogroup.org/api/export?category=todo-group-member,ospo-adopter&project=&license=&organization=&headquarters=&company-type=&industries=&sort=name&grouping=no&bestpractices=&enduser=&parent=&language=&specification=&format=main\",\n",
    "                    \"format\": \"csv\",\n",
    "                    \"data\": None\n",
    "                    },\n",
    "           \"OSPOPlusPlus\": {\"name\": \"OSPO++\",\n",
    "                            \"link\": \"https://raw.githubusercontent.com/ospoplusplus/ospoplusplus/main/content/about/members/_index.md\",\n",
    "                            \"format\": \"md\",\n",
    "                            \"data\": None\n",
    "                            },\n",
    "           \"OSPOAlliance\": {\"name\": \"OSPO Alliance\",\n",
    "                            \"link\": \"https://gitlab.eclipse.org/eclipse/plato/www/-/raw/main/layouts/shortcodes/section-members.html\",\n",
    "                            \"format\": \"html\",\n",
    "                            \"data\": None\n",
    "                            }\n",
    "           }\n",
    "\n",
    "# Fetch and save the versioned data if it is out of date\n",
    "for key, value in sources.items():\n",
    "    # Check most recent data file\n",
    "    filepath = os.path.join(data_dir, (\"%s.%s\" % (key, value['format'])))\n",
    "    if os.path.isfile(filepath):\n",
    "        print(value['name'], \" is up-to-date\")\n",
    "    else:\n",
    "        # Request the data\n",
    "        try:\n",
    "            req = requests.get(value['link'], stream=True)\n",
    "            req.raise_for_status()\n",
    "            if not os.path.exists(data_dir):\n",
    "                os.makedirs(data_dir)\n",
    "            with open(os.path.join(data_dir, (\"%s.%s\" % (key, value['format']))), \"w\") as f:\n",
    "                f.write(req.text)\n",
    "        except requests.exceptions.HTTPError as e:\n",
    "            print(\"received %s; skipping.\" % (e))\n",
    "            continue\n"
   ]
  },
  {
   "cell_type": "markdown",
   "id": "3692f5d5",
   "metadata": {},
   "source": [
    "## Data setup\n"
   ]
  },
  {
   "cell_type": "markdown",
   "id": "f397fae3",
   "metadata": {},
   "source": [
    "### Create utility functions for parsing specific data sources\n"
   ]
  },
  {
   "cell_type": "code",
   "execution_count": null,
   "id": "9c845088",
   "metadata": {},
   "outputs": [],
   "source": [
    "# Process OSPO++ members\n",
    "def parse_opp(filepath):\n",
    "    regex = r\"(?<=company name\\=)\\\"(.*?)\\\"\"\n",
    "    with open(filepath, 'rt') as f:\n",
    "        raw = f.read()\n",
    "        return pd.DataFrame({'OSPO++ Member': re.findall(regex, raw)})\n",
    "\n",
    "# Process OSPO Alliance members\n",
    "def parse_alliance(filepath):\n",
    "    name_re = r\"(?<=alt\\=)\\\"(.*?)(?= logo|\\\")\"\n",
    "    site_re = r\"(?<=href\\=)\\\"(.*?)(?=\\\")\"\n",
    "    with open(filepath, 'r') as f:\n",
    "        raw = f.read()\n",
    "        return pd.DataFrame({'OSPO Alliance Member': re.findall(name_re, raw), 'Website': re.findall(site_re, raw)})\n"
   ]
  },
  {
   "cell_type": "markdown",
   "id": "c63610d8",
   "metadata": {},
   "source": [
    "### Load the data into Pandas\n"
   ]
  },
  {
   "cell_type": "code",
   "execution_count": null,
   "id": "11f9343e",
   "metadata": {},
   "outputs": [],
   "source": [
    "# Parse and process fetched data files\n",
    "for key, value in sources.items():\n",
    "    format = value['format']\n",
    "    filepath = os.path.join(data_dir, (\"%s.%s\" % (key, format)))\n",
    "    if os.path.isfile(filepath) is False:\n",
    "        continue\n",
    "    if format == 'csv':\n",
    "        value['data'] = pd.read_csv(filepath)\n",
    "    elif format == 'json':\n",
    "        value['data'] = pd.read_json(filepath)\n",
    "        value['data'] = pd.json_normalize(value['data']['data'])\n",
    "    elif format == 'yml' or format == 'yaml':\n",
    "        print(\"file %s has no currently implemented handler\" % (key))\n",
    "    elif format == 'md':\n",
    "        if key == 'OSPOPlusPlus':\n",
    "            value['data'] = parse_opp(filepath)\n",
    "        else:\n",
    "             print(\"file %s has no currently implemented handler\" % (key))\n",
    "    elif format == 'html':\n",
    "        if key == 'OSPOAlliance':\n",
    "            value['data'] = parse_alliance(filepath)\n",
    "        else:\n",
    "             print(\"file %s has no currently implemented handler\" % (key))\n",
    "    else:\n",
    "        print(\"file format %s has no currently implemented handler\" % (format))\n",
    "            "
   ]
  },
  {
   "cell_type": "markdown",
   "id": "11e273c1",
   "metadata": {},
   "source": [
    "### Preview the data\n"
   ]
  },
  {
   "cell_type": "code",
   "execution_count": null,
   "id": "ddce6b95",
   "metadata": {
    "scrolled": true
   },
   "outputs": [],
   "source": [
    "for key, value in sources.items():\n",
    "    print(value['name'], \"\\n------\")\n",
    "    pp.pprint(value['data'].sample(5))\n",
    "    print(\"\\n\")\n"
   ]
  },
  {
   "cell_type": "markdown",
   "id": "07e703ac",
   "metadata": {},
   "source": [
    "### Clean up the data\n"
   ]
  },
  {
   "cell_type": "code",
   "execution_count": null,
   "id": "017235ae",
   "metadata": {},
   "outputs": [],
   "source": [
    "# Rename columns in S&P 500 and add a few fields for comparison purposes\n",
    "sources['SP500']['data'] = sources['SP500']['data'].rename(\n",
    "    columns={'Security': 'company', 'GICS Sector': 'sector'})\n",
    "\n",
    "sources['SP500']['data']['in S&P 500'] = True\n",
    "sources['SP500']['data']['country'] = \"United States\"\n",
    "\n",
    "# Reorder the columns for clarity's sake\n",
    "order = ['company', 'sector', 'country', 'in S&P 500']\n",
    "\n",
    "sources['SP500']['data'] = sources['SP500']['data'].reindex(order, axis=1)\n",
    "\n",
    "# Filter out columns from OSCI that we don't need\n",
    "keep_cols = ['company', 'position', 'industry']\n",
    "sources['OSCI']['data'] = sources['OSCI']['data'].filter(keep_cols)\n",
    "# print(df_osci.head())\n",
    "\n",
    "# Rename columns in OSCI and add a field for comparison purposes\n",
    "sources['OSCI']['data'] = sources['OSCI']['data'].rename(\n",
    "    columns={'position': 'OSCI position', 'industry': 'OSCI sector'})\n",
    "sources['OSCI']['data']['in OSCI'] = True\n",
    "\n",
    "# Reorder the columns for clarity's sake\n",
    "order = ['company', 'OSCI sector', 'OSCI position', 'in OSCI']\n",
    "\n",
    "sources['OSCI']['data'] = sources['OSCI']['data'].reindex(order, axis=1)\n",
    "\n",
    "# Rename columns in OSPO landscape\n",
    "sources['TODO']['data'] = sources['TODO']['data'].rename(columns={\n",
    "    'Name': 'TODO status',\n",
    "    'Organization': 'company',\n",
    "    'Market Cap': 'market cap',\n",
    "    'Crunchbase Country': 'TODO country'\n",
    "})\n",
    "\n",
    "# Only keep certain columns in the data set\n",
    "sources['TODO']['data'] = sources['TODO']['data'].filter(\n",
    "    ['TODO status', 'company', 'market cap', 'TODO country'])\n",
    "\n",
    "# Add a field for comparison purposes\n",
    "sources['TODO']['data']['in TODO landscape'] = True\n",
    "\n",
    "# Filter out those who have not adopted an OSPO\n",
    "sources['TODO']['data'] = sources['TODO']['data'].loc[sources['TODO']['data']['TODO status'].str.contains(\n",
    "    \"adopter\", case=False)]\n",
    "\n",
    "# Reorder the columns for clarity's sake\n",
    "order = ['company', 'TODO country', 'market cap',\n",
    "         'TODO status', 'in TODO landscape']\n",
    "\n",
    "sources['TODO']['data'] = sources['TODO']['data'].reindex(order, axis=1)\n",
    "\n",
    "# Rename columns in OPSO++ landscape\n",
    "sources['OSPOPlusPlus']['data'] = sources['OSPOPlusPlus']['data'].rename(columns={\n",
    "    'OSPO++ Member': 'company'\n",
    "})\n",
    "\n",
    "# Add a field for comparison purposes\n",
    "sources['OSPOPlusPlus']['data']['in OSPO++ landscape'] = True\n",
    "\n",
    "# Rename columns in the OSPO Alliance landscape\n",
    "sources['OSPOAlliance']['data'] = sources['OSPOAlliance']['data'].rename(columns={\n",
    "    'OSPO Alliance Member': 'company', 'Website': 'website'\n",
    "})\n",
    "\n",
    "# Add a field for comparison purposes\n",
    "sources['OSPOAlliance']['data']['in OSPO Alliance'] = True\n"
   ]
  },
  {
   "cell_type": "markdown",
   "id": "deb40433",
   "metadata": {},
   "source": [
    "### Preview the data\n"
   ]
  },
  {
   "cell_type": "code",
   "execution_count": null,
   "id": "b0853747",
   "metadata": {
    "scrolled": true
   },
   "outputs": [],
   "source": [
    "for key, value in sources.items():\n",
    "    print(value['name'], \" has \", len(value['data']), \" items\" \"\\n------\")\n",
    "    pp.pprint(value['data'].sample(5))\n",
    "    print(\"\\n\")\n"
   ]
  },
  {
   "cell_type": "markdown",
   "id": "a1a03c22",
   "metadata": {},
   "source": [
    "### Merge the data sources\n"
   ]
  },
  {
   "cell_type": "code",
   "execution_count": null,
   "id": "125e1972",
   "metadata": {},
   "outputs": [],
   "source": [
    "# First, merge S&P Index and OSCI\n",
    "all_data = sources['SP500']['data'].merge(sources['OSCI']['data'], left_on='company',\n",
    "                                          right_on='company', how='outer')\n",
    "\n",
    "# Second, merge with TODO Group landscape\n",
    "all_data = all_data.merge(sources['TODO']['data'],\n",
    "                          left_on='company',\n",
    "                          right_on='company',\n",
    "                          how='outer')\n",
    "\n",
    "# Third, merge with OSPO++ members\n",
    "all_data = all_data.merge(sources['OSPOPlusPlus']['data'], left_on='company',\n",
    "                          right_on='company', how='outer')\n",
    "\n",
    "# Fourth, merge with OSPO Alliance members\n",
    "all_data = all_data.merge(sources['OSPOAlliance']['data'], left_on='company',\n",
    "                          right_on='company', how='outer')\n",
    "\n",
    "# Prefer S&P data over OSCI and OSPO Landscape data\n",
    "all_data['sector'] = all_data['sector'].mask(\n",
    "    pd.isnull, all_data['OSCI sector'])\n",
    "all_data['country'] = all_data['country'].mask(\n",
    "    pd.isnull, all_data['TODO country'])\n",
    "all_data = all_data.drop(['OSCI sector', 'TODO country'], axis=1)\n",
    "\n",
    "# Update the column order to something logical\n",
    "col_order = ['company', 'sector', 'country', 'website', 'market cap', 'in S&P 500', 'in TODO landscape', 'in OSCI',\n",
    "             'in OSPO++ landscape', 'in OSPO Alliance', 'TODO status', 'OSCI position']\n",
    "\n",
    "all_data = all_data.reindex(col_order, axis=1)\n",
    "all_data.sort_values(by=['company']).head(10)\n"
   ]
  },
  {
   "cell_type": "markdown",
   "id": "c6a781ea",
   "metadata": {},
   "source": [
    "### Do some manual cleanup for known issues\n"
   ]
  },
  {
   "cell_type": "code",
   "execution_count": null,
   "id": "d9016df8",
   "metadata": {},
   "outputs": [],
   "source": [
    "# Google is split across two Alphabet stock options and Google so we'll merge them\n",
    "googles = all_data.loc[all_data['company'].str.contains(\n",
    "    'Alphabet|Google', case=False, regex=True)]\n",
    "google = googles.groupby('country', as_index=False).last()\n",
    "\n",
    "# Update the data set and drop the extraneous entries\n",
    "all_data.set_index('company', inplace=True)\n",
    "all_data.update(google.set_index('company'))\n",
    "all_data.reset_index(inplace=True)\n",
    "all_data[all_data['company'] == 'Google']\n",
    "all_data.drop(googles.iloc[:2].index, inplace=True)\n"
   ]
  },
  {
   "cell_type": "markdown",
   "id": "2c721afb",
   "metadata": {},
   "source": [
    "### Look at a larger sampling of the data\n"
   ]
  },
  {
   "cell_type": "code",
   "execution_count": null,
   "id": "1e1bd00b",
   "metadata": {},
   "outputs": [],
   "source": [
    "all_data.sample(25)\n"
   ]
  },
  {
   "cell_type": "markdown",
   "id": "513b4f78",
   "metadata": {},
   "source": [
    "### Normalize the merged data\n"
   ]
  },
  {
   "cell_type": "code",
   "execution_count": null,
   "id": "69f7e87e",
   "metadata": {},
   "outputs": [],
   "source": [
    "# Normalize the sectors across data sets\n",
    "\n",
    "all_data['sector'].mask(all_data['sector'] ==\n",
    "                        'Information Technology', 'Technology', inplace=True)\n",
    "all_data['sector'].mask(all_data['sector'] == 'Health Care',\n",
    "                        'Healthcare & Pharma', inplace=True)\n",
    "all_data['sector'].mask(all_data['sector'] == 'Financials',\n",
    "                        'Banking, Insurance & Financial Services ', inplace=True)\n",
    "\n",
    "# Fill null values with default ones where needed\n",
    "all_data = all_data.fillna(value={\n",
    "    'in S&P 500': False,\n",
    "    'in TODO landscape': False,\n",
    "    'in OSCI': False,\n",
    "    'OSCI position': 'na',\n",
    "    'TODO status': 'na',\n",
    "    'in OSPO++ landscape': False,\n",
    "    'in OSPO Alliance': False,\n",
    "    'market cap': 'unknown',\n",
    "    'sector': 'unknown',\n",
    "    'website': 'unknown',\n",
    "    'country': 'unknown'\n",
    "})\n"
   ]
  },
  {
   "cell_type": "markdown",
   "id": "e68c8ae0",
   "metadata": {},
   "source": [
    "### Get a sneak peak at the data\n"
   ]
  },
  {
   "cell_type": "code",
   "execution_count": null,
   "id": "9fe936aa",
   "metadata": {},
   "outputs": [],
   "source": [
    "data_sample = all_data.sample(20)\n",
    "data_sample.sort_values(by=['company'])\n"
   ]
  },
  {
   "cell_type": "markdown",
   "id": "f6032585",
   "metadata": {},
   "source": [
    "## Save processed data to file\n"
   ]
  },
  {
   "cell_type": "code",
   "execution_count": null,
   "id": "f8bf74da",
   "metadata": {},
   "outputs": [],
   "source": [
    "output_dir = \"data_derived/%s/%s/\" % (today.year, ('%02d' % (today.month)))\n",
    "output_file = os.path.join(output_dir, \"merged_data.csv\")\n",
    "\n",
    "if not os.path.exists(output_dir):\n",
    "    os.makedirs(output_dir)\n",
    "\n",
    "all_data.to_csv(output_file, index=False)\n"
   ]
  },
  {
   "cell_type": "markdown",
   "id": "e8a5d375",
   "metadata": {},
   "source": [
    "## Proceed to create visualizations\n",
    "\n",
    "Head over to the [Visualizations notebook](Visualizations.ipynb) to generate some charts about the data.\n"
   ]
  }
 ],
 "metadata": {
  "kernelspec": {
   "display_name": "Python 3 (ipykernel)",
   "language": "python",
   "name": "python3"
  },
  "language_info": {
   "codemirror_mode": {
    "name": "ipython",
    "version": 3
   },
   "file_extension": ".py",
   "mimetype": "text/x-python",
   "name": "python",
   "nbconvert_exporter": "python",
   "pygments_lexer": "ipython3",
   "version": "3.10.9"
  }
 },
 "nbformat": 4,
 "nbformat_minor": 5
}
