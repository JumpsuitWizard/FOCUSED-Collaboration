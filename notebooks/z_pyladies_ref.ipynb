{
 "cells": [
  {
   "cell_type": "markdown",
   "metadata": {},
   "source": [
    "## FOCUSED\n",
    "- Author:  Reshama Shaikh\n",
    "\n",
    "## Data Sources\n",
    "1. S&P 500\n",
    "1. OSCI Index\n",
    "1. Suzy spreadsheet\n",
    "1. OSPO Landscape (Todo group)"
   ]
  },
  {
   "cell_type": "markdown",
   "metadata": {},
   "source": [
    "---"
   ]
  },
  {
   "cell_type": "markdown",
   "metadata": {},
   "source": [
    "## Date"
   ]
  },
  {
   "cell_type": "code",
   "execution_count": 1,
   "metadata": {},
   "outputs": [
    {
     "name": "stdout",
     "output_type": "stream",
     "text": [
      "Today's date: 2022-05-31\n"
     ]
    }
   ],
   "source": [
    "from datetime import date\n",
    "\n",
    "current_date = date.today()\n",
    "print(\"Today's date:\", current_date)"
   ]
  },
  {
   "cell_type": "markdown",
   "metadata": {},
   "source": [
    "## Import libraries\n"
   ]
  },
  {
   "cell_type": "code",
   "execution_count": 2,
   "metadata": {},
   "outputs": [],
   "source": [
    "import pandas as pd \n",
    "import numpy as np\n",
    "import requests\n",
    "import time\n",
    "import csv\n",
    "from pprint import pprint"
   ]
  },
  {
   "cell_type": "code",
   "execution_count": 3,
   "metadata": {},
   "outputs": [],
   "source": [
    "import plotly.express as px\n",
    "import plotly.graph_objects as go"
   ]
  },
  {
   "cell_type": "code",
   "execution_count": 4,
   "metadata": {},
   "outputs": [
    {
     "name": "stdout",
     "output_type": "stream",
     "text": [
      "Python implementation: CPython\n",
      "Python version       : 3.9.7\n",
      "IPython version      : 7.25.0\n",
      "\n",
      "Compiler    : Clang 11.1.0 \n",
      "OS          : Darwin\n",
      "Release     : 19.6.0\n",
      "Machine     : x86_64\n",
      "Processor   : i386\n",
      "CPU cores   : 4\n",
      "Architecture: 64bit\n",
      "\n",
      "Git hash: d96b799f1be6702f10c9dfd1db2e11b78710db35\n",
      "\n",
      "pandas  : 1.3.3\n",
      "csv     : 1.0\n",
      "plotly  : 5.4.0\n",
      "requests: 2.25.1\n",
      "numpy   : 1.20.2\n",
      "\n"
     ]
    }
   ],
   "source": [
    "%load_ext watermark\n",
    "%watermark -n -v -m -g -iv"
   ]
  },
  {
   "cell_type": "markdown",
   "metadata": {},
   "source": [
    "## Set pandas view options"
   ]
  },
  {
   "cell_type": "code",
   "execution_count": 5,
   "metadata": {},
   "outputs": [],
   "source": [
    "pd.set_option('display.max_columns', None)\n",
    "pd.set_option('display.max_rows', None)"
   ]
  },
  {
   "cell_type": "markdown",
   "metadata": {},
   "source": [
    "## 1. Data Source:  S&P 500"
   ]
  },
  {
   "cell_type": "code",
   "execution_count": 6,
   "metadata": {},
   "outputs": [],
   "source": [
    "datapath=\"data_raw/\"\n",
    "\n",
    "def get_raw_data(data_url, file_name):\n",
    "    file_url = data_url + \"/\" + file_name\n",
    "    !wget -N {file_url} -P {datapath} \n",
    "    \n",
    "def read_raw_data(file_name):\n",
    "    df_use = pd.read_csv(datapath+file_name)\n",
    "    \n",
    "    return df_use"
   ]
  },
  {
   "cell_type": "code",
   "execution_count": 7,
   "metadata": {},
   "outputs": [],
   "source": [
    "data_url='https://raw.githubusercontent.com/datasets/s-and-p-500-companies/master/data/'\n",
    "file_name = 'constituents.csv'\n",
    "\n",
    "#run once\n",
    "#get_raw_data(data_url, file_name)"
   ]
  },
  {
   "cell_type": "code",
   "execution_count": 8,
   "metadata": {},
   "outputs": [],
   "source": [
    "# run once\n",
    "#!mv data_raw/constituents.csv data_raw/sp500.csv "
   ]
  },
  {
   "cell_type": "code",
   "execution_count": 9,
   "metadata": {},
   "outputs": [
    {
     "name": "stdout",
     "output_type": "stream",
     "text": [
      "(505, 3)\n"
     ]
    },
    {
     "data": {
      "text/html": [
       "<div>\n",
       "<style scoped>\n",
       "    .dataframe tbody tr th:only-of-type {\n",
       "        vertical-align: middle;\n",
       "    }\n",
       "\n",
       "    .dataframe tbody tr th {\n",
       "        vertical-align: top;\n",
       "    }\n",
       "\n",
       "    .dataframe thead th {\n",
       "        text-align: right;\n",
       "    }\n",
       "</style>\n",
       "<table border=\"1\" class=\"dataframe\">\n",
       "  <thead>\n",
       "    <tr style=\"text-align: right;\">\n",
       "      <th></th>\n",
       "      <th>Symbol</th>\n",
       "      <th>Name</th>\n",
       "      <th>Sector</th>\n",
       "    </tr>\n",
       "  </thead>\n",
       "  <tbody>\n",
       "    <tr>\n",
       "      <th>0</th>\n",
       "      <td>MMM</td>\n",
       "      <td>3M</td>\n",
       "      <td>Industrials</td>\n",
       "    </tr>\n",
       "    <tr>\n",
       "      <th>1</th>\n",
       "      <td>AOS</td>\n",
       "      <td>A. O. Smith</td>\n",
       "      <td>Industrials</td>\n",
       "    </tr>\n",
       "    <tr>\n",
       "      <th>2</th>\n",
       "      <td>ABT</td>\n",
       "      <td>Abbott Laboratories</td>\n",
       "      <td>Health Care</td>\n",
       "    </tr>\n",
       "    <tr>\n",
       "      <th>3</th>\n",
       "      <td>ABBV</td>\n",
       "      <td>AbbVie</td>\n",
       "      <td>Health Care</td>\n",
       "    </tr>\n",
       "    <tr>\n",
       "      <th>4</th>\n",
       "      <td>ABMD</td>\n",
       "      <td>Abiomed</td>\n",
       "      <td>Health Care</td>\n",
       "    </tr>\n",
       "  </tbody>\n",
       "</table>\n",
       "</div>"
      ],
      "text/plain": [
       "  Symbol                 Name       Sector\n",
       "0    MMM                   3M  Industrials\n",
       "1    AOS          A. O. Smith  Industrials\n",
       "2    ABT  Abbott Laboratories  Health Care\n",
       "3   ABBV               AbbVie  Health Care\n",
       "4   ABMD              Abiomed  Health Care"
      ]
     },
     "execution_count": 9,
     "metadata": {},
     "output_type": "execute_result"
    }
   ],
   "source": [
    "file_name='sp500.csv'\n",
    "df_sp = read_raw_data(file_name)\n",
    "\n",
    "print(df_sp.shape)\n",
    "df_sp.head(5)"
   ]
  },
  {
   "cell_type": "code",
   "execution_count": 10,
   "metadata": {},
   "outputs": [
    {
     "name": "stdout",
     "output_type": "stream",
     "text": [
      "(505, 5)\n"
     ]
    },
    {
     "data": {
      "text/html": [
       "<div>\n",
       "<style scoped>\n",
       "    .dataframe tbody tr th:only-of-type {\n",
       "        vertical-align: middle;\n",
       "    }\n",
       "\n",
       "    .dataframe tbody tr th {\n",
       "        vertical-align: top;\n",
       "    }\n",
       "\n",
       "    .dataframe thead th {\n",
       "        text-align: right;\n",
       "    }\n",
       "</style>\n",
       "<table border=\"1\" class=\"dataframe\">\n",
       "  <thead>\n",
       "    <tr style=\"text-align: right;\">\n",
       "      <th></th>\n",
       "      <th>symbol</th>\n",
       "      <th>company</th>\n",
       "      <th>sector</th>\n",
       "      <th>in_sp500</th>\n",
       "      <th>country</th>\n",
       "    </tr>\n",
       "  </thead>\n",
       "  <tbody>\n",
       "    <tr>\n",
       "      <th>0</th>\n",
       "      <td>MMM</td>\n",
       "      <td>3M</td>\n",
       "      <td>Industrials</td>\n",
       "      <td>1</td>\n",
       "      <td>United States</td>\n",
       "    </tr>\n",
       "    <tr>\n",
       "      <th>1</th>\n",
       "      <td>AOS</td>\n",
       "      <td>A. O. Smith</td>\n",
       "      <td>Industrials</td>\n",
       "      <td>1</td>\n",
       "      <td>United States</td>\n",
       "    </tr>\n",
       "    <tr>\n",
       "      <th>2</th>\n",
       "      <td>ABT</td>\n",
       "      <td>Abbott Laboratories</td>\n",
       "      <td>Health Care</td>\n",
       "      <td>1</td>\n",
       "      <td>United States</td>\n",
       "    </tr>\n",
       "    <tr>\n",
       "      <th>3</th>\n",
       "      <td>ABBV</td>\n",
       "      <td>AbbVie</td>\n",
       "      <td>Health Care</td>\n",
       "      <td>1</td>\n",
       "      <td>United States</td>\n",
       "    </tr>\n",
       "    <tr>\n",
       "      <th>4</th>\n",
       "      <td>ABMD</td>\n",
       "      <td>Abiomed</td>\n",
       "      <td>Health Care</td>\n",
       "      <td>1</td>\n",
       "      <td>United States</td>\n",
       "    </tr>\n",
       "  </tbody>\n",
       "</table>\n",
       "</div>"
      ],
      "text/plain": [
       "  symbol              company       sector  in_sp500        country\n",
       "0    MMM                   3M  Industrials         1  United States\n",
       "1    AOS          A. O. Smith  Industrials         1  United States\n",
       "2    ABT  Abbott Laboratories  Health Care         1  United States\n",
       "3   ABBV               AbbVie  Health Care         1  United States\n",
       "4   ABMD              Abiomed  Health Care         1  United States"
      ]
     },
     "execution_count": 10,
     "metadata": {},
     "output_type": "execute_result"
    }
   ],
   "source": [
    "df_sp = df_sp.rename(columns=\n",
    "                         {'Name': 'company',\n",
    "                          'Symbol': 'symbol',\n",
    "                          'Sector': 'sector',\n",
    "                          },)\n",
    "\n",
    "df_sp['in_sp500']=1\n",
    "df_sp['country'] = \"United States\"\n",
    "\n",
    "\n",
    "print(df_sp.shape)\n",
    "df_sp.head(5)"
   ]
  },
  {
   "cell_type": "markdown",
   "metadata": {},
   "source": [
    "---"
   ]
  },
  {
   "cell_type": "markdown",
   "metadata": {},
   "source": [
    "## 2. Data Source:  OSCI"
   ]
  },
  {
   "cell_type": "code",
   "execution_count": 11,
   "metadata": {},
   "outputs": [],
   "source": [
    "data_url='https://ststaticprodosciwebz2vmu.blob.core.windows.net/data/osci-ranking/daily'\n",
    "file_name = '2022-04-17.json'\n",
    "\n",
    "#run once\n",
    "#get_raw_data(data_url, file_name)"
   ]
  },
  {
   "cell_type": "code",
   "execution_count": 12,
   "metadata": {},
   "outputs": [],
   "source": [
    "# run once\n",
    "#!mv data_raw/2022-04-17.json data_raw/osci.json "
   ]
  },
  {
   "cell_type": "code",
   "execution_count": 13,
   "metadata": {},
   "outputs": [
    {
     "data": {
      "text/plain": [
       "'osci.json'"
      ]
     },
     "execution_count": 13,
     "metadata": {},
     "output_type": "execute_result"
    }
   ],
   "source": [
    "file_name='osci.json'\n",
    "file_name"
   ]
  },
  {
   "cell_type": "code",
   "execution_count": 14,
   "metadata": {},
   "outputs": [
    {
     "name": "stdout",
     "output_type": "stream",
     "text": [
      "3\n",
      "2\n"
     ]
    }
   ],
   "source": [
    "import json\n",
    " \n",
    "# Opening JSON file\n",
    "f = open('data_raw/osci.json')\n",
    " \n",
    "# returns JSON object as\n",
    "# a dictionary\n",
    "data = json.load(f)\n",
    "\n",
    "print(len(data))\n",
    "#print(data)\n",
    "\n",
    "\n",
    "# Iterating through the json\n",
    "# list\n",
    "for i in data['date'][0]:\n",
    "    print(i)\n",
    " \n",
    "# Closing file\n",
    "f.close()"
   ]
  },
  {
   "cell_type": "code",
   "execution_count": 15,
   "metadata": {},
   "outputs": [],
   "source": [
    "# print(data['date'])\n",
    "# print(type(data))\n",
    "# print(type(data['date']))\n",
    "# #print(data['date'].['comparedDate'])\n",
    "# #print(data['date'][0]['data'])\n",
    "# print(data['date'], data['data'][0]['company'])"
   ]
  },
  {
   "cell_type": "code",
   "execution_count": 16,
   "metadata": {},
   "outputs": [],
   "source": [
    "#pd.read_json('data_raw/osci.json')"
   ]
  },
  {
   "cell_type": "code",
   "execution_count": 17,
   "metadata": {},
   "outputs": [
    {
     "data": {
      "text/html": [
       "<div>\n",
       "<style scoped>\n",
       "    .dataframe tbody tr th:only-of-type {\n",
       "        vertical-align: middle;\n",
       "    }\n",
       "\n",
       "    .dataframe tbody tr th {\n",
       "        vertical-align: top;\n",
       "    }\n",
       "\n",
       "    .dataframe thead th {\n",
       "        text-align: right;\n",
       "    }\n",
       "</style>\n",
       "<table border=\"1\" class=\"dataframe\">\n",
       "  <thead>\n",
       "    <tr style=\"text-align: right;\">\n",
       "      <th></th>\n",
       "      <th>positionChange</th>\n",
       "      <th>company</th>\n",
       "      <th>activeContributors</th>\n",
       "      <th>activeContributorsChange</th>\n",
       "      <th>totalCommunity</th>\n",
       "      <th>totalCommunityChange</th>\n",
       "      <th>position</th>\n",
       "      <th>yoy</th>\n",
       "      <th>contributors</th>\n",
       "      <th>languages</th>\n",
       "      <th>licenses</th>\n",
       "      <th>industry</th>\n",
       "    </tr>\n",
       "  </thead>\n",
       "  <tbody>\n",
       "    <tr>\n",
       "      <th>0</th>\n",
       "      <td>0.0</td>\n",
       "      <td>Google</td>\n",
       "      <td>4017.0</td>\n",
       "      <td>273.0</td>\n",
       "      <td>8676</td>\n",
       "      <td>431.0</td>\n",
       "      <td>1</td>\n",
       "      <td>[{'date': '2020-04-17', 'active': 2587.0}, {'d...</td>\n",
       "      <td>[{'Contributor': 'Modular Magician', 'Commits'...</td>\n",
       "      <td>[{'name': 'Brightscript', 'amount': 5}, {'name...</td>\n",
       "      <td>[{'name': 'apache-2.0', 'amount': 180027}, {'n...</td>\n",
       "      <td>Technology</td>\n",
       "    </tr>\n",
       "  </tbody>\n",
       "</table>\n",
       "</div>"
      ],
      "text/plain": [
       "   positionChange company  activeContributors  activeContributorsChange  \\\n",
       "0             0.0  Google              4017.0                     273.0   \n",
       "\n",
       "   totalCommunity  totalCommunityChange  position  \\\n",
       "0            8676                 431.0         1   \n",
       "\n",
       "                                                 yoy  \\\n",
       "0  [{'date': '2020-04-17', 'active': 2587.0}, {'d...   \n",
       "\n",
       "                                        contributors  \\\n",
       "0  [{'Contributor': 'Modular Magician', 'Commits'...   \n",
       "\n",
       "                                           languages  \\\n",
       "0  [{'name': 'Brightscript', 'amount': 5}, {'name...   \n",
       "\n",
       "                                            licenses    industry  \n",
       "0  [{'name': 'apache-2.0', 'amount': 180027}, {'n...  Technology  "
      ]
     },
     "execution_count": 17,
     "metadata": {},
     "output_type": "execute_result"
    }
   ],
   "source": [
    "# Normalizing data\n",
    "multiple_level_data = pd.json_normalize(data, record_path =['data'])\n",
    "#, meta =['original_number_of_clusters','Scaler','family_min_samples_percentage'], \n",
    "#meta_prefix='config_params_', record_prefix='dbscan_')\n",
    "\n",
    "# Saving to CSV format\n",
    "#multiple_level_data.to_csv('multiplelevel_normalized_data.csv', index=False)\n",
    "\n",
    "multiple_level_data.head(1)"
   ]
  },
  {
   "cell_type": "code",
   "execution_count": 18,
   "metadata": {},
   "outputs": [
    {
     "name": "stdout",
     "output_type": "stream",
     "text": [
      "(298, 9)\n"
     ]
    },
    {
     "data": {
      "text/html": [
       "<div>\n",
       "<style scoped>\n",
       "    .dataframe tbody tr th:only-of-type {\n",
       "        vertical-align: middle;\n",
       "    }\n",
       "\n",
       "    .dataframe tbody tr th {\n",
       "        vertical-align: top;\n",
       "    }\n",
       "\n",
       "    .dataframe thead th {\n",
       "        text-align: right;\n",
       "    }\n",
       "</style>\n",
       "<table border=\"1\" class=\"dataframe\">\n",
       "  <thead>\n",
       "    <tr style=\"text-align: right;\">\n",
       "      <th></th>\n",
       "      <th>positionChange</th>\n",
       "      <th>company</th>\n",
       "      <th>activeContributors</th>\n",
       "      <th>activeContributorsChange</th>\n",
       "      <th>totalCommunity</th>\n",
       "      <th>totalCommunityChange</th>\n",
       "      <th>osci_position</th>\n",
       "      <th>osci_industry</th>\n",
       "      <th>in_osci</th>\n",
       "    </tr>\n",
       "  </thead>\n",
       "  <tbody>\n",
       "    <tr>\n",
       "      <th>0</th>\n",
       "      <td>0.0</td>\n",
       "      <td>Google</td>\n",
       "      <td>4017.0</td>\n",
       "      <td>273.0</td>\n",
       "      <td>8676</td>\n",
       "      <td>431.0</td>\n",
       "      <td>1</td>\n",
       "      <td>Technology</td>\n",
       "      <td>1</td>\n",
       "    </tr>\n",
       "    <tr>\n",
       "      <th>1</th>\n",
       "      <td>0.0</td>\n",
       "      <td>Microsoft</td>\n",
       "      <td>3630.0</td>\n",
       "      <td>308.0</td>\n",
       "      <td>8128</td>\n",
       "      <td>545.0</td>\n",
       "      <td>2</td>\n",
       "      <td>Technology</td>\n",
       "      <td>1</td>\n",
       "    </tr>\n",
       "    <tr>\n",
       "      <th>2</th>\n",
       "      <td>0.0</td>\n",
       "      <td>Red Hat</td>\n",
       "      <td>2965.0</td>\n",
       "      <td>159.0</td>\n",
       "      <td>4594</td>\n",
       "      <td>188.0</td>\n",
       "      <td>3</td>\n",
       "      <td>Technology</td>\n",
       "      <td>1</td>\n",
       "    </tr>\n",
       "    <tr>\n",
       "      <th>3</th>\n",
       "      <td>0.0</td>\n",
       "      <td>Intel</td>\n",
       "      <td>1557.0</td>\n",
       "      <td>112.0</td>\n",
       "      <td>3504</td>\n",
       "      <td>190.0</td>\n",
       "      <td>4</td>\n",
       "      <td>Technology</td>\n",
       "      <td>1</td>\n",
       "    </tr>\n",
       "    <tr>\n",
       "      <th>4</th>\n",
       "      <td>0.0</td>\n",
       "      <td>IBM</td>\n",
       "      <td>1419.0</td>\n",
       "      <td>128.0</td>\n",
       "      <td>3515</td>\n",
       "      <td>259.0</td>\n",
       "      <td>5</td>\n",
       "      <td>Technology</td>\n",
       "      <td>1</td>\n",
       "    </tr>\n",
       "  </tbody>\n",
       "</table>\n",
       "</div>"
      ],
      "text/plain": [
       "   positionChange    company  activeContributors  activeContributorsChange  \\\n",
       "0             0.0     Google              4017.0                     273.0   \n",
       "1             0.0  Microsoft              3630.0                     308.0   \n",
       "2             0.0    Red Hat              2965.0                     159.0   \n",
       "3             0.0      Intel              1557.0                     112.0   \n",
       "4             0.0        IBM              1419.0                     128.0   \n",
       "\n",
       "   totalCommunity  totalCommunityChange  osci_position osci_industry  in_osci  \n",
       "0            8676                 431.0              1    Technology        1  \n",
       "1            8128                 545.0              2    Technology        1  \n",
       "2            4594                 188.0              3    Technology        1  \n",
       "3            3504                 190.0              4    Technology        1  \n",
       "4            3515                 259.0              5    Technology        1  "
      ]
     },
     "execution_count": 18,
     "metadata": {},
     "output_type": "execute_result"
    }
   ],
   "source": [
    "keep_cols = ['positionChange', 'company', 'activeContributors', 'activeContributorsChange', \n",
    "             'totalCommunity', 'totalCommunityChange', 'position', 'industry'\n",
    "            ]\n",
    "\n",
    "df_osci = multiple_level_data.filter(keep_cols)\n",
    "df_osci['in_osci']=1\n",
    "\n",
    "df_osci = df_osci.rename(columns=\n",
    "                         {'position': 'osci_position',\n",
    "                          'industry': 'osci_industry'\n",
    "                             })\n",
    "\n",
    "print(df_osci.shape)\n",
    "df_osci.head(5)"
   ]
  },
  {
   "cell_type": "markdown",
   "metadata": {},
   "source": [
    "## Merge: S&P 500 + OSCI"
   ]
  },
  {
   "cell_type": "code",
   "execution_count": 19,
   "metadata": {},
   "outputs": [
    {
     "name": "stdout",
     "output_type": "stream",
     "text": [
      "(298, 9)\n",
      "298\n",
      "(505, 5)\n",
      "505\n"
     ]
    }
   ],
   "source": [
    "print(df_osci.shape)\n",
    "print(len(df_osci['company'].unique()))\n",
    "\n",
    "print(df_sp.shape)\n",
    "print(len(df_sp['company'].unique()))"
   ]
  },
  {
   "cell_type": "code",
   "execution_count": 20,
   "metadata": {},
   "outputs": [
    {
     "name": "stdout",
     "output_type": "stream",
     "text": [
      "781\n"
     ]
    },
    {
     "data": {
      "text/html": [
       "<div>\n",
       "<style scoped>\n",
       "    .dataframe tbody tr th:only-of-type {\n",
       "        vertical-align: middle;\n",
       "    }\n",
       "\n",
       "    .dataframe tbody tr th {\n",
       "        vertical-align: top;\n",
       "    }\n",
       "\n",
       "    .dataframe thead th {\n",
       "        text-align: right;\n",
       "    }\n",
       "</style>\n",
       "<table border=\"1\" class=\"dataframe\">\n",
       "  <thead>\n",
       "    <tr style=\"text-align: right;\">\n",
       "      <th></th>\n",
       "      <th>symbol</th>\n",
       "      <th>company</th>\n",
       "      <th>sector</th>\n",
       "      <th>in_sp500</th>\n",
       "      <th>country</th>\n",
       "      <th>positionChange</th>\n",
       "      <th>activeContributors</th>\n",
       "      <th>activeContributorsChange</th>\n",
       "      <th>totalCommunity</th>\n",
       "      <th>totalCommunityChange</th>\n",
       "      <th>osci_position</th>\n",
       "      <th>osci_industry</th>\n",
       "      <th>in_osci</th>\n",
       "    </tr>\n",
       "  </thead>\n",
       "  <tbody>\n",
       "    <tr>\n",
       "      <th>0</th>\n",
       "      <td>MMM</td>\n",
       "      <td>3M</td>\n",
       "      <td>Industrials</td>\n",
       "      <td>1.0</td>\n",
       "      <td>United States</td>\n",
       "      <td>NaN</td>\n",
       "      <td>NaN</td>\n",
       "      <td>NaN</td>\n",
       "      <td>NaN</td>\n",
       "      <td>NaN</td>\n",
       "      <td>NaN</td>\n",
       "      <td>NaN</td>\n",
       "      <td>NaN</td>\n",
       "    </tr>\n",
       "    <tr>\n",
       "      <th>1</th>\n",
       "      <td>AOS</td>\n",
       "      <td>A. O. Smith</td>\n",
       "      <td>Industrials</td>\n",
       "      <td>1.0</td>\n",
       "      <td>United States</td>\n",
       "      <td>NaN</td>\n",
       "      <td>NaN</td>\n",
       "      <td>NaN</td>\n",
       "      <td>NaN</td>\n",
       "      <td>NaN</td>\n",
       "      <td>NaN</td>\n",
       "      <td>NaN</td>\n",
       "      <td>NaN</td>\n",
       "    </tr>\n",
       "    <tr>\n",
       "      <th>2</th>\n",
       "      <td>ABT</td>\n",
       "      <td>Abbott Laboratories</td>\n",
       "      <td>Health Care</td>\n",
       "      <td>1.0</td>\n",
       "      <td>United States</td>\n",
       "      <td>NaN</td>\n",
       "      <td>NaN</td>\n",
       "      <td>NaN</td>\n",
       "      <td>NaN</td>\n",
       "      <td>NaN</td>\n",
       "      <td>NaN</td>\n",
       "      <td>NaN</td>\n",
       "      <td>NaN</td>\n",
       "    </tr>\n",
       "    <tr>\n",
       "      <th>3</th>\n",
       "      <td>ABBV</td>\n",
       "      <td>AbbVie</td>\n",
       "      <td>Health Care</td>\n",
       "      <td>1.0</td>\n",
       "      <td>United States</td>\n",
       "      <td>NaN</td>\n",
       "      <td>NaN</td>\n",
       "      <td>NaN</td>\n",
       "      <td>NaN</td>\n",
       "      <td>NaN</td>\n",
       "      <td>NaN</td>\n",
       "      <td>NaN</td>\n",
       "      <td>NaN</td>\n",
       "    </tr>\n",
       "    <tr>\n",
       "      <th>4</th>\n",
       "      <td>ABMD</td>\n",
       "      <td>Abiomed</td>\n",
       "      <td>Health Care</td>\n",
       "      <td>1.0</td>\n",
       "      <td>United States</td>\n",
       "      <td>NaN</td>\n",
       "      <td>NaN</td>\n",
       "      <td>NaN</td>\n",
       "      <td>NaN</td>\n",
       "      <td>NaN</td>\n",
       "      <td>NaN</td>\n",
       "      <td>NaN</td>\n",
       "      <td>NaN</td>\n",
       "    </tr>\n",
       "  </tbody>\n",
       "</table>\n",
       "</div>"
      ],
      "text/plain": [
       "  symbol              company       sector  in_sp500        country  \\\n",
       "0    MMM                   3M  Industrials       1.0  United States   \n",
       "1    AOS          A. O. Smith  Industrials       1.0  United States   \n",
       "2    ABT  Abbott Laboratories  Health Care       1.0  United States   \n",
       "3   ABBV               AbbVie  Health Care       1.0  United States   \n",
       "4   ABMD              Abiomed  Health Care       1.0  United States   \n",
       "\n",
       "   positionChange  activeContributors  activeContributorsChange  \\\n",
       "0             NaN                 NaN                       NaN   \n",
       "1             NaN                 NaN                       NaN   \n",
       "2             NaN                 NaN                       NaN   \n",
       "3             NaN                 NaN                       NaN   \n",
       "4             NaN                 NaN                       NaN   \n",
       "\n",
       "   totalCommunity  totalCommunityChange  osci_position osci_industry  in_osci  \n",
       "0             NaN                   NaN            NaN           NaN      NaN  \n",
       "1             NaN                   NaN            NaN           NaN      NaN  \n",
       "2             NaN                   NaN            NaN           NaN      NaN  \n",
       "3             NaN                   NaN            NaN           NaN      NaN  \n",
       "4             NaN                   NaN            NaN           NaN      NaN  "
      ]
     },
     "execution_count": 20,
     "metadata": {},
     "output_type": "execute_result"
    }
   ],
   "source": [
    "df_parta = df_sp.merge(df_osci, left_on=\"company\", right_on=\"company\", how=\"outer\")\n",
    "print(len(df_parta))\n",
    "df_parta.head()"
   ]
  },
  {
   "cell_type": "code",
   "execution_count": 21,
   "metadata": {},
   "outputs": [
    {
     "name": "stdout",
     "output_type": "stream",
     "text": [
      "781\n"
     ]
    }
   ],
   "source": [
    "print(len(df_parta['company'].unique()))"
   ]
  },
  {
   "cell_type": "code",
   "execution_count": 22,
   "metadata": {},
   "outputs": [],
   "source": [
    "df_parta = df_parta.rename(columns=\n",
    "                         {'position': 'osci_position'\n",
    "                             },)\n",
    "\n",
    "new_order = ['symbol', 'company','sector', 'country','osci_industry',\n",
    "             'in_sp500','in_osci', 'osci_position'\n",
    "            ]\n",
    "\n",
    "df_parta = df_parta.reindex(new_order, axis=1)"
   ]
  },
  {
   "cell_type": "code",
   "execution_count": 23,
   "metadata": {},
   "outputs": [
    {
     "data": {
      "text/html": [
       "<div>\n",
       "<style scoped>\n",
       "    .dataframe tbody tr th:only-of-type {\n",
       "        vertical-align: middle;\n",
       "    }\n",
       "\n",
       "    .dataframe tbody tr th {\n",
       "        vertical-align: top;\n",
       "    }\n",
       "\n",
       "    .dataframe thead th {\n",
       "        text-align: right;\n",
       "    }\n",
       "</style>\n",
       "<table border=\"1\" class=\"dataframe\">\n",
       "  <thead>\n",
       "    <tr style=\"text-align: right;\">\n",
       "      <th></th>\n",
       "      <th>symbol</th>\n",
       "      <th>company</th>\n",
       "      <th>sector</th>\n",
       "      <th>country</th>\n",
       "      <th>osci_industry</th>\n",
       "      <th>in_sp500</th>\n",
       "      <th>in_osci</th>\n",
       "      <th>osci_position</th>\n",
       "    </tr>\n",
       "  </thead>\n",
       "  <tbody>\n",
       "    <tr>\n",
       "      <th>0</th>\n",
       "      <td>MMM</td>\n",
       "      <td>3M</td>\n",
       "      <td>Industrials</td>\n",
       "      <td>United States</td>\n",
       "      <td>NaN</td>\n",
       "      <td>1.0</td>\n",
       "      <td>NaN</td>\n",
       "      <td>NaN</td>\n",
       "    </tr>\n",
       "    <tr>\n",
       "      <th>1</th>\n",
       "      <td>AOS</td>\n",
       "      <td>A. O. Smith</td>\n",
       "      <td>Industrials</td>\n",
       "      <td>United States</td>\n",
       "      <td>NaN</td>\n",
       "      <td>1.0</td>\n",
       "      <td>NaN</td>\n",
       "      <td>NaN</td>\n",
       "    </tr>\n",
       "    <tr>\n",
       "      <th>2</th>\n",
       "      <td>ABT</td>\n",
       "      <td>Abbott Laboratories</td>\n",
       "      <td>Health Care</td>\n",
       "      <td>United States</td>\n",
       "      <td>NaN</td>\n",
       "      <td>1.0</td>\n",
       "      <td>NaN</td>\n",
       "      <td>NaN</td>\n",
       "    </tr>\n",
       "    <tr>\n",
       "      <th>3</th>\n",
       "      <td>ABBV</td>\n",
       "      <td>AbbVie</td>\n",
       "      <td>Health Care</td>\n",
       "      <td>United States</td>\n",
       "      <td>NaN</td>\n",
       "      <td>1.0</td>\n",
       "      <td>NaN</td>\n",
       "      <td>NaN</td>\n",
       "    </tr>\n",
       "    <tr>\n",
       "      <th>4</th>\n",
       "      <td>ABMD</td>\n",
       "      <td>Abiomed</td>\n",
       "      <td>Health Care</td>\n",
       "      <td>United States</td>\n",
       "      <td>NaN</td>\n",
       "      <td>1.0</td>\n",
       "      <td>NaN</td>\n",
       "      <td>NaN</td>\n",
       "    </tr>\n",
       "  </tbody>\n",
       "</table>\n",
       "</div>"
      ],
      "text/plain": [
       "  symbol              company       sector        country osci_industry  \\\n",
       "0    MMM                   3M  Industrials  United States           NaN   \n",
       "1    AOS          A. O. Smith  Industrials  United States           NaN   \n",
       "2    ABT  Abbott Laboratories  Health Care  United States           NaN   \n",
       "3   ABBV               AbbVie  Health Care  United States           NaN   \n",
       "4   ABMD              Abiomed  Health Care  United States           NaN   \n",
       "\n",
       "   in_sp500  in_osci  osci_position  \n",
       "0       1.0      NaN            NaN  \n",
       "1       1.0      NaN            NaN  \n",
       "2       1.0      NaN            NaN  \n",
       "3       1.0      NaN            NaN  \n",
       "4       1.0      NaN            NaN  "
      ]
     },
     "execution_count": 23,
     "metadata": {},
     "output_type": "execute_result"
    }
   ],
   "source": [
    "df_parta.head()"
   ]
  },
  {
   "cell_type": "code",
   "execution_count": 24,
   "metadata": {},
   "outputs": [
    {
     "data": {
      "text/html": [
       "<div>\n",
       "<style scoped>\n",
       "    .dataframe tbody tr th:only-of-type {\n",
       "        vertical-align: middle;\n",
       "    }\n",
       "\n",
       "    .dataframe tbody tr th {\n",
       "        vertical-align: top;\n",
       "    }\n",
       "\n",
       "    .dataframe thead th {\n",
       "        text-align: right;\n",
       "    }\n",
       "</style>\n",
       "<table border=\"1\" class=\"dataframe\">\n",
       "  <thead>\n",
       "    <tr style=\"text-align: right;\">\n",
       "      <th></th>\n",
       "      <th></th>\n",
       "      <th>symbol</th>\n",
       "      <th>company</th>\n",
       "      <th>sector</th>\n",
       "      <th>country</th>\n",
       "      <th>osci_industry</th>\n",
       "      <th>osci_position</th>\n",
       "    </tr>\n",
       "    <tr>\n",
       "      <th>in_sp500</th>\n",
       "      <th>in_osci</th>\n",
       "      <th></th>\n",
       "      <th></th>\n",
       "      <th></th>\n",
       "      <th></th>\n",
       "      <th></th>\n",
       "      <th></th>\n",
       "    </tr>\n",
       "  </thead>\n",
       "  <tbody>\n",
       "    <tr>\n",
       "      <th>1.0</th>\n",
       "      <th>1.0</th>\n",
       "      <td>22</td>\n",
       "      <td>22</td>\n",
       "      <td>22</td>\n",
       "      <td>22</td>\n",
       "      <td>22</td>\n",
       "      <td>22</td>\n",
       "    </tr>\n",
       "  </tbody>\n",
       "</table>\n",
       "</div>"
      ],
      "text/plain": [
       "                  symbol  company  sector  country  osci_industry  \\\n",
       "in_sp500 in_osci                                                    \n",
       "1.0      1.0          22       22      22       22             22   \n",
       "\n",
       "                  osci_position  \n",
       "in_sp500 in_osci                 \n",
       "1.0      1.0                 22  "
      ]
     },
     "execution_count": 24,
     "metadata": {},
     "output_type": "execute_result"
    }
   ],
   "source": [
    "df_check = df_parta.groupby(['in_sp500','in_osci']).count()\n",
    "df_check"
   ]
  },
  {
   "cell_type": "code",
   "execution_count": 25,
   "metadata": {},
   "outputs": [
    {
     "data": {
      "text/html": [
       "<div>\n",
       "<style scoped>\n",
       "    .dataframe tbody tr th:only-of-type {\n",
       "        vertical-align: middle;\n",
       "    }\n",
       "\n",
       "    .dataframe tbody tr th {\n",
       "        vertical-align: top;\n",
       "    }\n",
       "\n",
       "    .dataframe thead th {\n",
       "        text-align: right;\n",
       "    }\n",
       "</style>\n",
       "<table border=\"1\" class=\"dataframe\">\n",
       "  <thead>\n",
       "    <tr style=\"text-align: right;\">\n",
       "      <th></th>\n",
       "      <th>symbol</th>\n",
       "      <th>company</th>\n",
       "      <th>sector</th>\n",
       "      <th>country</th>\n",
       "      <th>osci_industry</th>\n",
       "      <th>in_osci</th>\n",
       "      <th>osci_position</th>\n",
       "    </tr>\n",
       "    <tr>\n",
       "      <th>in_sp500</th>\n",
       "      <th></th>\n",
       "      <th></th>\n",
       "      <th></th>\n",
       "      <th></th>\n",
       "      <th></th>\n",
       "      <th></th>\n",
       "      <th></th>\n",
       "    </tr>\n",
       "  </thead>\n",
       "  <tbody>\n",
       "    <tr>\n",
       "      <th>1.0</th>\n",
       "      <td>505</td>\n",
       "      <td>505</td>\n",
       "      <td>505</td>\n",
       "      <td>505</td>\n",
       "      <td>22</td>\n",
       "      <td>22</td>\n",
       "      <td>22</td>\n",
       "    </tr>\n",
       "  </tbody>\n",
       "</table>\n",
       "</div>"
      ],
      "text/plain": [
       "          symbol  company  sector  country  osci_industry  in_osci  \\\n",
       "in_sp500                                                             \n",
       "1.0          505      505     505      505             22       22   \n",
       "\n",
       "          osci_position  \n",
       "in_sp500                 \n",
       "1.0                  22  "
      ]
     },
     "execution_count": 25,
     "metadata": {},
     "output_type": "execute_result"
    }
   ],
   "source": [
    "df_check = df_parta.groupby(['in_sp500']).count()\n",
    "df_check"
   ]
  },
  {
   "cell_type": "code",
   "execution_count": 26,
   "metadata": {},
   "outputs": [
    {
     "data": {
      "text/html": [
       "<div>\n",
       "<style scoped>\n",
       "    .dataframe tbody tr th:only-of-type {\n",
       "        vertical-align: middle;\n",
       "    }\n",
       "\n",
       "    .dataframe tbody tr th {\n",
       "        vertical-align: top;\n",
       "    }\n",
       "\n",
       "    .dataframe thead th {\n",
       "        text-align: right;\n",
       "    }\n",
       "</style>\n",
       "<table border=\"1\" class=\"dataframe\">\n",
       "  <thead>\n",
       "    <tr style=\"text-align: right;\">\n",
       "      <th></th>\n",
       "      <th>symbol</th>\n",
       "      <th>company</th>\n",
       "      <th>sector</th>\n",
       "      <th>country</th>\n",
       "      <th>osci_industry</th>\n",
       "      <th>in_sp500</th>\n",
       "      <th>osci_position</th>\n",
       "    </tr>\n",
       "    <tr>\n",
       "      <th>in_osci</th>\n",
       "      <th></th>\n",
       "      <th></th>\n",
       "      <th></th>\n",
       "      <th></th>\n",
       "      <th></th>\n",
       "      <th></th>\n",
       "      <th></th>\n",
       "    </tr>\n",
       "  </thead>\n",
       "  <tbody>\n",
       "    <tr>\n",
       "      <th>1.0</th>\n",
       "      <td>22</td>\n",
       "      <td>298</td>\n",
       "      <td>22</td>\n",
       "      <td>22</td>\n",
       "      <td>298</td>\n",
       "      <td>22</td>\n",
       "      <td>298</td>\n",
       "    </tr>\n",
       "  </tbody>\n",
       "</table>\n",
       "</div>"
      ],
      "text/plain": [
       "         symbol  company  sector  country  osci_industry  in_sp500  \\\n",
       "in_osci                                                              \n",
       "1.0          22      298      22       22            298        22   \n",
       "\n",
       "         osci_position  \n",
       "in_osci                 \n",
       "1.0                298  "
      ]
     },
     "execution_count": 26,
     "metadata": {},
     "output_type": "execute_result"
    }
   ],
   "source": [
    "df_check = df_parta.groupby(['in_osci']).count()\n",
    "df_check"
   ]
  },
  {
   "cell_type": "code",
   "execution_count": 27,
   "metadata": {},
   "outputs": [
    {
     "data": {
      "text/plain": [
       "781"
      ]
     },
     "execution_count": 27,
     "metadata": {},
     "output_type": "execute_result"
    }
   ],
   "source": [
    "df_check = df_parta['company'].count() \n",
    "df_check"
   ]
  },
  {
   "cell_type": "code",
   "execution_count": 28,
   "metadata": {},
   "outputs": [],
   "source": [
    "#df_parta.head(5)"
   ]
  },
  {
   "cell_type": "code",
   "execution_count": 29,
   "metadata": {},
   "outputs": [],
   "source": [
    "#df_parta.dtypes"
   ]
  },
  {
   "cell_type": "code",
   "execution_count": 30,
   "metadata": {},
   "outputs": [],
   "source": [
    "#df_sample = df_parta.sample(20)"
   ]
  },
  {
   "cell_type": "code",
   "execution_count": 31,
   "metadata": {},
   "outputs": [],
   "source": [
    "#df_sample.sort_values(by=['company'])"
   ]
  },
  {
   "cell_type": "code",
   "execution_count": 32,
   "metadata": {},
   "outputs": [
    {
     "data": {
      "text/html": [
       "<div>\n",
       "<style scoped>\n",
       "    .dataframe tbody tr th:only-of-type {\n",
       "        vertical-align: middle;\n",
       "    }\n",
       "\n",
       "    .dataframe tbody tr th {\n",
       "        vertical-align: top;\n",
       "    }\n",
       "\n",
       "    .dataframe thead th {\n",
       "        text-align: right;\n",
       "    }\n",
       "</style>\n",
       "<table border=\"1\" class=\"dataframe\">\n",
       "  <thead>\n",
       "    <tr style=\"text-align: right;\">\n",
       "      <th></th>\n",
       "      <th>symbol</th>\n",
       "      <th>company</th>\n",
       "      <th>sector</th>\n",
       "      <th>country</th>\n",
       "      <th>osci_industry</th>\n",
       "      <th>in_sp500</th>\n",
       "      <th>in_osci</th>\n",
       "      <th>osci_position</th>\n",
       "    </tr>\n",
       "  </thead>\n",
       "  <tbody>\n",
       "    <tr>\n",
       "      <th>505</th>\n",
       "      <td>NaN</td>\n",
       "      <td>Google</td>\n",
       "      <td>NaN</td>\n",
       "      <td>NaN</td>\n",
       "      <td>Technology</td>\n",
       "      <td>NaN</td>\n",
       "      <td>1.0</td>\n",
       "      <td>1.0</td>\n",
       "    </tr>\n",
       "  </tbody>\n",
       "</table>\n",
       "</div>"
      ],
      "text/plain": [
       "    symbol company sector country osci_industry  in_sp500  in_osci  \\\n",
       "505    NaN  Google    NaN     NaN    Technology       NaN      1.0   \n",
       "\n",
       "     osci_position  \n",
       "505            1.0  "
      ]
     },
     "execution_count": 32,
     "metadata": {},
     "output_type": "execute_result"
    }
   ],
   "source": [
    "df_parta[df_parta['company']==\"Google\"]"
   ]
  },
  {
   "cell_type": "code",
   "execution_count": 33,
   "metadata": {},
   "outputs": [
    {
     "data": {
      "text/html": [
       "<div>\n",
       "<style scoped>\n",
       "    .dataframe tbody tr th:only-of-type {\n",
       "        vertical-align: middle;\n",
       "    }\n",
       "\n",
       "    .dataframe tbody tr th {\n",
       "        vertical-align: top;\n",
       "    }\n",
       "\n",
       "    .dataframe thead th {\n",
       "        text-align: right;\n",
       "    }\n",
       "</style>\n",
       "<table border=\"1\" class=\"dataframe\">\n",
       "  <thead>\n",
       "    <tr style=\"text-align: right;\">\n",
       "      <th></th>\n",
       "      <th>symbol</th>\n",
       "      <th>company</th>\n",
       "      <th>sector</th>\n",
       "      <th>country</th>\n",
       "      <th>osci_industry</th>\n",
       "      <th>in_sp500</th>\n",
       "      <th>in_osci</th>\n",
       "      <th>osci_position</th>\n",
       "    </tr>\n",
       "  </thead>\n",
       "  <tbody>\n",
       "    <tr>\n",
       "      <th>0</th>\n",
       "      <td>MMM</td>\n",
       "      <td>3M</td>\n",
       "      <td>Industrials</td>\n",
       "      <td>United States</td>\n",
       "      <td>NaN</td>\n",
       "      <td>1.0</td>\n",
       "      <td>NaN</td>\n",
       "      <td>NaN</td>\n",
       "    </tr>\n",
       "    <tr>\n",
       "      <th>767</th>\n",
       "      <td>NaN</td>\n",
       "      <td>4teamwork</td>\n",
       "      <td>NaN</td>\n",
       "      <td>NaN</td>\n",
       "      <td>Technology</td>\n",
       "      <td>NaN</td>\n",
       "      <td>1.0</td>\n",
       "      <td>285.0</td>\n",
       "    </tr>\n",
       "    <tr>\n",
       "      <th>758</th>\n",
       "      <td>NaN</td>\n",
       "      <td>5minds</td>\n",
       "      <td>NaN</td>\n",
       "      <td>NaN</td>\n",
       "      <td>Technology</td>\n",
       "      <td>NaN</td>\n",
       "      <td>1.0</td>\n",
       "      <td>276.0</td>\n",
       "    </tr>\n",
       "    <tr>\n",
       "      <th>1</th>\n",
       "      <td>AOS</td>\n",
       "      <td>A. O. Smith</td>\n",
       "      <td>Industrials</td>\n",
       "      <td>United States</td>\n",
       "      <td>NaN</td>\n",
       "      <td>1.0</td>\n",
       "      <td>NaN</td>\n",
       "      <td>NaN</td>\n",
       "    </tr>\n",
       "    <tr>\n",
       "      <th>7</th>\n",
       "      <td>ADM</td>\n",
       "      <td>ADM</td>\n",
       "      <td>Consumer Staples</td>\n",
       "      <td>United States</td>\n",
       "      <td>NaN</td>\n",
       "      <td>1.0</td>\n",
       "      <td>NaN</td>\n",
       "      <td>NaN</td>\n",
       "    </tr>\n",
       "  </tbody>\n",
       "</table>\n",
       "</div>"
      ],
      "text/plain": [
       "    symbol      company            sector        country osci_industry  \\\n",
       "0      MMM           3M       Industrials  United States           NaN   \n",
       "767    NaN    4teamwork               NaN            NaN    Technology   \n",
       "758    NaN       5minds               NaN            NaN    Technology   \n",
       "1      AOS  A. O. Smith       Industrials  United States           NaN   \n",
       "7      ADM          ADM  Consumer Staples  United States           NaN   \n",
       "\n",
       "     in_sp500  in_osci  osci_position  \n",
       "0         1.0      NaN            NaN  \n",
       "767       NaN      1.0          285.0  \n",
       "758       NaN      1.0          276.0  \n",
       "1         1.0      NaN            NaN  \n",
       "7         1.0      NaN            NaN  "
      ]
     },
     "execution_count": 33,
     "metadata": {},
     "output_type": "execute_result"
    }
   ],
   "source": [
    "df_sorted = df_parta.sort_values(by=['company'])\n",
    "df_sorted.head(5)"
   ]
  },
  {
   "cell_type": "code",
   "execution_count": 34,
   "metadata": {},
   "outputs": [
    {
     "data": {
      "text/html": [
       "<div>\n",
       "<style scoped>\n",
       "    .dataframe tbody tr th:only-of-type {\n",
       "        vertical-align: middle;\n",
       "    }\n",
       "\n",
       "    .dataframe tbody tr th {\n",
       "        vertical-align: top;\n",
       "    }\n",
       "\n",
       "    .dataframe thead th {\n",
       "        text-align: right;\n",
       "    }\n",
       "</style>\n",
       "<table border=\"1\" class=\"dataframe\">\n",
       "  <thead>\n",
       "    <tr style=\"text-align: right;\">\n",
       "      <th></th>\n",
       "      <th>symbol</th>\n",
       "      <th>company</th>\n",
       "      <th>sector</th>\n",
       "      <th>country</th>\n",
       "      <th>osci_industry</th>\n",
       "      <th>in_sp500</th>\n",
       "      <th>in_osci</th>\n",
       "      <th>osci_position</th>\n",
       "    </tr>\n",
       "  </thead>\n",
       "  <tbody>\n",
       "    <tr>\n",
       "      <th>727</th>\n",
       "      <td>NaN</td>\n",
       "      <td>Loodos Tech</td>\n",
       "      <td>NaN</td>\n",
       "      <td>NaN</td>\n",
       "      <td>Technology</td>\n",
       "      <td>NaN</td>\n",
       "      <td>1.0</td>\n",
       "      <td>244.0</td>\n",
       "    </tr>\n",
       "    <tr>\n",
       "      <th>572</th>\n",
       "      <td>NaN</td>\n",
       "      <td>Twilio</td>\n",
       "      <td>NaN</td>\n",
       "      <td>NaN</td>\n",
       "      <td>Technology</td>\n",
       "      <td>NaN</td>\n",
       "      <td>1.0</td>\n",
       "      <td>85.0</td>\n",
       "    </tr>\n",
       "    <tr>\n",
       "      <th>239</th>\n",
       "      <td>HII</td>\n",
       "      <td>Huntington Ingalls Industries</td>\n",
       "      <td>Industrials</td>\n",
       "      <td>United States</td>\n",
       "      <td>NaN</td>\n",
       "      <td>1.0</td>\n",
       "      <td>NaN</td>\n",
       "      <td>NaN</td>\n",
       "    </tr>\n",
       "    <tr>\n",
       "      <th>632</th>\n",
       "      <td>NaN</td>\n",
       "      <td>Adguard</td>\n",
       "      <td>NaN</td>\n",
       "      <td>NaN</td>\n",
       "      <td>Technology</td>\n",
       "      <td>NaN</td>\n",
       "      <td>1.0</td>\n",
       "      <td>149.0</td>\n",
       "    </tr>\n",
       "    <tr>\n",
       "      <th>763</th>\n",
       "      <td>NaN</td>\n",
       "      <td>Renovateapp</td>\n",
       "      <td>NaN</td>\n",
       "      <td>NaN</td>\n",
       "      <td>Technology</td>\n",
       "      <td>NaN</td>\n",
       "      <td>1.0</td>\n",
       "      <td>281.0</td>\n",
       "    </tr>\n",
       "    <tr>\n",
       "      <th>218</th>\n",
       "      <td>GPN</td>\n",
       "      <td>Global Payments</td>\n",
       "      <td>Information Technology</td>\n",
       "      <td>United States</td>\n",
       "      <td>NaN</td>\n",
       "      <td>1.0</td>\n",
       "      <td>NaN</td>\n",
       "      <td>NaN</td>\n",
       "    </tr>\n",
       "    <tr>\n",
       "      <th>672</th>\n",
       "      <td>NaN</td>\n",
       "      <td>Block.one</td>\n",
       "      <td>NaN</td>\n",
       "      <td>NaN</td>\n",
       "      <td>Technology</td>\n",
       "      <td>NaN</td>\n",
       "      <td>1.0</td>\n",
       "      <td>189.0</td>\n",
       "    </tr>\n",
       "    <tr>\n",
       "      <th>516</th>\n",
       "      <td>NaN</td>\n",
       "      <td>EPAM</td>\n",
       "      <td>NaN</td>\n",
       "      <td>NaN</td>\n",
       "      <td>Technology</td>\n",
       "      <td>NaN</td>\n",
       "      <td>1.0</td>\n",
       "      <td>19.0</td>\n",
       "    </tr>\n",
       "    <tr>\n",
       "      <th>612</th>\n",
       "      <td>NaN</td>\n",
       "      <td>Arbisoft</td>\n",
       "      <td>NaN</td>\n",
       "      <td>NaN</td>\n",
       "      <td>Technology</td>\n",
       "      <td>NaN</td>\n",
       "      <td>1.0</td>\n",
       "      <td>129.0</td>\n",
       "    </tr>\n",
       "    <tr>\n",
       "      <th>740</th>\n",
       "      <td>NaN</td>\n",
       "      <td>JankariTech</td>\n",
       "      <td>NaN</td>\n",
       "      <td>NaN</td>\n",
       "      <td>Technology</td>\n",
       "      <td>NaN</td>\n",
       "      <td>1.0</td>\n",
       "      <td>258.0</td>\n",
       "    </tr>\n",
       "  </tbody>\n",
       "</table>\n",
       "</div>"
      ],
      "text/plain": [
       "    symbol                        company                  sector  \\\n",
       "727    NaN                    Loodos Tech                     NaN   \n",
       "572    NaN                         Twilio                     NaN   \n",
       "239    HII  Huntington Ingalls Industries             Industrials   \n",
       "632    NaN                        Adguard                     NaN   \n",
       "763    NaN                    Renovateapp                     NaN   \n",
       "218    GPN                Global Payments  Information Technology   \n",
       "672    NaN                      Block.one                     NaN   \n",
       "516    NaN                           EPAM                     NaN   \n",
       "612    NaN                       Arbisoft                     NaN   \n",
       "740    NaN                    JankariTech                     NaN   \n",
       "\n",
       "           country osci_industry  in_sp500  in_osci  osci_position  \n",
       "727            NaN    Technology       NaN      1.0          244.0  \n",
       "572            NaN    Technology       NaN      1.0           85.0  \n",
       "239  United States           NaN       1.0      NaN            NaN  \n",
       "632            NaN    Technology       NaN      1.0          149.0  \n",
       "763            NaN    Technology       NaN      1.0          281.0  \n",
       "218  United States           NaN       1.0      NaN            NaN  \n",
       "672            NaN    Technology       NaN      1.0          189.0  \n",
       "516            NaN    Technology       NaN      1.0           19.0  \n",
       "612            NaN    Technology       NaN      1.0          129.0  \n",
       "740            NaN    Technology       NaN      1.0          258.0  "
      ]
     },
     "execution_count": 34,
     "metadata": {},
     "output_type": "execute_result"
    }
   ],
   "source": [
    "df_sample = df_sorted.sample(10)\n",
    "df_sample"
   ]
  },
  {
   "cell_type": "markdown",
   "metadata": {},
   "source": [
    "## 3. Data Source:  Suzy spreadsheet"
   ]
  },
  {
   "cell_type": "code",
   "execution_count": 35,
   "metadata": {},
   "outputs": [
    {
     "data": {
      "text/html": [
       "<div>\n",
       "<style scoped>\n",
       "    .dataframe tbody tr th:only-of-type {\n",
       "        vertical-align: middle;\n",
       "    }\n",
       "\n",
       "    .dataframe tbody tr th {\n",
       "        vertical-align: top;\n",
       "    }\n",
       "\n",
       "    .dataframe thead th {\n",
       "        text-align: right;\n",
       "    }\n",
       "</style>\n",
       "<table border=\"1\" class=\"dataframe\">\n",
       "  <thead>\n",
       "    <tr style=\"text-align: right;\">\n",
       "      <th></th>\n",
       "      <th>company</th>\n",
       "      <th>date_updated_suzy</th>\n",
       "      <th>Main Business</th>\n",
       "      <th>Area of Business Value</th>\n",
       "      <th>relevance</th>\n",
       "      <th>os_engagement</th>\n",
       "      <th>todo_member</th>\n",
       "      <th>todo_adopter</th>\n",
       "      <th>Linux Foundation (Platinum + Gold)</th>\n",
       "      <th>GitHub list https://github.com/collections/open-source-organizations</th>\n",
       "      <th>OSCI Index top 60(as of Feb 2021)</th>\n",
       "      <th>Reasoning</th>\n",
       "      <th>GitHub</th>\n",
       "      <th>Note</th>\n",
       "      <th>Response to survey</th>\n",
       "      <th>Survey: What do you consider to be your company's dominant open source investment where there are likely shared dependencies?</th>\n",
       "      <th>Survey: Want to hear more?</th>\n",
       "      <th>Emailed to:</th>\n",
       "      <th>in_suzy</th>\n",
       "    </tr>\n",
       "  </thead>\n",
       "  <tbody>\n",
       "    <tr>\n",
       "      <th>0</th>\n",
       "      <td>AT&amp;T</td>\n",
       "      <td>5/7/21</td>\n",
       "      <td>Telcom/operator is main revenue source (also m...</td>\n",
       "      <td>software</td>\n",
       "      <td>Accelerant</td>\n",
       "      <td>Co-Leading</td>\n",
       "      <td>NaN</td>\n",
       "      <td>NaN</td>\n",
       "      <td>X</td>\n",
       "      <td>NaN</td>\n",
       "      <td>NaN</td>\n",
       "      <td>I sense that AT&amp;T sees investments as strategi...</td>\n",
       "      <td>NaN</td>\n",
       "      <td>NaN</td>\n",
       "      <td>NaN</td>\n",
       "      <td>NaN</td>\n",
       "      <td>NaN</td>\n",
       "      <td>NaN</td>\n",
       "      <td>1</td>\n",
       "    </tr>\n",
       "    <tr>\n",
       "      <th>1</th>\n",
       "      <td>SAIC</td>\n",
       "      <td>5/7/21</td>\n",
       "      <td>SAIC integrates multiple disciplines to provid...</td>\n",
       "      <td>services</td>\n",
       "      <td>Accelerant</td>\n",
       "      <td>Combining</td>\n",
       "      <td>NaN</td>\n",
       "      <td>NaN</td>\n",
       "      <td>NaN</td>\n",
       "      <td>NaN</td>\n",
       "      <td>NaN</td>\n",
       "      <td>SAIC gov't focused. They contribute (e.g. RedH...</td>\n",
       "      <td>https://github.com/saic-oss</td>\n",
       "      <td>NaN</td>\n",
       "      <td>NaN</td>\n",
       "      <td>NaN</td>\n",
       "      <td>NaN</td>\n",
       "      <td>NaN</td>\n",
       "      <td>1</td>\n",
       "    </tr>\n",
       "    <tr>\n",
       "      <th>2</th>\n",
       "      <td>Vapor IO</td>\n",
       "      <td>5/7/21</td>\n",
       "      <td>edge computing infra</td>\n",
       "      <td>software</td>\n",
       "      <td>Accelerant</td>\n",
       "      <td>Co-Leading</td>\n",
       "      <td>NaN</td>\n",
       "      <td>NaN</td>\n",
       "      <td>NaN</td>\n",
       "      <td>NaN</td>\n",
       "      <td>NaN</td>\n",
       "      <td>Using os for trust, function, ecosystem develo...</td>\n",
       "      <td>NaN</td>\n",
       "      <td>NaN</td>\n",
       "      <td>NaN</td>\n",
       "      <td>NaN</td>\n",
       "      <td>NaN</td>\n",
       "      <td>NaN</td>\n",
       "      <td>1</td>\n",
       "    </tr>\n",
       "  </tbody>\n",
       "</table>\n",
       "</div>"
      ],
      "text/plain": [
       "    company date_updated_suzy  \\\n",
       "0      AT&T            5/7/21   \n",
       "1      SAIC            5/7/21   \n",
       "2  Vapor IO            5/7/21   \n",
       "\n",
       "                                      Main Business  Area of Business Value  \\\n",
       "0  Telcom/operator is main revenue source (also m...               software   \n",
       "1  SAIC integrates multiple disciplines to provid...               services   \n",
       "2                               edge computing infra               software   \n",
       "\n",
       "    relevance os_engagement todo_member todo_adopter  \\\n",
       "0  Accelerant    Co-Leading         NaN          NaN   \n",
       "1  Accelerant     Combining         NaN          NaN   \n",
       "2  Accelerant    Co-Leading         NaN          NaN   \n",
       "\n",
       "  Linux Foundation (Platinum + Gold)  \\\n",
       "0                                  X   \n",
       "1                                NaN   \n",
       "2                                NaN   \n",
       "\n",
       "  GitHub list https://github.com/collections/open-source-organizations  \\\n",
       "0                                                NaN                     \n",
       "1                                                NaN                     \n",
       "2                                                NaN                     \n",
       "\n",
       "  OSCI Index top 60(as of Feb 2021)  \\\n",
       "0                               NaN   \n",
       "1                               NaN   \n",
       "2                               NaN   \n",
       "\n",
       "                                           Reasoning  \\\n",
       "0  I sense that AT&T sees investments as strategi...   \n",
       "1  SAIC gov't focused. They contribute (e.g. RedH...   \n",
       "2  Using os for trust, function, ecosystem develo...   \n",
       "\n",
       "                        GitHub Note Response to survey  \\\n",
       "0                          NaN  NaN                NaN   \n",
       "1  https://github.com/saic-oss  NaN                NaN   \n",
       "2                          NaN  NaN                NaN   \n",
       "\n",
       "  Survey: What do you consider to be your company's dominant open source investment where there are likely shared dependencies?   \\\n",
       "0                                                NaN                                                                               \n",
       "1                                                NaN                                                                               \n",
       "2                                                NaN                                                                               \n",
       "\n",
       "  Survey: Want to hear more?  Emailed to:  in_suzy  \n",
       "0                         NaN         NaN        1  \n",
       "1                         NaN         NaN        1  \n",
       "2                         NaN         NaN        1  "
      ]
     },
     "execution_count": 35,
     "metadata": {},
     "output_type": "execute_result"
    }
   ],
   "source": [
    "file_name = 'classification_suzy.csv'\n",
    "\n",
    "df_suzy = pd.read_csv('data_raw/'+file_name)\n",
    "df_suzy['in_suzy']=1\n",
    "\n",
    "df_suzy = df_suzy.rename(columns=\n",
    "                         {'Company': 'company',\n",
    "                          'Level of Engagement': 'os_engagement',\n",
    "                          'TODO Member': 'todo_member',\n",
    "                          'TODO Adopter': 'todo_adopter',\n",
    "                          'Main Business': 'area',\n",
    "                          'Relevance to Core Business': 'relevance'\n",
    "                                                       },)\n",
    "\n",
    "df_suzy.head(3)"
   ]
  },
  {
   "cell_type": "code",
   "execution_count": 36,
   "metadata": {},
   "outputs": [
    {
     "name": "stdout",
     "output_type": "stream",
     "text": [
      "(141, 4)\n"
     ]
    },
    {
     "data": {
      "text/html": [
       "<div>\n",
       "<style scoped>\n",
       "    .dataframe tbody tr th:only-of-type {\n",
       "        vertical-align: middle;\n",
       "    }\n",
       "\n",
       "    .dataframe tbody tr th {\n",
       "        vertical-align: top;\n",
       "    }\n",
       "\n",
       "    .dataframe thead th {\n",
       "        text-align: right;\n",
       "    }\n",
       "</style>\n",
       "<table border=\"1\" class=\"dataframe\">\n",
       "  <thead>\n",
       "    <tr style=\"text-align: right;\">\n",
       "      <th></th>\n",
       "      <th>company</th>\n",
       "      <th>os_engagement</th>\n",
       "      <th>in_suzy</th>\n",
       "      <th>relevance</th>\n",
       "    </tr>\n",
       "  </thead>\n",
       "  <tbody>\n",
       "    <tr>\n",
       "      <th>0</th>\n",
       "      <td>AT&amp;T</td>\n",
       "      <td>Co-Leading</td>\n",
       "      <td>1</td>\n",
       "      <td>Accelerant</td>\n",
       "    </tr>\n",
       "    <tr>\n",
       "      <th>1</th>\n",
       "      <td>SAIC</td>\n",
       "      <td>Combining</td>\n",
       "      <td>1</td>\n",
       "      <td>Accelerant</td>\n",
       "    </tr>\n",
       "    <tr>\n",
       "      <th>2</th>\n",
       "      <td>Vapor IO</td>\n",
       "      <td>Co-Leading</td>\n",
       "      <td>1</td>\n",
       "      <td>Accelerant</td>\n",
       "    </tr>\n",
       "  </tbody>\n",
       "</table>\n",
       "</div>"
      ],
      "text/plain": [
       "    company os_engagement  in_suzy   relevance\n",
       "0      AT&T    Co-Leading        1  Accelerant\n",
       "1      SAIC     Combining        1  Accelerant\n",
       "2  Vapor IO    Co-Leading        1  Accelerant"
      ]
     },
     "execution_count": 36,
     "metadata": {},
     "output_type": "execute_result"
    }
   ],
   "source": [
    "keep_cols = ['company', 'area','os_engagement', 'in_suzy', 'relevance' \n",
    "            ]\n",
    "            #'activeContributors', 'activeContributorsChange', \n",
    "            # 'totalCommunity', 'totalCommunityChange', 'position', 'industry'\n",
    "            #]\n",
    "\n",
    "df_suzy = df_suzy.filter(keep_cols)\n",
    "\n",
    "print(df_suzy.shape)\n",
    "df_suzy.head(3)"
   ]
  },
  {
   "cell_type": "code",
   "execution_count": 37,
   "metadata": {},
   "outputs": [
    {
     "name": "stdout",
     "output_type": "stream",
     "text": [
      "141\n"
     ]
    }
   ],
   "source": [
    "print(len(df_suzy['company'].unique()))"
   ]
  },
  {
   "cell_type": "code",
   "execution_count": 38,
   "metadata": {},
   "outputs": [
    {
     "data": {
      "text/html": [
       "<div>\n",
       "<style scoped>\n",
       "    .dataframe tbody tr th:only-of-type {\n",
       "        vertical-align: middle;\n",
       "    }\n",
       "\n",
       "    .dataframe tbody tr th {\n",
       "        vertical-align: top;\n",
       "    }\n",
       "\n",
       "    .dataframe thead th {\n",
       "        text-align: right;\n",
       "    }\n",
       "</style>\n",
       "<table border=\"1\" class=\"dataframe\">\n",
       "  <thead>\n",
       "    <tr style=\"text-align: right;\">\n",
       "      <th></th>\n",
       "      <th>company</th>\n",
       "      <th>os_engagement</th>\n",
       "      <th>relevance</th>\n",
       "    </tr>\n",
       "    <tr>\n",
       "      <th>in_suzy</th>\n",
       "      <th></th>\n",
       "      <th></th>\n",
       "      <th></th>\n",
       "    </tr>\n",
       "  </thead>\n",
       "  <tbody>\n",
       "    <tr>\n",
       "      <th>1</th>\n",
       "      <td>141</td>\n",
       "      <td>55</td>\n",
       "      <td>55</td>\n",
       "    </tr>\n",
       "  </tbody>\n",
       "</table>\n",
       "</div>"
      ],
      "text/plain": [
       "         company  os_engagement  relevance\n",
       "in_suzy                                   \n",
       "1            141             55         55"
      ]
     },
     "execution_count": 38,
     "metadata": {},
     "output_type": "execute_result"
    }
   ],
   "source": [
    "df_check = df_suzy.groupby(['in_suzy']).count()\n",
    "df_check"
   ]
  },
  {
   "cell_type": "markdown",
   "metadata": {},
   "source": [
    "## Merge: S&P 500 + OSCI + Suzy"
   ]
  },
  {
   "cell_type": "code",
   "execution_count": 39,
   "metadata": {},
   "outputs": [
    {
     "name": "stdout",
     "output_type": "stream",
     "text": [
      "(781, 8)\n",
      "781\n",
      "(141, 4)\n",
      "141\n"
     ]
    }
   ],
   "source": [
    "print(df_parta.shape)\n",
    "print(len(df_parta['company'].unique()))\n",
    "\n",
    "print(df_suzy.shape)\n",
    "print(len(df_suzy['company'].unique()))"
   ]
  },
  {
   "cell_type": "code",
   "execution_count": 40,
   "metadata": {},
   "outputs": [
    {
     "name": "stdout",
     "output_type": "stream",
     "text": [
      "(875, 12)\n"
     ]
    },
    {
     "data": {
      "text/html": [
       "<div>\n",
       "<style scoped>\n",
       "    .dataframe tbody tr th:only-of-type {\n",
       "        vertical-align: middle;\n",
       "    }\n",
       "\n",
       "    .dataframe tbody tr th {\n",
       "        vertical-align: top;\n",
       "    }\n",
       "\n",
       "    .dataframe thead th {\n",
       "        text-align: right;\n",
       "    }\n",
       "</style>\n",
       "<table border=\"1\" class=\"dataframe\">\n",
       "  <thead>\n",
       "    <tr style=\"text-align: right;\">\n",
       "      <th></th>\n",
       "      <th>symbol</th>\n",
       "      <th>company</th>\n",
       "      <th>sector</th>\n",
       "      <th>country</th>\n",
       "      <th>osci_industry</th>\n",
       "      <th>in_sp500</th>\n",
       "      <th>in_osci</th>\n",
       "      <th>osci_position</th>\n",
       "      <th>os_engagement</th>\n",
       "      <th>in_suzy</th>\n",
       "      <th>relevance</th>\n",
       "      <th>company_count</th>\n",
       "    </tr>\n",
       "  </thead>\n",
       "  <tbody>\n",
       "    <tr>\n",
       "      <th>0</th>\n",
       "      <td>MMM</td>\n",
       "      <td>3M</td>\n",
       "      <td>Industrials</td>\n",
       "      <td>United States</td>\n",
       "      <td>NaN</td>\n",
       "      <td>1.0</td>\n",
       "      <td>NaN</td>\n",
       "      <td>NaN</td>\n",
       "      <td>NaN</td>\n",
       "      <td>NaN</td>\n",
       "      <td>NaN</td>\n",
       "      <td>1</td>\n",
       "    </tr>\n",
       "    <tr>\n",
       "      <th>1</th>\n",
       "      <td>NaN</td>\n",
       "      <td>4teamwork</td>\n",
       "      <td>NaN</td>\n",
       "      <td>NaN</td>\n",
       "      <td>Technology</td>\n",
       "      <td>NaN</td>\n",
       "      <td>1.0</td>\n",
       "      <td>285.0</td>\n",
       "      <td>NaN</td>\n",
       "      <td>NaN</td>\n",
       "      <td>NaN</td>\n",
       "      <td>1</td>\n",
       "    </tr>\n",
       "    <tr>\n",
       "      <th>2</th>\n",
       "      <td>NaN</td>\n",
       "      <td>5minds</td>\n",
       "      <td>NaN</td>\n",
       "      <td>NaN</td>\n",
       "      <td>Technology</td>\n",
       "      <td>NaN</td>\n",
       "      <td>1.0</td>\n",
       "      <td>276.0</td>\n",
       "      <td>NaN</td>\n",
       "      <td>NaN</td>\n",
       "      <td>NaN</td>\n",
       "      <td>1</td>\n",
       "    </tr>\n",
       "    <tr>\n",
       "      <th>3</th>\n",
       "      <td>AOS</td>\n",
       "      <td>A. O. Smith</td>\n",
       "      <td>Industrials</td>\n",
       "      <td>United States</td>\n",
       "      <td>NaN</td>\n",
       "      <td>1.0</td>\n",
       "      <td>NaN</td>\n",
       "      <td>NaN</td>\n",
       "      <td>NaN</td>\n",
       "      <td>NaN</td>\n",
       "      <td>NaN</td>\n",
       "      <td>1</td>\n",
       "    </tr>\n",
       "    <tr>\n",
       "      <th>4</th>\n",
       "      <td>ADM</td>\n",
       "      <td>ADM</td>\n",
       "      <td>Consumer Staples</td>\n",
       "      <td>United States</td>\n",
       "      <td>NaN</td>\n",
       "      <td>1.0</td>\n",
       "      <td>NaN</td>\n",
       "      <td>NaN</td>\n",
       "      <td>NaN</td>\n",
       "      <td>NaN</td>\n",
       "      <td>NaN</td>\n",
       "      <td>1</td>\n",
       "    </tr>\n",
       "  </tbody>\n",
       "</table>\n",
       "</div>"
      ],
      "text/plain": [
       "  symbol      company            sector        country osci_industry  \\\n",
       "0    MMM           3M       Industrials  United States           NaN   \n",
       "1    NaN    4teamwork               NaN            NaN    Technology   \n",
       "2    NaN       5minds               NaN            NaN    Technology   \n",
       "3    AOS  A. O. Smith       Industrials  United States           NaN   \n",
       "4    ADM          ADM  Consumer Staples  United States           NaN   \n",
       "\n",
       "   in_sp500  in_osci  osci_position os_engagement  in_suzy relevance  \\\n",
       "0       1.0      NaN            NaN           NaN      NaN       NaN   \n",
       "1       NaN      1.0          285.0           NaN      NaN       NaN   \n",
       "2       NaN      1.0          276.0           NaN      NaN       NaN   \n",
       "3       1.0      NaN            NaN           NaN      NaN       NaN   \n",
       "4       1.0      NaN            NaN           NaN      NaN       NaN   \n",
       "\n",
       "   company_count  \n",
       "0              1  \n",
       "1              1  \n",
       "2              1  \n",
       "3              1  \n",
       "4              1  "
      ]
     },
     "execution_count": 40,
     "metadata": {},
     "output_type": "execute_result"
    }
   ],
   "source": [
    "df_partb = df_sorted.merge(df_suzy, left_on=\"company\", right_on=\"company\", how=\"outer\")\n",
    "df_partb['company_count']=1\n",
    "print(df_partb.shape)\n",
    "df_partb.head()"
   ]
  },
  {
   "cell_type": "code",
   "execution_count": 41,
   "metadata": {},
   "outputs": [
    {
     "name": "stdout",
     "output_type": "stream",
     "text": [
      "875\n"
     ]
    }
   ],
   "source": [
    "print(len(df_partb['company'].unique()))"
   ]
  },
  {
   "cell_type": "code",
   "execution_count": 42,
   "metadata": {},
   "outputs": [
    {
     "data": {
      "text/html": [
       "<div>\n",
       "<style scoped>\n",
       "    .dataframe tbody tr th:only-of-type {\n",
       "        vertical-align: middle;\n",
       "    }\n",
       "\n",
       "    .dataframe tbody tr th {\n",
       "        vertical-align: top;\n",
       "    }\n",
       "\n",
       "    .dataframe thead th {\n",
       "        text-align: right;\n",
       "    }\n",
       "</style>\n",
       "<table border=\"1\" class=\"dataframe\">\n",
       "  <thead>\n",
       "    <tr style=\"text-align: right;\">\n",
       "      <th></th>\n",
       "      <th></th>\n",
       "      <th></th>\n",
       "      <th></th>\n",
       "      <th>symbol</th>\n",
       "      <th>company</th>\n",
       "      <th>sector</th>\n",
       "      <th>country</th>\n",
       "      <th>osci_industry</th>\n",
       "      <th>osci_position</th>\n",
       "      <th>os_engagement</th>\n",
       "      <th>relevance</th>\n",
       "    </tr>\n",
       "    <tr>\n",
       "      <th>in_osci</th>\n",
       "      <th>in_sp500</th>\n",
       "      <th>in_suzy</th>\n",
       "      <th>company_count</th>\n",
       "      <th></th>\n",
       "      <th></th>\n",
       "      <th></th>\n",
       "      <th></th>\n",
       "      <th></th>\n",
       "      <th></th>\n",
       "      <th></th>\n",
       "      <th></th>\n",
       "    </tr>\n",
       "  </thead>\n",
       "  <tbody>\n",
       "    <tr>\n",
       "      <th>1.0</th>\n",
       "      <th>1.0</th>\n",
       "      <th>1.0</th>\n",
       "      <th>1</th>\n",
       "      <td>9</td>\n",
       "      <td>9</td>\n",
       "      <td>9</td>\n",
       "      <td>9</td>\n",
       "      <td>9</td>\n",
       "      <td>9</td>\n",
       "      <td>3</td>\n",
       "      <td>3</td>\n",
       "    </tr>\n",
       "  </tbody>\n",
       "</table>\n",
       "</div>"
      ],
      "text/plain": [
       "                                        symbol  company  sector  country  \\\n",
       "in_osci in_sp500 in_suzy company_count                                     \n",
       "1.0     1.0      1.0     1                   9        9       9        9   \n",
       "\n",
       "                                        osci_industry  osci_position  \\\n",
       "in_osci in_sp500 in_suzy company_count                                 \n",
       "1.0     1.0      1.0     1                          9              9   \n",
       "\n",
       "                                        os_engagement  relevance  \n",
       "in_osci in_sp500 in_suzy company_count                            \n",
       "1.0     1.0      1.0     1                          3          3  "
      ]
     },
     "execution_count": 42,
     "metadata": {},
     "output_type": "execute_result"
    }
   ],
   "source": [
    "df_check = df_partb.groupby(['in_osci','in_sp500','in_suzy','company_count']).count()\n",
    "df_check"
   ]
  },
  {
   "cell_type": "code",
   "execution_count": null,
   "metadata": {},
   "outputs": [],
   "source": []
  },
  {
   "cell_type": "markdown",
   "metadata": {},
   "source": [
    "## 4. Data Source:  OSPO Landscape(ToDo Group)\n",
    "https://landscape.todogroup.org"
   ]
  },
  {
   "cell_type": "code",
   "execution_count": 43,
   "metadata": {},
   "outputs": [
    {
     "name": "stdout",
     "output_type": "stream",
     "text": [
      "(225, 41)\n"
     ]
    },
    {
     "data": {
      "text/html": [
       "<div>\n",
       "<style scoped>\n",
       "    .dataframe tbody tr th:only-of-type {\n",
       "        vertical-align: middle;\n",
       "    }\n",
       "\n",
       "    .dataframe tbody tr th {\n",
       "        vertical-align: top;\n",
       "    }\n",
       "\n",
       "    .dataframe thead th {\n",
       "        text-align: right;\n",
       "    }\n",
       "</style>\n",
       "<table border=\"1\" class=\"dataframe\">\n",
       "  <thead>\n",
       "    <tr style=\"text-align: right;\">\n",
       "      <th></th>\n",
       "      <th>Name</th>\n",
       "      <th>Organization</th>\n",
       "      <th>Homepage</th>\n",
       "      <th>Logo</th>\n",
       "      <th>Twitter</th>\n",
       "      <th>Crunchbase URL</th>\n",
       "      <th>Market Cap</th>\n",
       "      <th>Ticker</th>\n",
       "      <th>Funding</th>\n",
       "      <th>Member</th>\n",
       "      <th>Relation</th>\n",
       "      <th>License</th>\n",
       "      <th>Headquarters</th>\n",
       "      <th>Latest Tweet Date</th>\n",
       "      <th>Description</th>\n",
       "      <th>Crunchbase Description</th>\n",
       "      <th>Crunchbase Homepage</th>\n",
       "      <th>Crunchbase City</th>\n",
       "      <th>Crunchbase Region</th>\n",
       "      <th>Crunchbase Country</th>\n",
       "      <th>Crunchbase Twitter</th>\n",
       "      <th>Crunchbase Linkedin</th>\n",
       "      <th>Crunchbase Ticker</th>\n",
       "      <th>Crunchbase Kind</th>\n",
       "      <th>Crunchbase Min Employees</th>\n",
       "      <th>Crunchbase Max Employees</th>\n",
       "      <th>Category</th>\n",
       "      <th>Subcategory</th>\n",
       "      <th>OSS</th>\n",
       "      <th>Github Repo</th>\n",
       "      <th>Github Stars</th>\n",
       "      <th>Github Description</th>\n",
       "      <th>Github Latest Commit Date</th>\n",
       "      <th>Github Latest Commit Link</th>\n",
       "      <th>Github Release Date</th>\n",
       "      <th>Github Release Link</th>\n",
       "      <th>Github Start Commit Date</th>\n",
       "      <th>Github Start Commit Link</th>\n",
       "      <th>Github Contributors Count</th>\n",
       "      <th>Github Contributors Link</th>\n",
       "      <th>in_ospo</th>\n",
       "    </tr>\n",
       "  </thead>\n",
       "  <tbody>\n",
       "    <tr>\n",
       "      <th>0</th>\n",
       "      <td>Adobe (Member)</td>\n",
       "      <td>Adobe</td>\n",
       "      <td>https://www.adobe.com/</td>\n",
       "      <td>https://landscape.todogroup.org/logos/adobe-me...</td>\n",
       "      <td>https://twitter.com/Adobe</td>\n",
       "      <td>https://www.crunchbase.com/organization/adobe</td>\n",
       "      <td>1.887401e+11</td>\n",
       "      <td>ADBE</td>\n",
       "      <td>2.500000e+06</td>\n",
       "      <td>General</td>\n",
       "      <td>member</td>\n",
       "      <td>NotOpenSource</td>\n",
       "      <td>San Jose, California</td>\n",
       "      <td>2022-05-04 13:00:38</td>\n",
       "      <td>Adobe is a software company that provides its ...</td>\n",
       "      <td>Adobe is a software company that provides its ...</td>\n",
       "      <td>http://www.adobe.com</td>\n",
       "      <td>San Jose</td>\n",
       "      <td>California</td>\n",
       "      <td>United States</td>\n",
       "      <td>http://twitter.com/Adobe</td>\n",
       "      <td>https://www.linkedin.com/company/adobe</td>\n",
       "      <td>ADBE</td>\n",
       "      <td>market_cap</td>\n",
       "      <td>10001.0</td>\n",
       "      <td>1000000.0</td>\n",
       "      <td>TODO Group Member</td>\n",
       "      <td>General</td>\n",
       "      <td>False</td>\n",
       "      <td>NaN</td>\n",
       "      <td>NaN</td>\n",
       "      <td>NaN</td>\n",
       "      <td>NaN</td>\n",
       "      <td>NaN</td>\n",
       "      <td>NaN</td>\n",
       "      <td>NaN</td>\n",
       "      <td>NaN</td>\n",
       "      <td>NaN</td>\n",
       "      <td>NaN</td>\n",
       "      <td>NaN</td>\n",
       "      <td>1</td>\n",
       "    </tr>\n",
       "    <tr>\n",
       "      <th>1</th>\n",
       "      <td>Aiven (Member)</td>\n",
       "      <td>Aiven</td>\n",
       "      <td>https://github.com/aiven/</td>\n",
       "      <td>https://landscape.todogroup.org/logos/aiven-me...</td>\n",
       "      <td>https://twitter.com/aiven_io</td>\n",
       "      <td>https://www.crunchbase.com/organization/aiven</td>\n",
       "      <td>NaN</td>\n",
       "      <td>NaN</td>\n",
       "      <td>2.100000e+08</td>\n",
       "      <td>General</td>\n",
       "      <td>member</td>\n",
       "      <td>NotOpenSource</td>\n",
       "      <td>Helsinki, Finland</td>\n",
       "      <td>2022-05-04 11:33:18</td>\n",
       "      <td>Aiven is an information technology company tha...</td>\n",
       "      <td>Aiven is an information technology company tha...</td>\n",
       "      <td>https://aiven.io</td>\n",
       "      <td>Helsinki</td>\n",
       "      <td>Southern Finland</td>\n",
       "      <td>Finland</td>\n",
       "      <td>https://twitter.com/aiven_io</td>\n",
       "      <td>https://www.linkedin.com/company/aiven/</td>\n",
       "      <td>NaN</td>\n",
       "      <td>funding</td>\n",
       "      <td>251.0</td>\n",
       "      <td>500.0</td>\n",
       "      <td>TODO Group Member</td>\n",
       "      <td>General</td>\n",
       "      <td>False</td>\n",
       "      <td>NaN</td>\n",
       "      <td>NaN</td>\n",
       "      <td>NaN</td>\n",
       "      <td>NaN</td>\n",
       "      <td>NaN</td>\n",
       "      <td>NaN</td>\n",
       "      <td>NaN</td>\n",
       "      <td>NaN</td>\n",
       "      <td>NaN</td>\n",
       "      <td>NaN</td>\n",
       "      <td>NaN</td>\n",
       "      <td>1</td>\n",
       "    </tr>\n",
       "    <tr>\n",
       "      <th>2</th>\n",
       "      <td>Apple (Member)</td>\n",
       "      <td>Apple</td>\n",
       "      <td>https://opensource.apple.com/</td>\n",
       "      <td>https://landscape.todogroup.org/logos/apple-me...</td>\n",
       "      <td>https://twitter.com/apple</td>\n",
       "      <td>https://www.crunchbase.com/organization/apple</td>\n",
       "      <td>2.608140e+12</td>\n",
       "      <td>AAPL</td>\n",
       "      <td>6.150230e+09</td>\n",
       "      <td>General</td>\n",
       "      <td>member</td>\n",
       "      <td>NotOpenSource</td>\n",
       "      <td>Cupertino, California</td>\n",
       "      <td>NaN</td>\n",
       "      <td>Apple is a multinational corporation that desi...</td>\n",
       "      <td>Apple is a multinational corporation that desi...</td>\n",
       "      <td>http://www.apple.com</td>\n",
       "      <td>Cupertino</td>\n",
       "      <td>California</td>\n",
       "      <td>United States</td>\n",
       "      <td>https://twitter.com/apple</td>\n",
       "      <td>https://www.linkedin.com/company/apple</td>\n",
       "      <td>AAPL</td>\n",
       "      <td>market_cap</td>\n",
       "      <td>10001.0</td>\n",
       "      <td>1000000.0</td>\n",
       "      <td>TODO Group Member</td>\n",
       "      <td>General</td>\n",
       "      <td>False</td>\n",
       "      <td>NaN</td>\n",
       "      <td>NaN</td>\n",
       "      <td>NaN</td>\n",
       "      <td>NaN</td>\n",
       "      <td>NaN</td>\n",
       "      <td>NaN</td>\n",
       "      <td>NaN</td>\n",
       "      <td>NaN</td>\n",
       "      <td>NaN</td>\n",
       "      <td>NaN</td>\n",
       "      <td>NaN</td>\n",
       "      <td>1</td>\n",
       "    </tr>\n",
       "  </tbody>\n",
       "</table>\n",
       "</div>"
      ],
      "text/plain": [
       "             Name Organization                       Homepage  \\\n",
       "0  Adobe (Member)        Adobe         https://www.adobe.com/   \n",
       "1  Aiven (Member)        Aiven      https://github.com/aiven/   \n",
       "2  Apple (Member)        Apple  https://opensource.apple.com/   \n",
       "\n",
       "                                                Logo  \\\n",
       "0  https://landscape.todogroup.org/logos/adobe-me...   \n",
       "1  https://landscape.todogroup.org/logos/aiven-me...   \n",
       "2  https://landscape.todogroup.org/logos/apple-me...   \n",
       "\n",
       "                        Twitter  \\\n",
       "0     https://twitter.com/Adobe   \n",
       "1  https://twitter.com/aiven_io   \n",
       "2     https://twitter.com/apple   \n",
       "\n",
       "                                  Crunchbase URL    Market Cap Ticker  \\\n",
       "0  https://www.crunchbase.com/organization/adobe  1.887401e+11   ADBE   \n",
       "1  https://www.crunchbase.com/organization/aiven           NaN    NaN   \n",
       "2  https://www.crunchbase.com/organization/apple  2.608140e+12   AAPL   \n",
       "\n",
       "        Funding   Member Relation        License           Headquarters  \\\n",
       "0  2.500000e+06  General   member  NotOpenSource   San Jose, California   \n",
       "1  2.100000e+08  General   member  NotOpenSource      Helsinki, Finland   \n",
       "2  6.150230e+09  General   member  NotOpenSource  Cupertino, California   \n",
       "\n",
       "     Latest Tweet Date                                        Description  \\\n",
       "0  2022-05-04 13:00:38  Adobe is a software company that provides its ...   \n",
       "1  2022-05-04 11:33:18  Aiven is an information technology company tha...   \n",
       "2                  NaN  Apple is a multinational corporation that desi...   \n",
       "\n",
       "                              Crunchbase Description   Crunchbase Homepage  \\\n",
       "0  Adobe is a software company that provides its ...  http://www.adobe.com   \n",
       "1  Aiven is an information technology company tha...      https://aiven.io   \n",
       "2  Apple is a multinational corporation that desi...  http://www.apple.com   \n",
       "\n",
       "  Crunchbase City Crunchbase Region Crunchbase Country  \\\n",
       "0        San Jose        California      United States   \n",
       "1        Helsinki  Southern Finland            Finland   \n",
       "2       Cupertino        California      United States   \n",
       "\n",
       "             Crunchbase Twitter                      Crunchbase Linkedin  \\\n",
       "0      http://twitter.com/Adobe   https://www.linkedin.com/company/adobe   \n",
       "1  https://twitter.com/aiven_io  https://www.linkedin.com/company/aiven/   \n",
       "2     https://twitter.com/apple   https://www.linkedin.com/company/apple   \n",
       "\n",
       "  Crunchbase Ticker Crunchbase Kind  Crunchbase Min Employees  \\\n",
       "0              ADBE      market_cap                   10001.0   \n",
       "1               NaN         funding                     251.0   \n",
       "2              AAPL      market_cap                   10001.0   \n",
       "\n",
       "   Crunchbase Max Employees           Category Subcategory    OSS Github Repo  \\\n",
       "0                 1000000.0  TODO Group Member     General  False         NaN   \n",
       "1                     500.0  TODO Group Member     General  False         NaN   \n",
       "2                 1000000.0  TODO Group Member     General  False         NaN   \n",
       "\n",
       "   Github Stars Github Description  Github Latest Commit Date  \\\n",
       "0           NaN                NaN                        NaN   \n",
       "1           NaN                NaN                        NaN   \n",
       "2           NaN                NaN                        NaN   \n",
       "\n",
       "  Github Latest Commit Link Github Release Date Github Release Link  \\\n",
       "0                       NaN                 NaN                 NaN   \n",
       "1                       NaN                 NaN                 NaN   \n",
       "2                       NaN                 NaN                 NaN   \n",
       "\n",
       "  Github Start Commit Date Github Start Commit Link  \\\n",
       "0                      NaN                      NaN   \n",
       "1                      NaN                      NaN   \n",
       "2                      NaN                      NaN   \n",
       "\n",
       "   Github Contributors Count Github Contributors Link  in_ospo  \n",
       "0                        NaN                      NaN        1  \n",
       "1                        NaN                      NaN        1  \n",
       "2                        NaN                      NaN        1  "
      ]
     },
     "execution_count": 43,
     "metadata": {},
     "output_type": "execute_result"
    }
   ],
   "source": [
    "file_name = 'ospo_todo_landscape.csv'\n",
    "\n",
    "df_ospo_all = pd.read_csv('data_raw/'+file_name)\n",
    "df_ospo_all['in_ospo']=1\n",
    "\n",
    "print(df_ospo_all.shape)\n",
    "df_ospo_all.head(3)"
   ]
  },
  {
   "cell_type": "code",
   "execution_count": 44,
   "metadata": {},
   "outputs": [
    {
     "name": "stdout",
     "output_type": "stream",
     "text": [
      "(225, 6)\n"
     ]
    },
    {
     "data": {
      "text/html": [
       "<div>\n",
       "<style scoped>\n",
       "    .dataframe tbody tr th:only-of-type {\n",
       "        vertical-align: middle;\n",
       "    }\n",
       "\n",
       "    .dataframe tbody tr th {\n",
       "        vertical-align: top;\n",
       "    }\n",
       "\n",
       "    .dataframe thead th {\n",
       "        text-align: right;\n",
       "    }\n",
       "</style>\n",
       "<table border=\"1\" class=\"dataframe\">\n",
       "  <thead>\n",
       "    <tr style=\"text-align: right;\">\n",
       "      <th></th>\n",
       "      <th>ospo_status</th>\n",
       "      <th>company</th>\n",
       "      <th>symbol_ospo</th>\n",
       "      <th>market_cap</th>\n",
       "      <th>country</th>\n",
       "      <th>in_ospo</th>\n",
       "    </tr>\n",
       "  </thead>\n",
       "  <tbody>\n",
       "    <tr>\n",
       "      <th>0</th>\n",
       "      <td>Adobe (Member)</td>\n",
       "      <td>Adobe</td>\n",
       "      <td>ADBE</td>\n",
       "      <td>1.887401e+11</td>\n",
       "      <td>United States</td>\n",
       "      <td>1</td>\n",
       "    </tr>\n",
       "    <tr>\n",
       "      <th>1</th>\n",
       "      <td>Aiven (Member)</td>\n",
       "      <td>Aiven</td>\n",
       "      <td>NaN</td>\n",
       "      <td>NaN</td>\n",
       "      <td>Finland</td>\n",
       "      <td>1</td>\n",
       "    </tr>\n",
       "    <tr>\n",
       "      <th>2</th>\n",
       "      <td>Apple (Member)</td>\n",
       "      <td>Apple</td>\n",
       "      <td>AAPL</td>\n",
       "      <td>2.608140e+12</td>\n",
       "      <td>United States</td>\n",
       "      <td>1</td>\n",
       "    </tr>\n",
       "  </tbody>\n",
       "</table>\n",
       "</div>"
      ],
      "text/plain": [
       "      ospo_status company symbol_ospo    market_cap        country  in_ospo\n",
       "0  Adobe (Member)   Adobe        ADBE  1.887401e+11  United States        1\n",
       "1  Aiven (Member)   Aiven         NaN           NaN        Finland        1\n",
       "2  Apple (Member)   Apple        AAPL  2.608140e+12  United States        1"
      ]
     },
     "execution_count": 44,
     "metadata": {},
     "output_type": "execute_result"
    }
   ],
   "source": [
    "df_ospo_all = df_ospo_all.rename(columns=\n",
    "                         {'Name': 'ospo_status',\n",
    "                          'Organization': 'company',\n",
    "                          'Ticker': 'symbol_ospo',\n",
    "                          'Market Cap': 'market_cap',\n",
    "                          'Crunchbase Country': 'country',\n",
    "                          'License': 'license'\n",
    "                                                        },)\n",
    "\n",
    "keep_cols = ['ospo_status','company', 'symbol_ospo','market_cap', 'country', 'relevance',\n",
    "             'in_ospo'\n",
    "            ]\n",
    "\n",
    "df_ospo_all = df_ospo_all.filter(keep_cols)\n",
    "\n",
    "\n",
    "\n",
    "print(df_ospo_all.shape)\n",
    "df_ospo_all.head(3)"
   ]
  },
  {
   "cell_type": "code",
   "execution_count": 45,
   "metadata": {},
   "outputs": [
    {
     "name": "stdout",
     "output_type": "stream",
     "text": [
      "(102, 6)\n"
     ]
    },
    {
     "data": {
      "text/html": [
       "<div>\n",
       "<style scoped>\n",
       "    .dataframe tbody tr th:only-of-type {\n",
       "        vertical-align: middle;\n",
       "    }\n",
       "\n",
       "    .dataframe tbody tr th {\n",
       "        vertical-align: top;\n",
       "    }\n",
       "\n",
       "    .dataframe thead th {\n",
       "        text-align: right;\n",
       "    }\n",
       "</style>\n",
       "<table border=\"1\" class=\"dataframe\">\n",
       "  <thead>\n",
       "    <tr style=\"text-align: right;\">\n",
       "      <th></th>\n",
       "      <th>ospo_status</th>\n",
       "      <th>company</th>\n",
       "      <th>symbol_ospo</th>\n",
       "      <th>market_cap</th>\n",
       "      <th>country</th>\n",
       "      <th>in_ospo</th>\n",
       "    </tr>\n",
       "  </thead>\n",
       "  <tbody>\n",
       "    <tr>\n",
       "      <th>89</th>\n",
       "      <td>Adobe (Adopter)</td>\n",
       "      <td>Adobe</td>\n",
       "      <td>ADBE</td>\n",
       "      <td>1.887401e+11</td>\n",
       "      <td>United States</td>\n",
       "      <td>1</td>\n",
       "    </tr>\n",
       "    <tr>\n",
       "      <th>90</th>\n",
       "      <td>Aiven (Adopter)</td>\n",
       "      <td>Aiven</td>\n",
       "      <td>NaN</td>\n",
       "      <td>NaN</td>\n",
       "      <td>Finland</td>\n",
       "      <td>1</td>\n",
       "    </tr>\n",
       "    <tr>\n",
       "      <th>91</th>\n",
       "      <td>Alibaba (Adopter)</td>\n",
       "      <td>Alibaba Group</td>\n",
       "      <td>9988.HK</td>\n",
       "      <td>2.692284e+11</td>\n",
       "      <td>China</td>\n",
       "      <td>1</td>\n",
       "    </tr>\n",
       "  </tbody>\n",
       "</table>\n",
       "</div>"
      ],
      "text/plain": [
       "          ospo_status        company symbol_ospo    market_cap        country  \\\n",
       "89    Adobe (Adopter)          Adobe        ADBE  1.887401e+11  United States   \n",
       "90    Aiven (Adopter)          Aiven         NaN           NaN        Finland   \n",
       "91  Alibaba (Adopter)  Alibaba Group     9988.HK  2.692284e+11          China   \n",
       "\n",
       "    in_ospo  \n",
       "89        1  \n",
       "90        1  \n",
       "91        1  "
      ]
     },
     "execution_count": 45,
     "metadata": {},
     "output_type": "execute_result"
    }
   ],
   "source": [
    "#strings = ['member', 'Member']\n",
    "#output = df_ospo['ospo_status'].isin(strings)\n",
    "\n",
    "output = df_ospo_all['ospo_status'].str.contains('adopter',regex=True)\n",
    "\n",
    "df_ospo = df_ospo_all.loc[df_ospo_all['ospo_status'].str.contains(\"adopter\", case=False)]\n",
    "\n",
    "print(df_ospo.shape)\n",
    "df_ospo.head(3)"
   ]
  },
  {
   "cell_type": "code",
   "execution_count": 46,
   "metadata": {},
   "outputs": [
    {
     "data": {
      "text/html": [
       "<div>\n",
       "<style scoped>\n",
       "    .dataframe tbody tr th:only-of-type {\n",
       "        vertical-align: middle;\n",
       "    }\n",
       "\n",
       "    .dataframe tbody tr th {\n",
       "        vertical-align: top;\n",
       "    }\n",
       "\n",
       "    .dataframe thead th {\n",
       "        text-align: right;\n",
       "    }\n",
       "</style>\n",
       "<table border=\"1\" class=\"dataframe\">\n",
       "  <thead>\n",
       "    <tr style=\"text-align: right;\">\n",
       "      <th></th>\n",
       "      <th>ospo_status</th>\n",
       "      <th>company</th>\n",
       "      <th>symbol_ospo</th>\n",
       "      <th>market_cap</th>\n",
       "      <th>country</th>\n",
       "      <th>in_ospo</th>\n",
       "    </tr>\n",
       "  </thead>\n",
       "  <tbody>\n",
       "    <tr>\n",
       "      <th>91</th>\n",
       "      <td>Alibaba (Adopter)</td>\n",
       "      <td>Alibaba Group</td>\n",
       "      <td>9988.HK</td>\n",
       "      <td>2.692284e+11</td>\n",
       "      <td>China</td>\n",
       "      <td>1</td>\n",
       "    </tr>\n",
       "    <tr>\n",
       "      <th>179</th>\n",
       "      <td>Uber (Adopter)</td>\n",
       "      <td>Uber</td>\n",
       "      <td>UBER</td>\n",
       "      <td>5.133725e+10</td>\n",
       "      <td>United States</td>\n",
       "      <td>1</td>\n",
       "    </tr>\n",
       "    <tr>\n",
       "      <th>132</th>\n",
       "      <td>Google (Adopter)</td>\n",
       "      <td>Google</td>\n",
       "      <td>GOOG</td>\n",
       "      <td>1.524992e+12</td>\n",
       "      <td>United States</td>\n",
       "      <td>1</td>\n",
       "    </tr>\n",
       "    <tr>\n",
       "      <th>159</th>\n",
       "      <td>Qualcomm (Adopter)</td>\n",
       "      <td>Qualcomm</td>\n",
       "      <td>QCOM</td>\n",
       "      <td>1.614052e+11</td>\n",
       "      <td>United States</td>\n",
       "      <td>1</td>\n",
       "    </tr>\n",
       "    <tr>\n",
       "      <th>122</th>\n",
       "      <td>EPAM (Adopter)</td>\n",
       "      <td>EPAM Systems</td>\n",
       "      <td>EPAM</td>\n",
       "      <td>1.681204e+10</td>\n",
       "      <td>United States</td>\n",
       "      <td>1</td>\n",
       "    </tr>\n",
       "  </tbody>\n",
       "</table>\n",
       "</div>"
      ],
      "text/plain": [
       "            ospo_status        company symbol_ospo    market_cap  \\\n",
       "91    Alibaba (Adopter)  Alibaba Group     9988.HK  2.692284e+11   \n",
       "179      Uber (Adopter)           Uber        UBER  5.133725e+10   \n",
       "132    Google (Adopter)         Google        GOOG  1.524992e+12   \n",
       "159  Qualcomm (Adopter)       Qualcomm        QCOM  1.614052e+11   \n",
       "122      EPAM (Adopter)   EPAM Systems        EPAM  1.681204e+10   \n",
       "\n",
       "           country  in_ospo  \n",
       "91           China        1  \n",
       "179  United States        1  \n",
       "132  United States        1  \n",
       "159  United States        1  \n",
       "122  United States        1  "
      ]
     },
     "execution_count": 46,
     "metadata": {},
     "output_type": "execute_result"
    }
   ],
   "source": [
    "df_sample = df_ospo.sample(5)\n",
    "df_sample"
   ]
  },
  {
   "cell_type": "code",
   "execution_count": 47,
   "metadata": {},
   "outputs": [
    {
     "name": "stdout",
     "output_type": "stream",
     "text": [
      "101\n"
     ]
    }
   ],
   "source": [
    "print(len(df_ospo['company'].unique()))"
   ]
  },
  {
   "cell_type": "markdown",
   "metadata": {},
   "source": [
    "Note: \n",
    "- dataset has 102 rows\n",
    "- there are 2 records for GitLab (one for US, China)"
   ]
  },
  {
   "cell_type": "code",
   "execution_count": 48,
   "metadata": {},
   "outputs": [],
   "source": [
    "#df_ospo"
   ]
  },
  {
   "cell_type": "code",
   "execution_count": 49,
   "metadata": {},
   "outputs": [
    {
     "data": {
      "text/html": [
       "<div>\n",
       "<style scoped>\n",
       "    .dataframe tbody tr th:only-of-type {\n",
       "        vertical-align: middle;\n",
       "    }\n",
       "\n",
       "    .dataframe tbody tr th {\n",
       "        vertical-align: top;\n",
       "    }\n",
       "\n",
       "    .dataframe thead th {\n",
       "        text-align: right;\n",
       "    }\n",
       "</style>\n",
       "<table border=\"1\" class=\"dataframe\">\n",
       "  <thead>\n",
       "    <tr style=\"text-align: right;\">\n",
       "      <th></th>\n",
       "      <th>ospo_status</th>\n",
       "      <th>company</th>\n",
       "      <th>symbol_ospo</th>\n",
       "      <th>market_cap</th>\n",
       "      <th>country</th>\n",
       "    </tr>\n",
       "    <tr>\n",
       "      <th>in_ospo</th>\n",
       "      <th></th>\n",
       "      <th></th>\n",
       "      <th></th>\n",
       "      <th></th>\n",
       "      <th></th>\n",
       "    </tr>\n",
       "  </thead>\n",
       "  <tbody>\n",
       "    <tr>\n",
       "      <th>1</th>\n",
       "      <td>102</td>\n",
       "      <td>102</td>\n",
       "      <td>67</td>\n",
       "      <td>67</td>\n",
       "      <td>102</td>\n",
       "    </tr>\n",
       "  </tbody>\n",
       "</table>\n",
       "</div>"
      ],
      "text/plain": [
       "         ospo_status  company  symbol_ospo  market_cap  country\n",
       "in_ospo                                                        \n",
       "1                102      102           67          67      102"
      ]
     },
     "execution_count": 49,
     "metadata": {},
     "output_type": "execute_result"
    }
   ],
   "source": [
    "df_check = df_ospo.groupby(['in_ospo']).count()\n",
    "df_check"
   ]
  },
  {
   "cell_type": "markdown",
   "metadata": {},
   "source": [
    "## Merge: S&P 500 + OSCI + Suzy + OSPO\n"
   ]
  },
  {
   "cell_type": "code",
   "execution_count": 50,
   "metadata": {},
   "outputs": [
    {
     "name": "stdout",
     "output_type": "stream",
     "text": [
      "(875, 12)\n",
      "875\n",
      "(102, 6)\n",
      "101\n"
     ]
    }
   ],
   "source": [
    "print(df_partb.shape)\n",
    "print(len(df_partb['company'].unique()))\n",
    "\n",
    "print(df_ospo.shape)\n",
    "print(len(df_ospo['company'].unique()))"
   ]
  },
  {
   "cell_type": "code",
   "execution_count": 51,
   "metadata": {},
   "outputs": [],
   "source": [
    "# Merge on 'company' only\n",
    "\n",
    "df_all = df_partb.merge(df_ospo, left_on=\"company\", right_on=\"company\", how=\"outer\")\n",
    "# df_all['company_count']=1\n",
    "# print(df_all.shape)\n",
    "# df_all.head()"
   ]
  },
  {
   "cell_type": "code",
   "execution_count": 52,
   "metadata": {},
   "outputs": [
    {
     "name": "stdout",
     "output_type": "stream",
     "text": [
      "(918, 17)\n"
     ]
    },
    {
     "data": {
      "text/html": [
       "<div>\n",
       "<style scoped>\n",
       "    .dataframe tbody tr th:only-of-type {\n",
       "        vertical-align: middle;\n",
       "    }\n",
       "\n",
       "    .dataframe tbody tr th {\n",
       "        vertical-align: top;\n",
       "    }\n",
       "\n",
       "    .dataframe thead th {\n",
       "        text-align: right;\n",
       "    }\n",
       "</style>\n",
       "<table border=\"1\" class=\"dataframe\">\n",
       "  <thead>\n",
       "    <tr style=\"text-align: right;\">\n",
       "      <th></th>\n",
       "      <th>symbol</th>\n",
       "      <th>company</th>\n",
       "      <th>sector</th>\n",
       "      <th>country_x</th>\n",
       "      <th>osci_industry</th>\n",
       "      <th>in_sp500</th>\n",
       "      <th>in_osci</th>\n",
       "      <th>osci_position</th>\n",
       "      <th>os_engagement</th>\n",
       "      <th>in_suzy</th>\n",
       "      <th>relevance</th>\n",
       "      <th>company_count</th>\n",
       "      <th>ospo_status</th>\n",
       "      <th>symbol_ospo</th>\n",
       "      <th>market_cap</th>\n",
       "      <th>country_y</th>\n",
       "      <th>in_ospo</th>\n",
       "    </tr>\n",
       "  </thead>\n",
       "  <tbody>\n",
       "    <tr>\n",
       "      <th>0</th>\n",
       "      <td>MMM</td>\n",
       "      <td>3M</td>\n",
       "      <td>Industrials</td>\n",
       "      <td>United States</td>\n",
       "      <td>NaN</td>\n",
       "      <td>1.0</td>\n",
       "      <td>NaN</td>\n",
       "      <td>NaN</td>\n",
       "      <td>NaN</td>\n",
       "      <td>NaN</td>\n",
       "      <td>NaN</td>\n",
       "      <td>1</td>\n",
       "      <td>NaN</td>\n",
       "      <td>NaN</td>\n",
       "      <td>NaN</td>\n",
       "      <td>NaN</td>\n",
       "      <td>NaN</td>\n",
       "    </tr>\n",
       "    <tr>\n",
       "      <th>1</th>\n",
       "      <td>NaN</td>\n",
       "      <td>4teamwork</td>\n",
       "      <td>NaN</td>\n",
       "      <td>NaN</td>\n",
       "      <td>Technology</td>\n",
       "      <td>NaN</td>\n",
       "      <td>1.0</td>\n",
       "      <td>285.0</td>\n",
       "      <td>NaN</td>\n",
       "      <td>NaN</td>\n",
       "      <td>NaN</td>\n",
       "      <td>1</td>\n",
       "      <td>NaN</td>\n",
       "      <td>NaN</td>\n",
       "      <td>NaN</td>\n",
       "      <td>NaN</td>\n",
       "      <td>NaN</td>\n",
       "    </tr>\n",
       "    <tr>\n",
       "      <th>2</th>\n",
       "      <td>NaN</td>\n",
       "      <td>5minds</td>\n",
       "      <td>NaN</td>\n",
       "      <td>NaN</td>\n",
       "      <td>Technology</td>\n",
       "      <td>NaN</td>\n",
       "      <td>1.0</td>\n",
       "      <td>276.0</td>\n",
       "      <td>NaN</td>\n",
       "      <td>NaN</td>\n",
       "      <td>NaN</td>\n",
       "      <td>1</td>\n",
       "      <td>NaN</td>\n",
       "      <td>NaN</td>\n",
       "      <td>NaN</td>\n",
       "      <td>NaN</td>\n",
       "      <td>NaN</td>\n",
       "    </tr>\n",
       "    <tr>\n",
       "      <th>3</th>\n",
       "      <td>AOS</td>\n",
       "      <td>A. O. Smith</td>\n",
       "      <td>Industrials</td>\n",
       "      <td>United States</td>\n",
       "      <td>NaN</td>\n",
       "      <td>1.0</td>\n",
       "      <td>NaN</td>\n",
       "      <td>NaN</td>\n",
       "      <td>NaN</td>\n",
       "      <td>NaN</td>\n",
       "      <td>NaN</td>\n",
       "      <td>1</td>\n",
       "      <td>NaN</td>\n",
       "      <td>NaN</td>\n",
       "      <td>NaN</td>\n",
       "      <td>NaN</td>\n",
       "      <td>NaN</td>\n",
       "    </tr>\n",
       "    <tr>\n",
       "      <th>4</th>\n",
       "      <td>ADM</td>\n",
       "      <td>ADM</td>\n",
       "      <td>Consumer Staples</td>\n",
       "      <td>United States</td>\n",
       "      <td>NaN</td>\n",
       "      <td>1.0</td>\n",
       "      <td>NaN</td>\n",
       "      <td>NaN</td>\n",
       "      <td>NaN</td>\n",
       "      <td>NaN</td>\n",
       "      <td>NaN</td>\n",
       "      <td>1</td>\n",
       "      <td>NaN</td>\n",
       "      <td>NaN</td>\n",
       "      <td>NaN</td>\n",
       "      <td>NaN</td>\n",
       "      <td>NaN</td>\n",
       "    </tr>\n",
       "  </tbody>\n",
       "</table>\n",
       "</div>"
      ],
      "text/plain": [
       "  symbol      company            sector      country_x osci_industry  \\\n",
       "0    MMM           3M       Industrials  United States           NaN   \n",
       "1    NaN    4teamwork               NaN            NaN    Technology   \n",
       "2    NaN       5minds               NaN            NaN    Technology   \n",
       "3    AOS  A. O. Smith       Industrials  United States           NaN   \n",
       "4    ADM          ADM  Consumer Staples  United States           NaN   \n",
       "\n",
       "   in_sp500  in_osci  osci_position os_engagement  in_suzy relevance  \\\n",
       "0       1.0      NaN            NaN           NaN      NaN       NaN   \n",
       "1       NaN      1.0          285.0           NaN      NaN       NaN   \n",
       "2       NaN      1.0          276.0           NaN      NaN       NaN   \n",
       "3       1.0      NaN            NaN           NaN      NaN       NaN   \n",
       "4       1.0      NaN            NaN           NaN      NaN       NaN   \n",
       "\n",
       "   company_count ospo_status symbol_ospo  market_cap country_y  in_ospo  \n",
       "0              1         NaN         NaN         NaN       NaN      NaN  \n",
       "1              1         NaN         NaN         NaN       NaN      NaN  \n",
       "2              1         NaN         NaN         NaN       NaN      NaN  \n",
       "3              1         NaN         NaN         NaN       NaN      NaN  \n",
       "4              1         NaN         NaN         NaN       NaN      NaN  "
      ]
     },
     "execution_count": 52,
     "metadata": {},
     "output_type": "execute_result"
    }
   ],
   "source": [
    "# Merge on: 'company', 'country'\n",
    "\n",
    "#df_all = df_partb.merge(df_ospo, left_on=[\"company\", \"country\"], right_on=[\"company\", \"country\"], how=\"outer\")\n",
    "df_all['company_count']=1\n",
    "print(df_all.shape)\n",
    "df_all.head()"
   ]
  },
  {
   "cell_type": "code",
   "execution_count": 53,
   "metadata": {},
   "outputs": [
    {
     "data": {
      "text/html": [
       "<div>\n",
       "<style scoped>\n",
       "    .dataframe tbody tr th:only-of-type {\n",
       "        vertical-align: middle;\n",
       "    }\n",
       "\n",
       "    .dataframe tbody tr th {\n",
       "        vertical-align: top;\n",
       "    }\n",
       "\n",
       "    .dataframe thead th {\n",
       "        text-align: right;\n",
       "    }\n",
       "</style>\n",
       "<table border=\"1\" class=\"dataframe\">\n",
       "  <thead>\n",
       "    <tr style=\"text-align: right;\">\n",
       "      <th></th>\n",
       "      <th>symbol</th>\n",
       "      <th>company</th>\n",
       "      <th>country_x</th>\n",
       "      <th>country</th>\n",
       "      <th>sector</th>\n",
       "      <th>osci_industry</th>\n",
       "      <th>in_sp500</th>\n",
       "      <th>in_ospo</th>\n",
       "      <th>in_osci</th>\n",
       "      <th>in_suzy</th>\n",
       "      <th>osci_position</th>\n",
       "      <th>os_engagement</th>\n",
       "      <th>relevance</th>\n",
       "      <th>company_count</th>\n",
       "      <th>ospo_status</th>\n",
       "      <th>symbol_ospo</th>\n",
       "      <th>market_cap</th>\n",
       "    </tr>\n",
       "  </thead>\n",
       "  <tbody>\n",
       "    <tr>\n",
       "      <th>0</th>\n",
       "      <td>MMM</td>\n",
       "      <td>3M</td>\n",
       "      <td>United States</td>\n",
       "      <td>NaN</td>\n",
       "      <td>Industrials</td>\n",
       "      <td>NaN</td>\n",
       "      <td>1.0</td>\n",
       "      <td>NaN</td>\n",
       "      <td>NaN</td>\n",
       "      <td>NaN</td>\n",
       "      <td>NaN</td>\n",
       "      <td>NaN</td>\n",
       "      <td>NaN</td>\n",
       "      <td>1</td>\n",
       "      <td>NaN</td>\n",
       "      <td>NaN</td>\n",
       "      <td>NaN</td>\n",
       "    </tr>\n",
       "    <tr>\n",
       "      <th>1</th>\n",
       "      <td>NaN</td>\n",
       "      <td>4teamwork</td>\n",
       "      <td>NaN</td>\n",
       "      <td>NaN</td>\n",
       "      <td>NaN</td>\n",
       "      <td>Technology</td>\n",
       "      <td>NaN</td>\n",
       "      <td>NaN</td>\n",
       "      <td>1.0</td>\n",
       "      <td>NaN</td>\n",
       "      <td>285.0</td>\n",
       "      <td>NaN</td>\n",
       "      <td>NaN</td>\n",
       "      <td>1</td>\n",
       "      <td>NaN</td>\n",
       "      <td>NaN</td>\n",
       "      <td>NaN</td>\n",
       "    </tr>\n",
       "  </tbody>\n",
       "</table>\n",
       "</div>"
      ],
      "text/plain": [
       "  symbol    company      country_x  country       sector osci_industry  \\\n",
       "0    MMM         3M  United States      NaN  Industrials           NaN   \n",
       "1    NaN  4teamwork            NaN      NaN          NaN    Technology   \n",
       "\n",
       "   in_sp500  in_ospo  in_osci  in_suzy  osci_position os_engagement relevance  \\\n",
       "0       1.0      NaN      NaN      NaN            NaN           NaN       NaN   \n",
       "1       NaN      NaN      1.0      NaN          285.0           NaN       NaN   \n",
       "\n",
       "   company_count ospo_status symbol_ospo  market_cap  \n",
       "0              1         NaN         NaN         NaN  \n",
       "1              1         NaN         NaN         NaN  "
      ]
     },
     "execution_count": 53,
     "metadata": {},
     "output_type": "execute_result"
    }
   ],
   "source": [
    "# reorder columns\n",
    "new_order = ['symbol', 'company', 'country_x','country','sector', 'osci_industry', 'in_sp500', 'in_ospo', 'in_osci', 'in_suzy', 'osci_position',\n",
    "            'os_engagement','relevance','company_count','ospo_status', 'symbol_ospo','market_cap'\n",
    "             ]\n",
    "df_all = df_all.reindex(new_order, axis=1)\n",
    "\n",
    "df_all.head(2)"
   ]
  },
  {
   "cell_type": "markdown",
   "metadata": {},
   "source": [
    "## Clean data"
   ]
  },
  {
   "cell_type": "code",
   "execution_count": 54,
   "metadata": {},
   "outputs": [],
   "source": [
    "# If in S&P 500 and country is missing, make it \"United States\"\n",
    "\n",
    "#df_all['country'].mask(df_all['company'] == '5minds', 'Germany', inplace=True)\n",
    "\n",
    "# if in_sp500=1 and country is missing, fill it in with \"United States\"\n",
    "# By checking multiple conditions\n",
    "\n",
    "# df_new = df_all.copy()\n",
    "\n",
    "# df_new['country'] = np.where((df_new['in_sp500'] == 1) & (df_new['country'] == \" \"), \"United States\", df_new['country'])\n",
    "# df_new.head(2)\n",
    "\n",
    "# conditions = [\n",
    "#     df_all['in_sp500'].eq(1) & df_all['country'].eq(\"\")]\n",
    "\n",
    "# choices = [\"United States\"]\n",
    "\n",
    "# df_all['country'] = np.select(conditions, choices, default=\"\")\n"
   ]
  },
  {
   "cell_type": "code",
   "execution_count": 55,
   "metadata": {},
   "outputs": [],
   "source": [
    "#print x\n"
   ]
  },
  {
   "cell_type": "code",
   "execution_count": 56,
   "metadata": {},
   "outputs": [],
   "source": [
    "df_all['country_x'].mask(df_all['company'] == '4teamwork', 'Switzerland', inplace=True)\n",
    "df_all['country_x'].mask(df_all['company'] == '5minds', 'Germany', inplace=True)\n",
    "\n",
    "\n",
    "\n",
    "df_all['listed'] = \"xxx\"\n",
    "\n",
    "df_all['symbol'].mask(df_all['company'] == 'AMD', 'AMD', inplace=True)\n",
    "df_all['listed'].mask(df_all['company'] == 'AMD', 'NASDAQ', inplace=True)\n",
    "df_all['country_x'].mask(df_all['company'] == 'AMD', 'United States', inplace=True)\n",
    "\n",
    "df_all['symbol'].mask(df_all['company'] == 'ARM', 'ARM', inplace=True)\n",
    "df_all['listed'].mask(df_all['company'] == 'ARM', 'London SE', inplace=True)\n",
    "df_all['country_x'].mask(df_all['company'] == 'ARM', 'United Kingdom', inplace=True)\n",
    "df_all['sector'].mask(df_all['company'] == 'ARM', 'Technology', inplace=True)\n",
    "\n",
    "\n",
    "df_all['symbol'].mask(df_all['company'] == 'Abilian', 'Private', inplace=True)\n",
    "df_all['listed'].mask(df_all['company'] == 'Abilian', 'Private', inplace=True)\n",
    "df_all['country_x'].mask(df_all['company'] == 'Abilian', 'France', inplace=True)\n",
    "df_all['sector'].mask(df_all['company'] == 'Abilian', 'Technology', inplace=True)\n",
    "\n",
    "df_all['symbol'].mask(df_all['company'] == 'Acsone', 'Private', inplace=True)\n",
    "df_all['listed'].mask(df_all['company'] == 'Acsone', 'Private', inplace=True)\n",
    "df_all['country_x'].mask(df_all['company'] == 'Acsone', 'Belgium', inplace=True)\n",
    "df_all['sector'].mask(df_all['company'] == 'Acsone', 'Technology', inplace=True)\n",
    "\n",
    "# https://adhocteam.us/\n",
    "#https://www.linkedin.com/company/ad-hoc-llc/\n",
    "df_all['symbol'].mask(df_all['company'] == 'Ad Hoc', 'Private', inplace=True)\n",
    "df_all['listed'].mask(df_all['company'] == 'Ad Hoc', 'Private', inplace=True)\n",
    "df_all['country_x'].mask(df_all['company'] == 'Ad Hoc', 'United States', inplace=True)\n",
    "df_all['sector'].mask(df_all['company'] == 'Ad Hoc', 'Technology', inplace=True)\n",
    "\n",
    "# https://adguard.com/en/welcome.html\n",
    "# https://www.linkedin.com/company/adguard/about/\n",
    "df_all['symbol'].mask(df_all['company'] == 'Adguard', 'Private', inplace=True)\n",
    "df_all['listed'].mask(df_all['company'] == 'Adguard', 'Private', inplace=True)\n",
    "df_all['country_x'].mask(df_all['company'] == 'Adguard', 'United States', inplace=True)\n",
    "df_all['sector'].mask(df_all['company'] == 'Adguard', 'Technology', inplace=True)\n",
    "\n"
   ]
  },
  {
   "cell_type": "markdown",
   "metadata": {},
   "source": [
    "---"
   ]
  },
  {
   "cell_type": "markdown",
   "metadata": {},
   "source": [
    "## Save `df` to `csv` file"
   ]
  },
  {
   "cell_type": "code",
   "execution_count": 57,
   "metadata": {},
   "outputs": [
    {
     "name": "stdout",
     "output_type": "stream",
     "text": [
      "(918, 18)\n",
      "917\n"
     ]
    }
   ],
   "source": [
    "print(df_all.shape)\n",
    "print(len(df_all['company'].unique()))"
   ]
  },
  {
   "cell_type": "code",
   "execution_count": 58,
   "metadata": {},
   "outputs": [],
   "source": [
    "df_all.to_csv('data_derived/focused.csv', index=False)"
   ]
  },
  {
   "cell_type": "markdown",
   "metadata": {},
   "source": [
    "---"
   ]
  },
  {
   "cell_type": "markdown",
   "metadata": {},
   "source": [
    "## Checks"
   ]
  },
  {
   "cell_type": "code",
   "execution_count": 59,
   "metadata": {},
   "outputs": [
    {
     "data": {
      "text/plain": [
       "(918, 18)"
      ]
     },
     "execution_count": 59,
     "metadata": {},
     "output_type": "execute_result"
    }
   ],
   "source": [
    "df_all.shape"
   ]
  },
  {
   "cell_type": "code",
   "execution_count": 63,
   "metadata": {},
   "outputs": [
    {
     "data": {
      "text/plain": [
       "array(['United States', 'Switzerland', 'Germany', 'United Kingdom',\n",
       "       'France', 'Belgium', nan], dtype=object)"
      ]
     },
     "execution_count": 63,
     "metadata": {},
     "output_type": "execute_result"
    }
   ],
   "source": [
    "df_all['country_x'].unique()"
   ]
  },
  {
   "cell_type": "code",
   "execution_count": 64,
   "metadata": {},
   "outputs": [
    {
     "data": {
      "text/plain": [
       "United States     508\n",
       "Switzerland         1\n",
       "Germany             1\n",
       "United Kingdom      1\n",
       "France              1\n",
       "Belgium             1\n",
       "Name: country_x, dtype: int64"
      ]
     },
     "execution_count": 64,
     "metadata": {},
     "output_type": "execute_result"
    }
   ],
   "source": [
    "# have country info for 585/956\n",
    "df_all['country_x'].value_counts(normalize=False)"
   ]
  },
  {
   "cell_type": "code",
   "execution_count": 62,
   "metadata": {},
   "outputs": [
    {
     "ename": "SyntaxError",
     "evalue": "Missing parentheses in call to 'print'. Did you mean print(x)? (3872341986.py, line 1)",
     "output_type": "error",
     "traceback": [
      "\u001b[0;36m  File \u001b[0;32m\"/var/folders/f5/4hllfzqx6pq2sfm22_khf5400000gn/T/ipykernel_89542/3872341986.py\"\u001b[0;36m, line \u001b[0;32m1\u001b[0m\n\u001b[0;31m    print x\u001b[0m\n\u001b[0m          ^\u001b[0m\n\u001b[0;31mSyntaxError\u001b[0m\u001b[0;31m:\u001b[0m Missing parentheses in call to 'print'. Did you mean print(x)?\n"
     ]
    }
   ],
   "source": [
    "print x\n"
   ]
  },
  {
   "cell_type": "code",
   "execution_count": null,
   "metadata": {},
   "outputs": [],
   "source": [
    "df_check = df_all.groupby(['in_sp500', 'in_osci', 'in_suzy', 'in_ospo','company_count']).count()\n",
    "df_check"
   ]
  },
  {
   "cell_type": "code",
   "execution_count": null,
   "metadata": {},
   "outputs": [],
   "source": [
    "df_all.head(5)"
   ]
  },
  {
   "cell_type": "code",
   "execution_count": null,
   "metadata": {},
   "outputs": [],
   "source": [
    "# reorder columns\n",
    "new_order = ['symbol', 'company', 'sector', 'osci_industry', 'in_sp500', 'in_ospo', 'in_osci', 'in_suzy', 'osci_position',\n",
    "            'os_engagement','relevance','company_count','ospo_status', 'symbol_ospo','market_cap','country'\n",
    "             ]\n",
    "df_new = df_all.reindex(new_order, axis=1)\n",
    "\n",
    "df_new.head(2)"
   ]
  },
  {
   "cell_type": "code",
   "execution_count": null,
   "metadata": {},
   "outputs": [],
   "source": [
    "#df_check = df_all.groupby(['in_sp500']).count()\n",
    "#df_check"
   ]
  },
  {
   "cell_type": "code",
   "execution_count": null,
   "metadata": {},
   "outputs": [],
   "source": []
  },
  {
   "cell_type": "code",
   "execution_count": null,
   "metadata": {},
   "outputs": [],
   "source": [
    "# if in_sp500=1 and country is missing, fill it in with \"United States\"\n",
    "# By checking multiple conditions\n",
    "#df_new['country'] = np.where((df_new['in_sp500'] == 1) & (df_new['country'] == \" \"), \"United States\", df_new['country'])\n",
    "#df_new.head(2)"
   ]
  },
  {
   "cell_type": "markdown",
   "metadata": {},
   "source": [
    "# NEXT STEPS\n",
    "- sort and check company names\n",
    "- add in missing country names\n",
    "- Watch Lux video:  https://youtu.be/O28RZ8SsSQk\n",
    "- Run Lux examples with this dataset:  "
   ]
  },
  {
   "cell_type": "code",
   "execution_count": null,
   "metadata": {},
   "outputs": [],
   "source": []
  },
  {
   "cell_type": "code",
   "execution_count": null,
   "metadata": {},
   "outputs": [],
   "source": [
    "print(\"Today's date:\", current_date)"
   ]
  },
  {
   "cell_type": "markdown",
   "metadata": {},
   "source": [
    "# END OF CODE"
   ]
  },
  {
   "cell_type": "markdown",
   "metadata": {},
   "source": [
    "# END OF CODE"
   ]
  },
  {
   "cell_type": "markdown",
   "metadata": {},
   "source": [
    "# END OF CODE"
   ]
  },
  {
   "cell_type": "markdown",
   "metadata": {},
   "source": [
    "---"
   ]
  },
  {
   "cell_type": "code",
   "execution_count": null,
   "metadata": {},
   "outputs": [],
   "source": [
    "print x"
   ]
  },
  {
   "cell_type": "markdown",
   "metadata": {},
   "source": [
    "### Lux video"
   ]
  },
  {
   "cell_type": "markdown",
   "metadata": {},
   "source": [
    "#### Example hands-on Lux tutorial\n",
    "https://mybinder.org/v2/gh/lux-org/lux-binder/master?urlpath=lab/tree/demo/hpi_covid_demo.ipynb\n"
   ]
  },
  {
   "cell_type": "code",
   "execution_count": null,
   "metadata": {},
   "outputs": [],
   "source": [
    "import pandas as pd\n",
    "#df = pd.read_csv(\"data.csv\")\n",
    "import lux\n",
    "\n",
    "df = df_all.copy()\n",
    "#df.groupby(\" \").mean()[\"xxx\"]"
   ]
  },
  {
   "cell_type": "code",
   "execution_count": null,
   "metadata": {},
   "outputs": [],
   "source": [
    "df"
   ]
  },
  {
   "cell_type": "code",
   "execution_count": null,
   "metadata": {},
   "outputs": [],
   "source": [
    "# numerical variables\n",
    "df.intent = ['market_cap','osci_position']"
   ]
  },
  {
   "cell_type": "code",
   "execution_count": null,
   "metadata": {},
   "outputs": [],
   "source": [
    "df"
   ]
  },
  {
   "cell_type": "code",
   "execution_count": null,
   "metadata": {},
   "outputs": [],
   "source": [
    "# for 1-d series, such as time, we can see patterns of other variables over time\n",
    "# Example covid['Day']\n"
   ]
  },
  {
   "cell_type": "code",
   "execution_count": null,
   "metadata": {},
   "outputs": [],
   "source": [
    "df['osci_position']"
   ]
  },
  {
   "cell_type": "code",
   "execution_count": null,
   "metadata": {},
   "outputs": [],
   "source": [
    "# Quick-and-dirty experimentation with visualizations\n",
    "\n",
    "from lux.vis.Vis import Vis\n",
    "Vis(['osci_position'], df)"
   ]
  },
  {
   "cell_type": "code",
   "execution_count": null,
   "metadata": {},
   "outputs": [],
   "source": []
  },
  {
   "cell_type": "code",
   "execution_count": null,
   "metadata": {},
   "outputs": [],
   "source": []
  },
  {
   "cell_type": "code",
   "execution_count": null,
   "metadata": {},
   "outputs": [],
   "source": []
  },
  {
   "cell_type": "code",
   "execution_count": null,
   "metadata": {},
   "outputs": [],
   "source": []
  },
  {
   "cell_type": "code",
   "execution_count": null,
   "metadata": {},
   "outputs": [],
   "source": [
    "df_meetup['city'].mask(df_meetup['city'] == 'Raleigh', 'Raleigh-Durham', inplace=True)\n",
    "\n"
   ]
  },
  {
   "cell_type": "code",
   "execution_count": null,
   "metadata": {},
   "outputs": [],
   "source": [
    "# rename columns\n",
    "df_meetup.rename(columns={\"name\": \"meetup_name\", \n",
    "                          \"members\": \"meetup_members\",\n",
    "                          \"fullurl\": \"meetup_url\",\n",
    "                          \"created\": \"meetup_created\",\n",
    "                          \"status\": \"meetup_status\"\n",
    "                            },\n",
    "                   inplace = True,\n",
    "                   errors=\"raise\")"
   ]
  },
  {
   "cell_type": "markdown",
   "metadata": {},
   "source": [
    "## 2. Data Source:  Chapter List\n",
    "### Get raw data"
   ]
  },
  {
   "cell_type": "code",
   "execution_count": null,
   "metadata": {},
   "outputs": [],
   "source": [
    "!ls -alt data_raw/"
   ]
  },
  {
   "cell_type": "code",
   "execution_count": null,
   "metadata": {},
   "outputs": [],
   "source": [
    "file_name = '1_pyladies_export_2021_03_01.csv'\n",
    "\n",
    "chapter_list = pd.read_csv(datapath+file_name)  "
   ]
  },
  {
   "cell_type": "code",
   "execution_count": null,
   "metadata": {},
   "outputs": [],
   "source": [
    "chapter_list.head()"
   ]
  },
  {
   "cell_type": "code",
   "execution_count": null,
   "metadata": {},
   "outputs": [],
   "source": [
    "chapter_list.info()"
   ]
  },
  {
   "cell_type": "code",
   "execution_count": null,
   "metadata": {},
   "outputs": [],
   "source": [
    "chapter_list.shape"
   ]
  },
  {
   "cell_type": "code",
   "execution_count": null,
   "metadata": {},
   "outputs": [],
   "source": [
    "df_chapter = chapter_list.copy()\n",
    "# rename columns\n",
    "df_chapter.rename(columns={\"First Name [Required]\": \"city1\", \n",
    "                             \"Last Name [Required]\": \"city2\", \n",
    "                             \"Email Address [Required]\": \"email\",\n",
    "                             \"Last Sign In [READ ONLY]\": \"email_signin_date\",\n",
    "                             \"Email Usage [READ ONLY]\": \"email_usage\"\n",
    "                            },\n",
    "                   inplace = True,\n",
    "                   errors=\"raise\")\n",
    "\n",
    "\n",
    "# delete columns:  'active' is same for all\n",
    "df_chapter = df_chapter.drop(['Status [READ ONLY]'], axis=1)\n",
    "\n",
    "# fix data issue\n",
    "df_chapter['city2'].mask(df_chapter['city2'] == \\\n",
    "                      'PyLladies', \\\n",
    "                      'PyLadies', inplace=True)\n",
    "\n",
    "df_chapter['city2'].mask(df_chapter['city2'] == \\\n",
    "                      'PyLdies', \\\n",
    "                      'PyLadies', inplace=True)\n",
    "\n",
    "# swap some rows\n",
    "df_chapter['city_temp1'] = df_chapter['city1'].str.upper() \n",
    "df_chapter['city_temp2'] = df_chapter['city2'].str.upper() \n",
    "\n",
    "df_chapter['city'] = df_chapter['city1']\n",
    "df_chapter['temp'] = df_chapter['city2']\n",
    "\n",
    "df_chapter['city'].mask(df_chapter['city_temp1'] == 'PYLADIES', df_chapter['city2'], inplace=True)\n",
    "\n",
    "df_chapter['temp'].mask(df_chapter['city_temp2'] == 'PYLADIES', df_chapter['city1'], inplace=True)\n",
    "\n",
    "# exclude some rows\n",
    "df_chapter = df_chapter[(df_chapter['city_temp1'] == 'PYLADIES') | (df_chapter['city_temp2'] == 'PYLADIES')] \n",
    "\n",
    "df_chapter = df_chapter[(df_chapter['city1'] != 'Admin')] \n",
    "df_chapter = df_chapter[(df_chapter['city2'] != 'Sponsorship')] \n",
    "df_chapter = df_chapter[(df_chapter['city2'] != 'Info')] \n",
    "df_chapter = df_chapter[(df_chapter['city2'] != 'Systems')] \n",
    "df_chapter = df_chapter[(df_chapter['city1'] != 'Communications')] \n",
    "\n",
    "# clean up city names\n",
    "df_chapter['city'].mask(df_chapter['city'] == 'NYC', 'New York', inplace=True)\n",
    "df_chapter['city'].mask(df_chapter['city'] == 'Princeton NJ', 'Princeton', inplace=True)\n",
    "df_chapter['city'].mask(df_chapter['city'] == 'Pune, India', 'Pune', inplace=True)\n",
    "df_chapter['city'].mask(df_chapter['city'] == 'TC', 'Minneapolis', inplace=True)\n",
    "df_chapter['city'].mask(df_chapter['city'] == 'Goa', 'Panaji Goa', inplace=True)\n",
    "df_chapter['city'].mask(df_chapter['city'] == 'Visakhapatnam/Andhra Pradesh/India', 'Visakhapatnam', inplace=True)\n",
    "df_chapter['city'].mask(df_chapter['city'] == 'Washington', 'Washington DC', inplace=True)\n",
    "df_chapter['city'].mask(df_chapter['city'] == 'Aba / Abia State', 'Aba', inplace=True)\n",
    "df_chapter['city'].mask(df_chapter['city'] == 'West Windsor NJ', 'West Windsor', inplace=True)\n",
    "df_chapter['city'].mask(df_chapter['city'] == 'Medellin', 'Medellín', inplace=True)\n",
    "df_chapter['city'].mask(df_chapter['city'] == 'Albania', 'Tirania', inplace=True)\n",
    "df_chapter['city'].mask(df_chapter['city'] == 'BH', 'Belo Horizonte', inplace=True)\n",
    "df_chapter['city'].mask(df_chapter['city'] == 'Guatemala', 'Guatemala City', inplace=True)\n",
    "df_chapter['city'].mask(df_chapter['city'] == 'Inland Empire', 'Riverside', inplace=True)\n",
    "df_chapter['city'].mask(df_chapter['city'] == 'Vale', 'Vale do Paraiba', inplace=True)\n",
    "df_chapter['city'].mask(df_chapter['city'] == 'Plateau', 'Jos Plateau', inplace=True)\n",
    "df_chapter['city'].mask(df_chapter['city'] == 'Recife, Brasil', 'Recife', inplace=True)\n",
    "df_chapter['city'].mask(df_chapter['city'] == 'Rio de Janerio', 'Rio de Janeirio', inplace=True)\n",
    "df_chapter['city'].mask(df_chapter['city'] == 'Salt Lake', 'Salt Lake City', inplace=True)\n",
    "df_chapter['city'].mask(df_chapter['city'] == 'SA', 'San Antonio', inplace=True)\n",
    "df_chapter['city'].mask(df_chapter['city'] == 'São Carlos, Brasil', 'São Carlos', inplace=True)\n",
    "df_chapter['city'].mask(df_chapter['city'] == 'Taiwan', 'Taipei', inplace=True)\n",
    "df_chapter['city'].mask(df_chapter['city'] == 'Milan', 'Milano', inplace=True)\n",
    "df_chapter['city'].mask(df_chapter['city'] == 'Munich', 'München', inplace=True)\n",
    "df_chapter['city'].mask(df_chapter['city'] == 'Rio de Janeirio', 'Rio de Janeiro', inplace=True)\n",
    "df_chapter['city'].mask(df_chapter['city'] == 'Bangalore', 'Bengaluru', inplace=True)\n",
    "df_chapter['city'].mask(df_chapter['city'] == 'DC', 'Washington DC', inplace=True)\n",
    "df_chapter['city'].mask(df_chapter['city'] == 'DF', 'Brasilia', inplace=True)\n",
    "df_chapter['city'].mask(df_chapter['city'] == 'Congo-Brazzaville', 'Brazzaville', inplace=True)\n",
    "\n",
    "\n",
    "import datetime\n",
    "df_chapter['date_logged'] = df_chapter['email_signin_date']\n",
    "\n",
    "df_chapter['email_signin_date'].mask(df_chapter['email_signin_date'] == 'Never logged in', 'NaN', inplace=True)\n",
    "\n",
    "df_chapter['email_signin_date'] = df_chapter['email_signin_date'].astype('datetime64[ns]').dt.date\n",
    "\n",
    "# drop temp variables\n",
    "df_chapter = df_chapter.drop(['city1','city2','city_temp1','city_temp2','temp'], axis=1)\n",
    "\n",
    "df_chapter['registered_db'] = 1"
   ]
  },
  {
   "cell_type": "code",
   "execution_count": null,
   "metadata": {},
   "outputs": [],
   "source": [
    "df_chapter.head(300)"
   ]
  },
  {
   "cell_type": "code",
   "execution_count": null,
   "metadata": {},
   "outputs": [],
   "source": [
    "df_chapter.shape"
   ]
  },
  {
   "cell_type": "code",
   "execution_count": null,
   "metadata": {},
   "outputs": [],
   "source": [
    "df_all = pd.merge(df_chapter, df_meetup, on=['city'],  how='outer')"
   ]
  },
  {
   "cell_type": "code",
   "execution_count": null,
   "metadata": {},
   "outputs": [],
   "source": [
    "print('emails (all):      ', chapter_list.shape)\n",
    "print('emails (chapters): ', df_chapter.shape)\n",
    "print('-'*30)\n",
    "print('meetup dashboard:  ', df_meetup.shape)\n",
    "print('-'*30)\n",
    "print('Merged:            ', df_all.shape)"
   ]
  },
  {
   "cell_type": "code",
   "execution_count": null,
   "metadata": {},
   "outputs": [],
   "source": [
    "df_all.sort_values(by=['city'])"
   ]
  },
  {
   "cell_type": "code",
   "execution_count": null,
   "metadata": {},
   "outputs": [],
   "source": [
    "df_all[['email','email_signin_date','email_usage','city','country','region', 'registered_db','meetup_db','meetup_status','last_event']]"
   ]
  },
  {
   "cell_type": "code",
   "execution_count": null,
   "metadata": {},
   "outputs": [],
   "source": [
    "df_all = df_all.drop(['country','region'], axis=1)"
   ]
  },
  {
   "cell_type": "code",
   "execution_count": null,
   "metadata": {},
   "outputs": [],
   "source": []
  },
  {
   "cell_type": "markdown",
   "metadata": {},
   "source": [
    "## 3. Data Source:  Reshama's Inventory\n",
    "### Get raw data"
   ]
  },
  {
   "cell_type": "code",
   "execution_count": null,
   "metadata": {},
   "outputs": [],
   "source": [
    "file_name3 = '2021_PyLadies_Inventory - 2021-03.csv'\n",
    "df_inventory = pd.read_csv(datapath+file_name3)  \n",
    "df_inventory['inv_db'] = 1"
   ]
  },
  {
   "cell_type": "code",
   "execution_count": null,
   "metadata": {},
   "outputs": [],
   "source": [
    "#df_inventory['city'].mask(df_inventory['city'] == 'Caxias Do Sul', 'Caxias do Sul', inplace=True)\n",
    "#df_inventory['city'].mask(df_inventory['city'] == 'Duque De Caxias', 'Duque de Caxias', inplace=True)\n",
    "#df_inventory['city'].mask(df_inventory['city'] == 'Salt Lake Area', 'Salt Lake City', inplace=True)\n"
   ]
  },
  {
   "cell_type": "code",
   "execution_count": null,
   "metadata": {},
   "outputs": [],
   "source": [
    "df_inventory.head(5)"
   ]
  },
  {
   "cell_type": "code",
   "execution_count": null,
   "metadata": {},
   "outputs": [],
   "source": [
    "df_inventory.shape"
   ]
  },
  {
   "cell_type": "code",
   "execution_count": null,
   "metadata": {},
   "outputs": [],
   "source": []
  },
  {
   "cell_type": "code",
   "execution_count": null,
   "metadata": {},
   "outputs": [],
   "source": [
    "df_use = pd.merge(df_all, df_inventory, on=['city'],  how='outer')"
   ]
  },
  {
   "cell_type": "code",
   "execution_count": null,
   "metadata": {
    "scrolled": true
   },
   "outputs": [],
   "source": [
    "df_use = df_use.sort_values(by=['city'])\n",
    "\n",
    "df_use.head(4)"
   ]
  },
  {
   "cell_type": "code",
   "execution_count": null,
   "metadata": {},
   "outputs": [],
   "source": [
    "# As a default, if meetup group exists, use that member count\n",
    "\n",
    "#df_test=df_use.copy()\n",
    "\n",
    "# df_test[['city', 'country','region', \\\n",
    "#         'registered_db','meetup_db','main_platform','meetup_members','members_followers']].head(10)\n",
    "# df_test['members_followers'].mask(df_test['meetup_members'] == 'NaN', df_test['members_followers'], inplace=True)\n",
    "\n",
    "\n",
    "df_use['members_followers']=df_use['meetup_members'].mask(pd.isnull, df_use['members_manual'])\n",
    "\n",
    "\n",
    "df_use[['city', 'country','region', \\\n",
    "        'registered_db','meetup_db','main_platform','meetup_members','members_manual','members_followers']].head(100)\n"
   ]
  },
  {
   "cell_type": "code",
   "execution_count": null,
   "metadata": {},
   "outputs": [],
   "source": [
    "df_use[['city', 'country','region', \\\n",
    "        'registered_db','meetup_db','main_platform','meetup_members','members_followers']]\n"
   ]
  },
  {
   "cell_type": "code",
   "execution_count": null,
   "metadata": {},
   "outputs": [],
   "source": [
    "df_use.shape"
   ]
  },
  {
   "cell_type": "code",
   "execution_count": null,
   "metadata": {},
   "outputs": [],
   "source": [
    "#df_use[['email','email_signin_date','email_usage','city','country_x','region_x', 'country_y','region_y', 'registered_db','meetup_db','status','last_event']]\n",
    "df_use[['email','email_signin_date','city', 'country','region', \\\n",
    "        'registered_db','meetup_db','main_platform']]\n"
   ]
  },
  {
   "cell_type": "code",
   "execution_count": null,
   "metadata": {},
   "outputs": [],
   "source": [
    "df_use['chapter_count'] = 1"
   ]
  },
  {
   "cell_type": "code",
   "execution_count": null,
   "metadata": {},
   "outputs": [],
   "source": [
    "df_use['meetup_db'].unique()"
   ]
  },
  {
   "cell_type": "code",
   "execution_count": null,
   "metadata": {},
   "outputs": [],
   "source": [
    "df_use['meetup_db'].value_counts(normalize=True)"
   ]
  },
  {
   "cell_type": "code",
   "execution_count": null,
   "metadata": {},
   "outputs": [],
   "source": [
    "df_use['meetup_db'].value_counts(normalize=False)"
   ]
  },
  {
   "cell_type": "code",
   "execution_count": null,
   "metadata": {},
   "outputs": [],
   "source": [
    "#df_use.head(3)"
   ]
  },
  {
   "cell_type": "code",
   "execution_count": null,
   "metadata": {
    "scrolled": true
   },
   "outputs": [],
   "source": [
    "df_use.shape"
   ]
  },
  {
   "cell_type": "markdown",
   "metadata": {},
   "source": [
    "### Remove Duplicates"
   ]
  },
  {
   "cell_type": "code",
   "execution_count": null,
   "metadata": {},
   "outputs": [],
   "source": [
    "# get names of indexes for which \n",
    "\n",
    "# Note:  There are 2 registered chapters for Bengaluru\n",
    "index_names = df_use[ df_use['email'] == 'bangalore@pyladies.com' ].index \n",
    "df_use.drop(index_names, inplace = True) \n",
    "\n",
    "index_names = df_use[ df_use['email'] == 'sa@pyladies.com' ].index \n",
    "df_use.drop(index_names, inplace = True) \n",
    "\n",
    "index_names = df_use[ df_use['email'] == 'mum@pyladies.com' ].index \n",
    "df_use.drop(index_names, inplace = True) \n",
    "\n",
    "index_names = df_use[ df_use['email'] == 'newark@pyladies.com' ].index \n",
    "df_use.drop(index_names, inplace = True) \n",
    "\n",
    "index_names = df_use[ df_use['email'] == 'alb@pyladies.com' ].index \n",
    "df_use.drop(index_names, inplace = True) \n",
    "\n",
    "index_names = df_use[ df_use['email'] == 'tampa@pyladies.com' ].index \n",
    "df_use.drop(index_names, inplace = True) \n",
    "\n",
    "index_names = df_use[ df_use['email'] == 'tunisia@pyladies.com' ].index \n",
    "df_use.drop(index_names, inplace = True) \n",
    "\n",
    "# Note:  There are 2 meetup groups with same name\n",
    "index_names = df_use[ df_use['meetup_url'] == 'https://www.meetup.com/Pyladies-Bogota/'].index \n",
    "df_use.drop(index_names, inplace = True) \n",
    "\n",
    "# Note:  There are 2 meetup groups with same name\n",
    "index_names = df_use[ df_use['meetup_url'] == 'https://www.meetup.com/PyLadies-PUC-Rio/'].index \n",
    "df_use.drop(index_names, inplace = True) \n",
    "\n",
    "\n",
    "df_use.shape"
   ]
  },
  {
   "cell_type": "markdown",
   "metadata": {},
   "source": [
    "### Create `location` column"
   ]
  },
  {
   "cell_type": "code",
   "execution_count": null,
   "metadata": {},
   "outputs": [],
   "source": [
    "df_use['location'] = df_use['city'].astype(str) + ' ' + df_use['country'].astype(str)\n",
    "df_use['location2']= df_use['city'].astype(str) \\\n",
    "                        + ' ' \\\n",
    "                        + df_use['state-province'].astype(str) \\\n",
    "                        + ' ' \\\n",
    "                        + df_use['country'].astype(str)\n",
    "\n",
    "\n",
    "subset = df_use[['location','location2', 'city', 'state-province','country','country_level','region', 'main_platform']]\n",
    "subset.head(300)"
   ]
  },
  {
   "cell_type": "code",
   "execution_count": null,
   "metadata": {},
   "outputs": [],
   "source": [
    "df_use.head()"
   ]
  },
  {
   "cell_type": "markdown",
   "metadata": {},
   "source": [
    "## For Venn Diagram"
   ]
  },
  {
   "cell_type": "code",
   "execution_count": null,
   "metadata": {},
   "outputs": [],
   "source": [
    "# subset = df_use[df_use[\"meetup\"].isin([\"1\"])]\n",
    "# subset"
   ]
  },
  {
   "cell_type": "code",
   "execution_count": null,
   "metadata": {},
   "outputs": [],
   "source": []
  },
  {
   "cell_type": "code",
   "execution_count": null,
   "metadata": {},
   "outputs": [],
   "source": [
    "df_use[['email','email_signin_date','city', 'country','region', \\\n",
    "        'registered_db','meetup_db','main_platform']]"
   ]
  },
  {
   "cell_type": "code",
   "execution_count": null,
   "metadata": {},
   "outputs": [],
   "source": [
    "df_use_check=df_use[['meetup_db','registered_db','inv_db','chapter_count']]"
   ]
  },
  {
   "cell_type": "code",
   "execution_count": null,
   "metadata": {},
   "outputs": [],
   "source": [
    "df_check = df_use_check.groupby(['meetup_db']).sum()"
   ]
  },
  {
   "cell_type": "code",
   "execution_count": null,
   "metadata": {},
   "outputs": [],
   "source": [
    "df_check"
   ]
  },
  {
   "cell_type": "code",
   "execution_count": null,
   "metadata": {},
   "outputs": [],
   "source": [
    "df_check = df_use_check.groupby(['registered_db']).sum()"
   ]
  },
  {
   "cell_type": "code",
   "execution_count": null,
   "metadata": {},
   "outputs": [],
   "source": [
    "df_check"
   ]
  },
  {
   "cell_type": "code",
   "execution_count": null,
   "metadata": {},
   "outputs": [],
   "source": [
    "df_check = df_use_check.groupby(['inv_db']).sum()"
   ]
  },
  {
   "cell_type": "code",
   "execution_count": null,
   "metadata": {},
   "outputs": [],
   "source": [
    "df_check"
   ]
  },
  {
   "cell_type": "code",
   "execution_count": null,
   "metadata": {},
   "outputs": [],
   "source": [
    "df_check = df_use.groupby(['meetup_db','registered_db','inv_db']).sum()\n",
    "#df_check = df_use.groupby(['meetup_db','registered_db','inv_db']).count()\n",
    "df_check"
   ]
  },
  {
   "cell_type": "code",
   "execution_count": null,
   "metadata": {},
   "outputs": [],
   "source": [
    "df_use[['meetup_db','registered_db','inv_db','email','email_signin_date','city', 'state-province','country','region', 'main_platform']]"
   ]
  },
  {
   "cell_type": "code",
   "execution_count": null,
   "metadata": {},
   "outputs": [],
   "source": [
    "df_use.shape"
   ]
  },
  {
   "cell_type": "code",
   "execution_count": null,
   "metadata": {},
   "outputs": [],
   "source": [
    "# subset = df_use.query('meetup_db' in(1))\n",
    "# #& registered_db == '1')\n",
    "\n",
    "\n",
    "# temp = df_use[df_use.eval(\"meetup_db = '1'\")]\n"
   ]
  },
  {
   "cell_type": "code",
   "execution_count": null,
   "metadata": {},
   "outputs": [],
   "source": [
    "df_use['status_derived'].value_counts(normalize=False)"
   ]
  },
  {
   "cell_type": "code",
   "execution_count": null,
   "metadata": {},
   "outputs": [],
   "source": [
    "df_use['main_platform'].value_counts(normalize=False)"
   ]
  },
  {
   "cell_type": "code",
   "execution_count": null,
   "metadata": {},
   "outputs": [],
   "source": [
    "subset = df_use[df_use[\"country_level\"].isin([\"1\"])]\n",
    "print(subset.shape)\n",
    "subset.head()\n"
   ]
  },
  {
   "cell_type": "code",
   "execution_count": null,
   "metadata": {},
   "outputs": [],
   "source": [
    "df_use['region'].value_counts(normalize=False)"
   ]
  },
  {
   "cell_type": "code",
   "execution_count": null,
   "metadata": {},
   "outputs": [],
   "source": [
    "df_use['members_followers'].sum()"
   ]
  },
  {
   "cell_type": "code",
   "execution_count": null,
   "metadata": {},
   "outputs": [],
   "source": [
    "(df_use['country'].unique()).shape"
   ]
  },
  {
   "cell_type": "code",
   "execution_count": null,
   "metadata": {},
   "outputs": [],
   "source": [
    "df_use['country'].value_counts(normalize=False)[:10]"
   ]
  },
  {
   "cell_type": "code",
   "execution_count": null,
   "metadata": {},
   "outputs": [],
   "source": [
    "# 75 meetup\n",
    "# 60 not found\n",
    "# 135\n",
    "# 261 - 135 = 125 -45 Brazil = 90\n",
    "\n"
   ]
  },
  {
   "cell_type": "markdown",
   "metadata": {},
   "source": [
    "# Set cvs file"
   ]
  },
  {
   "cell_type": "code",
   "execution_count": null,
   "metadata": {},
   "outputs": [],
   "source": [
    "#df_use.sort_values(by=['region','country','city','state-province'])\n",
    "\n",
    "df_use.sort_values(['region','country','city','state-province'], inplace=True, ascending=True)\n"
   ]
  },
  {
   "cell_type": "code",
   "execution_count": null,
   "metadata": {},
   "outputs": [],
   "source": [
    "df_use.to_csv('data_derived/pyladies_clean.csv',\n",
    "              columns=['region','country','city','state-province','email','email_signin_date','email_usage', \\\n",
    "                       'main_platform','founded','meetup_created','main_platform_link','members_followers', \\\n",
    "                       'status_derived','members_manual','meetup_members', 'meetup_url', 'meetup_status','last_event',\\\n",
    "                       'past_events','upcoming_events','country_level','last_activity', 'facebook_page',\\\n",
    "                       'website','meetup_link', 'twitter_link','instagram_link','other_social_media', \\\n",
    "                       'meetup_db','registered_db','inv_db','meetup_name','location','location2','chapter_count'\n",
    "                                 ])\n"
   ]
  },
  {
   "cell_type": "code",
   "execution_count": null,
   "metadata": {},
   "outputs": [],
   "source": [
    "#df_use.info()"
   ]
  },
  {
   "cell_type": "code",
   "execution_count": null,
   "metadata": {
    "scrolled": true
   },
   "outputs": [],
   "source": [
    "df_use.head()"
   ]
  },
  {
   "cell_type": "code",
   "execution_count": null,
   "metadata": {},
   "outputs": [],
   "source": []
  },
  {
   "cell_type": "code",
   "execution_count": null,
   "metadata": {},
   "outputs": [],
   "source": []
  },
  {
   "cell_type": "code",
   "execution_count": null,
   "metadata": {},
   "outputs": [],
   "source": []
  }
 ],
 "metadata": {
  "kernelspec": {
   "display_name": "Python 3 (ipykernel)",
   "language": "python",
   "name": "python3"
  },
  "language_info": {
   "codemirror_mode": {
    "name": "ipython",
    "version": 3
   },
   "file_extension": ".py",
   "mimetype": "text/x-python",
   "name": "python",
   "nbconvert_exporter": "python",
   "pygments_lexer": "ipython3",
   "version": "3.9.7"
  }
 },
 "nbformat": 4,
 "nbformat_minor": 4
}
