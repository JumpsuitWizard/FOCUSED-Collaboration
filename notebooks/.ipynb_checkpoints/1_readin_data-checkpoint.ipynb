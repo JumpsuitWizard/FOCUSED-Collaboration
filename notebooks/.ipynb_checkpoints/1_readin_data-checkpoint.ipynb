{
 "cells": [
  {
   "cell_type": "markdown",
   "metadata": {},
   "source": [
    "## FOCUSED\n",
    "- Author:  Reshama Shaikh\n",
    "\n",
    "## Data Sources\n",
    "1. S&P 500\n",
    "1. OSCI Index\n",
    "1. Suzy spreadsheet\n"
   ]
  },
  {
   "cell_type": "markdown",
   "metadata": {},
   "source": [
    "---"
   ]
  },
  {
   "cell_type": "markdown",
   "metadata": {},
   "source": [
    "## Date"
   ]
  },
  {
   "cell_type": "code",
   "execution_count": 1,
   "metadata": {},
   "outputs": [
    {
     "name": "stdout",
     "output_type": "stream",
     "text": [
      "Today's date: 2022-05-03\n"
     ]
    }
   ],
   "source": [
    "from datetime import date\n",
    "\n",
    "current_date = date.today()\n",
    "print(\"Today's date:\", current_date)"
   ]
  },
  {
   "cell_type": "markdown",
   "metadata": {},
   "source": [
    "## Import libraries\n"
   ]
  },
  {
   "cell_type": "code",
   "execution_count": 2,
   "metadata": {},
   "outputs": [],
   "source": [
    "import pandas as pd \n",
    "import numpy as np\n",
    "import requests\n",
    "import time\n",
    "import csv\n",
    "from pprint import pprint"
   ]
  },
  {
   "cell_type": "code",
   "execution_count": 3,
   "metadata": {},
   "outputs": [],
   "source": [
    "import plotly.express as px\n",
    "import plotly.graph_objects as go"
   ]
  },
  {
   "cell_type": "code",
   "execution_count": 4,
   "metadata": {},
   "outputs": [
    {
     "name": "stdout",
     "output_type": "stream",
     "text": [
      "Python implementation: CPython\n",
      "Python version       : 3.9.7\n",
      "IPython version      : 7.25.0\n",
      "\n",
      "Compiler    : Clang 11.1.0 \n",
      "OS          : Darwin\n",
      "Release     : 19.6.0\n",
      "Machine     : x86_64\n",
      "Processor   : i386\n",
      "CPU cores   : 4\n",
      "Architecture: 64bit\n",
      "\n",
      "Git hash: e7a629445c456b2ed6aab6410137c3e0c696b677\n",
      "\n",
      "numpy   : 1.20.2\n",
      "csv     : 1.0\n",
      "pandas  : 1.3.3\n",
      "plotly  : 5.4.0\n",
      "requests: 2.25.1\n",
      "\n"
     ]
    }
   ],
   "source": [
    "%load_ext watermark\n",
    "%watermark -n -v -m -g -iv"
   ]
  },
  {
   "cell_type": "markdown",
   "metadata": {},
   "source": [
    "## Set pandas view options"
   ]
  },
  {
   "cell_type": "code",
   "execution_count": 5,
   "metadata": {},
   "outputs": [],
   "source": [
    "pd.set_option('display.max_columns', None)\n",
    "pd.set_option('display.max_rows', None)"
   ]
  },
  {
   "cell_type": "markdown",
   "metadata": {},
   "source": [
    "### 1. Data Source:  S&P 500"
   ]
  },
  {
   "cell_type": "code",
   "execution_count": 6,
   "metadata": {},
   "outputs": [],
   "source": [
    "datapath=\"data_raw/\"\n",
    "\n",
    "def get_raw_data(data_url, file_name):\n",
    "    file_url = data_url + \"/\" + file_name\n",
    "    !wget -N {file_url} -P {datapath} \n",
    "    \n",
    "def read_raw_data(file_name):\n",
    "    df_use = pd.read_csv(datapath+file_name)\n",
    "    \n",
    "    return df_use"
   ]
  },
  {
   "cell_type": "code",
   "execution_count": 7,
   "metadata": {},
   "outputs": [],
   "source": [
    "data_url='https://raw.githubusercontent.com/datasets/s-and-p-500-companies/master/data/'\n",
    "file_name = 'constituents.csv'\n",
    "\n",
    "#run once\n",
    "#get_raw_data(data_url, file_name)"
   ]
  },
  {
   "cell_type": "code",
   "execution_count": 8,
   "metadata": {},
   "outputs": [],
   "source": [
    "# run once\n",
    "#!mv data_raw/constituents.csv data_raw/sp500.csv "
   ]
  },
  {
   "cell_type": "code",
   "execution_count": 9,
   "metadata": {},
   "outputs": [
    {
     "name": "stdout",
     "output_type": "stream",
     "text": [
      "(505, 3)\n"
     ]
    },
    {
     "data": {
      "text/html": [
       "<div>\n",
       "<style scoped>\n",
       "    .dataframe tbody tr th:only-of-type {\n",
       "        vertical-align: middle;\n",
       "    }\n",
       "\n",
       "    .dataframe tbody tr th {\n",
       "        vertical-align: top;\n",
       "    }\n",
       "\n",
       "    .dataframe thead th {\n",
       "        text-align: right;\n",
       "    }\n",
       "</style>\n",
       "<table border=\"1\" class=\"dataframe\">\n",
       "  <thead>\n",
       "    <tr style=\"text-align: right;\">\n",
       "      <th></th>\n",
       "      <th>Symbol</th>\n",
       "      <th>Name</th>\n",
       "      <th>Sector</th>\n",
       "    </tr>\n",
       "  </thead>\n",
       "  <tbody>\n",
       "    <tr>\n",
       "      <th>0</th>\n",
       "      <td>MMM</td>\n",
       "      <td>3M</td>\n",
       "      <td>Industrials</td>\n",
       "    </tr>\n",
       "    <tr>\n",
       "      <th>1</th>\n",
       "      <td>AOS</td>\n",
       "      <td>A. O. Smith</td>\n",
       "      <td>Industrials</td>\n",
       "    </tr>\n",
       "    <tr>\n",
       "      <th>2</th>\n",
       "      <td>ABT</td>\n",
       "      <td>Abbott Laboratories</td>\n",
       "      <td>Health Care</td>\n",
       "    </tr>\n",
       "    <tr>\n",
       "      <th>3</th>\n",
       "      <td>ABBV</td>\n",
       "      <td>AbbVie</td>\n",
       "      <td>Health Care</td>\n",
       "    </tr>\n",
       "    <tr>\n",
       "      <th>4</th>\n",
       "      <td>ABMD</td>\n",
       "      <td>Abiomed</td>\n",
       "      <td>Health Care</td>\n",
       "    </tr>\n",
       "  </tbody>\n",
       "</table>\n",
       "</div>"
      ],
      "text/plain": [
       "  Symbol                 Name       Sector\n",
       "0    MMM                   3M  Industrials\n",
       "1    AOS          A. O. Smith  Industrials\n",
       "2    ABT  Abbott Laboratories  Health Care\n",
       "3   ABBV               AbbVie  Health Care\n",
       "4   ABMD              Abiomed  Health Care"
      ]
     },
     "execution_count": 9,
     "metadata": {},
     "output_type": "execute_result"
    }
   ],
   "source": [
    "file_name='sp500.csv'\n",
    "df_sp = read_raw_data(file_name)\n",
    "\n",
    "print(df_sp.shape)\n",
    "df_sp.head(5)"
   ]
  },
  {
   "cell_type": "markdown",
   "metadata": {},
   "source": [
    "### 2. Data Source:  OSCI"
   ]
  },
  {
   "cell_type": "code",
   "execution_count": 10,
   "metadata": {},
   "outputs": [],
   "source": [
    "data_url='https://ststaticprodosciwebz2vmu.blob.core.windows.net/data/osci-ranking/daily'\n",
    "file_name = '2022-04-17.json'\n",
    "\n",
    "#run once\n",
    "#get_raw_data(data_url, file_name)"
   ]
  },
  {
   "cell_type": "code",
   "execution_count": 11,
   "metadata": {},
   "outputs": [],
   "source": [
    "# run once\n",
    "#!mv data_raw/2022-04-17.json data_raw/osci.json "
   ]
  },
  {
   "cell_type": "code",
   "execution_count": 12,
   "metadata": {},
   "outputs": [
    {
     "data": {
      "text/plain": [
       "'osci.json'"
      ]
     },
     "execution_count": 12,
     "metadata": {},
     "output_type": "execute_result"
    }
   ],
   "source": [
    "file_name='osci.json'\n",
    "file_name"
   ]
  },
  {
   "cell_type": "code",
   "execution_count": 13,
   "metadata": {},
   "outputs": [
    {
     "name": "stdout",
     "output_type": "stream",
     "text": [
      "3\n",
      "2\n"
     ]
    }
   ],
   "source": [
    "import json\n",
    " \n",
    "# Opening JSON file\n",
    "f = open('data_raw/osci.json')\n",
    " \n",
    "# returns JSON object as\n",
    "# a dictionary\n",
    "data = json.load(f)\n",
    "\n",
    "print(len(data))\n",
    "#print(data)\n",
    "\n",
    "\n",
    "# Iterating through the json\n",
    "# list\n",
    "for i in data['date'][0]:\n",
    "    print(i)\n",
    " \n",
    "# Closing file\n",
    "f.close()"
   ]
  },
  {
   "cell_type": "code",
   "execution_count": 14,
   "metadata": {},
   "outputs": [
    {
     "name": "stdout",
     "output_type": "stream",
     "text": [
      "2022-04-17\n",
      "<class 'dict'>\n",
      "<class 'str'>\n",
      "2022-04-17 Google\n"
     ]
    }
   ],
   "source": [
    "print(data['date'])\n",
    "print(type(data))\n",
    "print(type(data['date']))\n",
    "#print(data['date'].['comparedDate'])\n",
    "#print(data['date'][0]['data'])\n",
    "print(data['date'], data['data'][0]['company'])"
   ]
  },
  {
   "cell_type": "code",
   "execution_count": 15,
   "metadata": {},
   "outputs": [],
   "source": [
    "#pd.read_json('data_raw/osci.json')"
   ]
  },
  {
   "cell_type": "code",
   "execution_count": 16,
   "metadata": {},
   "outputs": [
    {
     "data": {
      "text/html": [
       "<div>\n",
       "<style scoped>\n",
       "    .dataframe tbody tr th:only-of-type {\n",
       "        vertical-align: middle;\n",
       "    }\n",
       "\n",
       "    .dataframe tbody tr th {\n",
       "        vertical-align: top;\n",
       "    }\n",
       "\n",
       "    .dataframe thead th {\n",
       "        text-align: right;\n",
       "    }\n",
       "</style>\n",
       "<table border=\"1\" class=\"dataframe\">\n",
       "  <thead>\n",
       "    <tr style=\"text-align: right;\">\n",
       "      <th></th>\n",
       "      <th>positionChange</th>\n",
       "      <th>company</th>\n",
       "      <th>activeContributors</th>\n",
       "      <th>activeContributorsChange</th>\n",
       "      <th>totalCommunity</th>\n",
       "      <th>totalCommunityChange</th>\n",
       "      <th>position</th>\n",
       "      <th>yoy</th>\n",
       "      <th>contributors</th>\n",
       "      <th>languages</th>\n",
       "      <th>licenses</th>\n",
       "      <th>industry</th>\n",
       "    </tr>\n",
       "  </thead>\n",
       "  <tbody>\n",
       "    <tr>\n",
       "      <th>0</th>\n",
       "      <td>0.0</td>\n",
       "      <td>Google</td>\n",
       "      <td>4017.0</td>\n",
       "      <td>273.0</td>\n",
       "      <td>8676</td>\n",
       "      <td>431.0</td>\n",
       "      <td>1</td>\n",
       "      <td>[{'date': '2020-04-17', 'active': 2587.0}, {'d...</td>\n",
       "      <td>[{'Contributor': 'Modular Magician', 'Commits'...</td>\n",
       "      <td>[{'name': 'Brightscript', 'amount': 5}, {'name...</td>\n",
       "      <td>[{'name': 'apache-2.0', 'amount': 180027}, {'n...</td>\n",
       "      <td>Technology</td>\n",
       "    </tr>\n",
       "  </tbody>\n",
       "</table>\n",
       "</div>"
      ],
      "text/plain": [
       "   positionChange company  activeContributors  activeContributorsChange  \\\n",
       "0             0.0  Google              4017.0                     273.0   \n",
       "\n",
       "   totalCommunity  totalCommunityChange  position  \\\n",
       "0            8676                 431.0         1   \n",
       "\n",
       "                                                 yoy  \\\n",
       "0  [{'date': '2020-04-17', 'active': 2587.0}, {'d...   \n",
       "\n",
       "                                        contributors  \\\n",
       "0  [{'Contributor': 'Modular Magician', 'Commits'...   \n",
       "\n",
       "                                           languages  \\\n",
       "0  [{'name': 'Brightscript', 'amount': 5}, {'name...   \n",
       "\n",
       "                                            licenses    industry  \n",
       "0  [{'name': 'apache-2.0', 'amount': 180027}, {'n...  Technology  "
      ]
     },
     "execution_count": 16,
     "metadata": {},
     "output_type": "execute_result"
    }
   ],
   "source": [
    "# Normalizing data\n",
    "multiple_level_data = pd.json_normalize(data, record_path =['data'])\n",
    "#, meta =['original_number_of_clusters','Scaler','family_min_samples_percentage'], \n",
    "#meta_prefix='config_params_', record_prefix='dbscan_')\n",
    "\n",
    "# Saving to CSV format\n",
    "#multiple_level_data.to_csv('multiplelevel_normalized_data.csv', index=False)\n",
    "\n",
    "multiple_level_data.head(1)"
   ]
  },
  {
   "cell_type": "code",
   "execution_count": 17,
   "metadata": {},
   "outputs": [
    {
     "name": "stdout",
     "output_type": "stream",
     "text": [
      "(298, 9)\n"
     ]
    },
    {
     "data": {
      "text/html": [
       "<div>\n",
       "<style scoped>\n",
       "    .dataframe tbody tr th:only-of-type {\n",
       "        vertical-align: middle;\n",
       "    }\n",
       "\n",
       "    .dataframe tbody tr th {\n",
       "        vertical-align: top;\n",
       "    }\n",
       "\n",
       "    .dataframe thead th {\n",
       "        text-align: right;\n",
       "    }\n",
       "</style>\n",
       "<table border=\"1\" class=\"dataframe\">\n",
       "  <thead>\n",
       "    <tr style=\"text-align: right;\">\n",
       "      <th></th>\n",
       "      <th>positionChange</th>\n",
       "      <th>company</th>\n",
       "      <th>activeContributors</th>\n",
       "      <th>activeContributorsChange</th>\n",
       "      <th>totalCommunity</th>\n",
       "      <th>totalCommunityChange</th>\n",
       "      <th>position</th>\n",
       "      <th>industry</th>\n",
       "      <th>in_osci</th>\n",
       "    </tr>\n",
       "  </thead>\n",
       "  <tbody>\n",
       "    <tr>\n",
       "      <th>0</th>\n",
       "      <td>0.0</td>\n",
       "      <td>Google</td>\n",
       "      <td>4017.0</td>\n",
       "      <td>273.0</td>\n",
       "      <td>8676</td>\n",
       "      <td>431.0</td>\n",
       "      <td>1</td>\n",
       "      <td>Technology</td>\n",
       "      <td>1</td>\n",
       "    </tr>\n",
       "    <tr>\n",
       "      <th>1</th>\n",
       "      <td>0.0</td>\n",
       "      <td>Microsoft</td>\n",
       "      <td>3630.0</td>\n",
       "      <td>308.0</td>\n",
       "      <td>8128</td>\n",
       "      <td>545.0</td>\n",
       "      <td>2</td>\n",
       "      <td>Technology</td>\n",
       "      <td>1</td>\n",
       "    </tr>\n",
       "    <tr>\n",
       "      <th>2</th>\n",
       "      <td>0.0</td>\n",
       "      <td>Red Hat</td>\n",
       "      <td>2965.0</td>\n",
       "      <td>159.0</td>\n",
       "      <td>4594</td>\n",
       "      <td>188.0</td>\n",
       "      <td>3</td>\n",
       "      <td>Technology</td>\n",
       "      <td>1</td>\n",
       "    </tr>\n",
       "    <tr>\n",
       "      <th>3</th>\n",
       "      <td>0.0</td>\n",
       "      <td>Intel</td>\n",
       "      <td>1557.0</td>\n",
       "      <td>112.0</td>\n",
       "      <td>3504</td>\n",
       "      <td>190.0</td>\n",
       "      <td>4</td>\n",
       "      <td>Technology</td>\n",
       "      <td>1</td>\n",
       "    </tr>\n",
       "    <tr>\n",
       "      <th>4</th>\n",
       "      <td>0.0</td>\n",
       "      <td>IBM</td>\n",
       "      <td>1419.0</td>\n",
       "      <td>128.0</td>\n",
       "      <td>3515</td>\n",
       "      <td>259.0</td>\n",
       "      <td>5</td>\n",
       "      <td>Technology</td>\n",
       "      <td>1</td>\n",
       "    </tr>\n",
       "  </tbody>\n",
       "</table>\n",
       "</div>"
      ],
      "text/plain": [
       "   positionChange    company  activeContributors  activeContributorsChange  \\\n",
       "0             0.0     Google              4017.0                     273.0   \n",
       "1             0.0  Microsoft              3630.0                     308.0   \n",
       "2             0.0    Red Hat              2965.0                     159.0   \n",
       "3             0.0      Intel              1557.0                     112.0   \n",
       "4             0.0        IBM              1419.0                     128.0   \n",
       "\n",
       "   totalCommunity  totalCommunityChange  position    industry  in_osci  \n",
       "0            8676                 431.0         1  Technology        1  \n",
       "1            8128                 545.0         2  Technology        1  \n",
       "2            4594                 188.0         3  Technology        1  \n",
       "3            3504                 190.0         4  Technology        1  \n",
       "4            3515                 259.0         5  Technology        1  "
      ]
     },
     "execution_count": 17,
     "metadata": {},
     "output_type": "execute_result"
    }
   ],
   "source": [
    "keep_cols = ['positionChange', 'company', 'activeContributors', 'activeContributorsChange', \n",
    "             'totalCommunity', 'totalCommunityChange', 'position', 'industry'\n",
    "            ]\n",
    "\n",
    "df_osci = multiple_level_data.filter(keep_cols)\n",
    "df_osci['in_osci']=1\n",
    "\n",
    "print(df_osci.shape)\n",
    "df_osci.head(5)"
   ]
  },
  {
   "cell_type": "code",
   "execution_count": 18,
   "metadata": {},
   "outputs": [
    {
     "data": {
      "text/html": [
       "<div>\n",
       "<style scoped>\n",
       "    .dataframe tbody tr th:only-of-type {\n",
       "        vertical-align: middle;\n",
       "    }\n",
       "\n",
       "    .dataframe tbody tr th {\n",
       "        vertical-align: top;\n",
       "    }\n",
       "\n",
       "    .dataframe thead th {\n",
       "        text-align: right;\n",
       "    }\n",
       "</style>\n",
       "<table border=\"1\" class=\"dataframe\">\n",
       "  <thead>\n",
       "    <tr style=\"text-align: right;\">\n",
       "      <th></th>\n",
       "      <th>Symbol</th>\n",
       "      <th>company</th>\n",
       "      <th>Sector</th>\n",
       "      <th>in_sp500</th>\n",
       "    </tr>\n",
       "  </thead>\n",
       "  <tbody>\n",
       "    <tr>\n",
       "      <th>0</th>\n",
       "      <td>MMM</td>\n",
       "      <td>3M</td>\n",
       "      <td>Industrials</td>\n",
       "      <td>1</td>\n",
       "    </tr>\n",
       "    <tr>\n",
       "      <th>1</th>\n",
       "      <td>AOS</td>\n",
       "      <td>A. O. Smith</td>\n",
       "      <td>Industrials</td>\n",
       "      <td>1</td>\n",
       "    </tr>\n",
       "    <tr>\n",
       "      <th>2</th>\n",
       "      <td>ABT</td>\n",
       "      <td>Abbott Laboratories</td>\n",
       "      <td>Health Care</td>\n",
       "      <td>1</td>\n",
       "    </tr>\n",
       "    <tr>\n",
       "      <th>3</th>\n",
       "      <td>ABBV</td>\n",
       "      <td>AbbVie</td>\n",
       "      <td>Health Care</td>\n",
       "      <td>1</td>\n",
       "    </tr>\n",
       "    <tr>\n",
       "      <th>4</th>\n",
       "      <td>ABMD</td>\n",
       "      <td>Abiomed</td>\n",
       "      <td>Health Care</td>\n",
       "      <td>1</td>\n",
       "    </tr>\n",
       "  </tbody>\n",
       "</table>\n",
       "</div>"
      ],
      "text/plain": [
       "  Symbol              company       Sector  in_sp500\n",
       "0    MMM                   3M  Industrials         1\n",
       "1    AOS          A. O. Smith  Industrials         1\n",
       "2    ABT  Abbott Laboratories  Health Care         1\n",
       "3   ABBV               AbbVie  Health Care         1\n",
       "4   ABMD              Abiomed  Health Care         1"
      ]
     },
     "execution_count": 18,
     "metadata": {},
     "output_type": "execute_result"
    }
   ],
   "source": [
    "df_sp = df_sp.rename(columns=\n",
    "                         {'Name': 'company'\n",
    "                             })\n",
    "df_sp['in_sp500']=1\n",
    "df_sp.head(5)"
   ]
  },
  {
   "cell_type": "code",
   "execution_count": 19,
   "metadata": {},
   "outputs": [
    {
     "name": "stdout",
     "output_type": "stream",
     "text": [
      "781\n"
     ]
    },
    {
     "data": {
      "text/html": [
       "<div>\n",
       "<style scoped>\n",
       "    .dataframe tbody tr th:only-of-type {\n",
       "        vertical-align: middle;\n",
       "    }\n",
       "\n",
       "    .dataframe tbody tr th {\n",
       "        vertical-align: top;\n",
       "    }\n",
       "\n",
       "    .dataframe thead th {\n",
       "        text-align: right;\n",
       "    }\n",
       "</style>\n",
       "<table border=\"1\" class=\"dataframe\">\n",
       "  <thead>\n",
       "    <tr style=\"text-align: right;\">\n",
       "      <th></th>\n",
       "      <th>Symbol</th>\n",
       "      <th>company</th>\n",
       "      <th>Sector</th>\n",
       "      <th>in_sp500</th>\n",
       "      <th>positionChange</th>\n",
       "      <th>activeContributors</th>\n",
       "      <th>activeContributorsChange</th>\n",
       "      <th>totalCommunity</th>\n",
       "      <th>totalCommunityChange</th>\n",
       "      <th>position</th>\n",
       "      <th>industry</th>\n",
       "      <th>in_osci</th>\n",
       "    </tr>\n",
       "  </thead>\n",
       "  <tbody>\n",
       "    <tr>\n",
       "      <th>0</th>\n",
       "      <td>MMM</td>\n",
       "      <td>3M</td>\n",
       "      <td>Industrials</td>\n",
       "      <td>1.0</td>\n",
       "      <td>NaN</td>\n",
       "      <td>NaN</td>\n",
       "      <td>NaN</td>\n",
       "      <td>NaN</td>\n",
       "      <td>NaN</td>\n",
       "      <td>NaN</td>\n",
       "      <td>NaN</td>\n",
       "      <td>NaN</td>\n",
       "    </tr>\n",
       "    <tr>\n",
       "      <th>1</th>\n",
       "      <td>AOS</td>\n",
       "      <td>A. O. Smith</td>\n",
       "      <td>Industrials</td>\n",
       "      <td>1.0</td>\n",
       "      <td>NaN</td>\n",
       "      <td>NaN</td>\n",
       "      <td>NaN</td>\n",
       "      <td>NaN</td>\n",
       "      <td>NaN</td>\n",
       "      <td>NaN</td>\n",
       "      <td>NaN</td>\n",
       "      <td>NaN</td>\n",
       "    </tr>\n",
       "    <tr>\n",
       "      <th>2</th>\n",
       "      <td>ABT</td>\n",
       "      <td>Abbott Laboratories</td>\n",
       "      <td>Health Care</td>\n",
       "      <td>1.0</td>\n",
       "      <td>NaN</td>\n",
       "      <td>NaN</td>\n",
       "      <td>NaN</td>\n",
       "      <td>NaN</td>\n",
       "      <td>NaN</td>\n",
       "      <td>NaN</td>\n",
       "      <td>NaN</td>\n",
       "      <td>NaN</td>\n",
       "    </tr>\n",
       "    <tr>\n",
       "      <th>3</th>\n",
       "      <td>ABBV</td>\n",
       "      <td>AbbVie</td>\n",
       "      <td>Health Care</td>\n",
       "      <td>1.0</td>\n",
       "      <td>NaN</td>\n",
       "      <td>NaN</td>\n",
       "      <td>NaN</td>\n",
       "      <td>NaN</td>\n",
       "      <td>NaN</td>\n",
       "      <td>NaN</td>\n",
       "      <td>NaN</td>\n",
       "      <td>NaN</td>\n",
       "    </tr>\n",
       "    <tr>\n",
       "      <th>4</th>\n",
       "      <td>ABMD</td>\n",
       "      <td>Abiomed</td>\n",
       "      <td>Health Care</td>\n",
       "      <td>1.0</td>\n",
       "      <td>NaN</td>\n",
       "      <td>NaN</td>\n",
       "      <td>NaN</td>\n",
       "      <td>NaN</td>\n",
       "      <td>NaN</td>\n",
       "      <td>NaN</td>\n",
       "      <td>NaN</td>\n",
       "      <td>NaN</td>\n",
       "    </tr>\n",
       "  </tbody>\n",
       "</table>\n",
       "</div>"
      ],
      "text/plain": [
       "  Symbol              company       Sector  in_sp500  positionChange  \\\n",
       "0    MMM                   3M  Industrials       1.0             NaN   \n",
       "1    AOS          A. O. Smith  Industrials       1.0             NaN   \n",
       "2    ABT  Abbott Laboratories  Health Care       1.0             NaN   \n",
       "3   ABBV               AbbVie  Health Care       1.0             NaN   \n",
       "4   ABMD              Abiomed  Health Care       1.0             NaN   \n",
       "\n",
       "   activeContributors  activeContributorsChange  totalCommunity  \\\n",
       "0                 NaN                       NaN             NaN   \n",
       "1                 NaN                       NaN             NaN   \n",
       "2                 NaN                       NaN             NaN   \n",
       "3                 NaN                       NaN             NaN   \n",
       "4                 NaN                       NaN             NaN   \n",
       "\n",
       "   totalCommunityChange  position industry  in_osci  \n",
       "0                   NaN       NaN      NaN      NaN  \n",
       "1                   NaN       NaN      NaN      NaN  \n",
       "2                   NaN       NaN      NaN      NaN  \n",
       "3                   NaN       NaN      NaN      NaN  \n",
       "4                   NaN       NaN      NaN      NaN  "
      ]
     },
     "execution_count": 19,
     "metadata": {},
     "output_type": "execute_result"
    }
   ],
   "source": [
    "df_parta = df_sp.merge(df_osci, left_on=\"company\", right_on=\"company\", how=\"outer\")\n",
    "print(len(df_parta))\n",
    "df_parta.head()"
   ]
  },
  {
   "cell_type": "code",
   "execution_count": 20,
   "metadata": {},
   "outputs": [],
   "source": [
    "df_parta = df_parta.rename(columns=\n",
    "                         {'Symbol': 'symbol',\n",
    "                          'Sector': 'sector'\n",
    "                             })\n",
    "\n",
    "new_order = ['symbol', 'company','sector', 'industry',\n",
    "             'in_sp500','in_osci', 'position'\n",
    "            ]\n",
    "\n",
    "df_parta = df_parta.reindex(new_order, axis=1)"
   ]
  },
  {
   "cell_type": "code",
   "execution_count": 21,
   "metadata": {},
   "outputs": [
    {
     "data": {
      "text/html": [
       "<div>\n",
       "<style scoped>\n",
       "    .dataframe tbody tr th:only-of-type {\n",
       "        vertical-align: middle;\n",
       "    }\n",
       "\n",
       "    .dataframe tbody tr th {\n",
       "        vertical-align: top;\n",
       "    }\n",
       "\n",
       "    .dataframe thead th {\n",
       "        text-align: right;\n",
       "    }\n",
       "</style>\n",
       "<table border=\"1\" class=\"dataframe\">\n",
       "  <thead>\n",
       "    <tr style=\"text-align: right;\">\n",
       "      <th></th>\n",
       "      <th>symbol</th>\n",
       "      <th>company</th>\n",
       "      <th>sector</th>\n",
       "      <th>industry</th>\n",
       "      <th>in_sp500</th>\n",
       "      <th>in_osci</th>\n",
       "      <th>position</th>\n",
       "    </tr>\n",
       "  </thead>\n",
       "  <tbody>\n",
       "    <tr>\n",
       "      <th>0</th>\n",
       "      <td>MMM</td>\n",
       "      <td>3M</td>\n",
       "      <td>Industrials</td>\n",
       "      <td>NaN</td>\n",
       "      <td>1.0</td>\n",
       "      <td>NaN</td>\n",
       "      <td>NaN</td>\n",
       "    </tr>\n",
       "    <tr>\n",
       "      <th>1</th>\n",
       "      <td>AOS</td>\n",
       "      <td>A. O. Smith</td>\n",
       "      <td>Industrials</td>\n",
       "      <td>NaN</td>\n",
       "      <td>1.0</td>\n",
       "      <td>NaN</td>\n",
       "      <td>NaN</td>\n",
       "    </tr>\n",
       "    <tr>\n",
       "      <th>2</th>\n",
       "      <td>ABT</td>\n",
       "      <td>Abbott Laboratories</td>\n",
       "      <td>Health Care</td>\n",
       "      <td>NaN</td>\n",
       "      <td>1.0</td>\n",
       "      <td>NaN</td>\n",
       "      <td>NaN</td>\n",
       "    </tr>\n",
       "    <tr>\n",
       "      <th>3</th>\n",
       "      <td>ABBV</td>\n",
       "      <td>AbbVie</td>\n",
       "      <td>Health Care</td>\n",
       "      <td>NaN</td>\n",
       "      <td>1.0</td>\n",
       "      <td>NaN</td>\n",
       "      <td>NaN</td>\n",
       "    </tr>\n",
       "    <tr>\n",
       "      <th>4</th>\n",
       "      <td>ABMD</td>\n",
       "      <td>Abiomed</td>\n",
       "      <td>Health Care</td>\n",
       "      <td>NaN</td>\n",
       "      <td>1.0</td>\n",
       "      <td>NaN</td>\n",
       "      <td>NaN</td>\n",
       "    </tr>\n",
       "  </tbody>\n",
       "</table>\n",
       "</div>"
      ],
      "text/plain": [
       "  symbol              company       sector industry  in_sp500  in_osci  \\\n",
       "0    MMM                   3M  Industrials      NaN       1.0      NaN   \n",
       "1    AOS          A. O. Smith  Industrials      NaN       1.0      NaN   \n",
       "2    ABT  Abbott Laboratories  Health Care      NaN       1.0      NaN   \n",
       "3   ABBV               AbbVie  Health Care      NaN       1.0      NaN   \n",
       "4   ABMD              Abiomed  Health Care      NaN       1.0      NaN   \n",
       "\n",
       "   position  \n",
       "0       NaN  \n",
       "1       NaN  \n",
       "2       NaN  \n",
       "3       NaN  \n",
       "4       NaN  "
      ]
     },
     "execution_count": 21,
     "metadata": {},
     "output_type": "execute_result"
    }
   ],
   "source": [
    "df_parta.head()"
   ]
  },
  {
   "cell_type": "code",
   "execution_count": 22,
   "metadata": {},
   "outputs": [
    {
     "data": {
      "text/html": [
       "<div>\n",
       "<style scoped>\n",
       "    .dataframe tbody tr th:only-of-type {\n",
       "        vertical-align: middle;\n",
       "    }\n",
       "\n",
       "    .dataframe tbody tr th {\n",
       "        vertical-align: top;\n",
       "    }\n",
       "\n",
       "    .dataframe thead th {\n",
       "        text-align: right;\n",
       "    }\n",
       "</style>\n",
       "<table border=\"1\" class=\"dataframe\">\n",
       "  <thead>\n",
       "    <tr style=\"text-align: right;\">\n",
       "      <th></th>\n",
       "      <th></th>\n",
       "      <th>position</th>\n",
       "    </tr>\n",
       "    <tr>\n",
       "      <th>in_sp500</th>\n",
       "      <th>in_osci</th>\n",
       "      <th></th>\n",
       "    </tr>\n",
       "  </thead>\n",
       "  <tbody>\n",
       "    <tr>\n",
       "      <th>1.0</th>\n",
       "      <th>1.0</th>\n",
       "      <td>1268.0</td>\n",
       "    </tr>\n",
       "  </tbody>\n",
       "</table>\n",
       "</div>"
      ],
      "text/plain": [
       "                  position\n",
       "in_sp500 in_osci          \n",
       "1.0      1.0        1268.0"
      ]
     },
     "execution_count": 22,
     "metadata": {},
     "output_type": "execute_result"
    }
   ],
   "source": [
    "df_check = df_parta.groupby(['in_sp500','in_osci']).sum()\n",
    "#df_check = df_use.groupby(['meetup_db','registered_db','inv_db']).count()\n",
    "df_check"
   ]
  },
  {
   "cell_type": "code",
   "execution_count": 23,
   "metadata": {},
   "outputs": [
    {
     "data": {
      "text/html": [
       "<div>\n",
       "<style scoped>\n",
       "    .dataframe tbody tr th:only-of-type {\n",
       "        vertical-align: middle;\n",
       "    }\n",
       "\n",
       "    .dataframe tbody tr th {\n",
       "        vertical-align: top;\n",
       "    }\n",
       "\n",
       "    .dataframe thead th {\n",
       "        text-align: right;\n",
       "    }\n",
       "</style>\n",
       "<table border=\"1\" class=\"dataframe\">\n",
       "  <thead>\n",
       "    <tr style=\"text-align: right;\">\n",
       "      <th></th>\n",
       "      <th>symbol</th>\n",
       "      <th>company</th>\n",
       "      <th>sector</th>\n",
       "      <th>industry</th>\n",
       "      <th>in_osci</th>\n",
       "      <th>position</th>\n",
       "    </tr>\n",
       "    <tr>\n",
       "      <th>in_sp500</th>\n",
       "      <th></th>\n",
       "      <th></th>\n",
       "      <th></th>\n",
       "      <th></th>\n",
       "      <th></th>\n",
       "      <th></th>\n",
       "    </tr>\n",
       "  </thead>\n",
       "  <tbody>\n",
       "    <tr>\n",
       "      <th>1.0</th>\n",
       "      <td>505</td>\n",
       "      <td>505</td>\n",
       "      <td>505</td>\n",
       "      <td>22</td>\n",
       "      <td>22</td>\n",
       "      <td>22</td>\n",
       "    </tr>\n",
       "  </tbody>\n",
       "</table>\n",
       "</div>"
      ],
      "text/plain": [
       "          symbol  company  sector  industry  in_osci  position\n",
       "in_sp500                                                      \n",
       "1.0          505      505     505        22       22        22"
      ]
     },
     "execution_count": 23,
     "metadata": {},
     "output_type": "execute_result"
    }
   ],
   "source": [
    "df_check = df_parta.groupby(['in_sp500']).count()\n",
    "df_check"
   ]
  },
  {
   "cell_type": "code",
   "execution_count": 24,
   "metadata": {},
   "outputs": [
    {
     "data": {
      "text/html": [
       "<div>\n",
       "<style scoped>\n",
       "    .dataframe tbody tr th:only-of-type {\n",
       "        vertical-align: middle;\n",
       "    }\n",
       "\n",
       "    .dataframe tbody tr th {\n",
       "        vertical-align: top;\n",
       "    }\n",
       "\n",
       "    .dataframe thead th {\n",
       "        text-align: right;\n",
       "    }\n",
       "</style>\n",
       "<table border=\"1\" class=\"dataframe\">\n",
       "  <thead>\n",
       "    <tr style=\"text-align: right;\">\n",
       "      <th></th>\n",
       "      <th>symbol</th>\n",
       "      <th>company</th>\n",
       "      <th>sector</th>\n",
       "      <th>industry</th>\n",
       "      <th>in_sp500</th>\n",
       "      <th>position</th>\n",
       "    </tr>\n",
       "    <tr>\n",
       "      <th>in_osci</th>\n",
       "      <th></th>\n",
       "      <th></th>\n",
       "      <th></th>\n",
       "      <th></th>\n",
       "      <th></th>\n",
       "      <th></th>\n",
       "    </tr>\n",
       "  </thead>\n",
       "  <tbody>\n",
       "    <tr>\n",
       "      <th>1.0</th>\n",
       "      <td>22</td>\n",
       "      <td>298</td>\n",
       "      <td>22</td>\n",
       "      <td>298</td>\n",
       "      <td>22</td>\n",
       "      <td>298</td>\n",
       "    </tr>\n",
       "  </tbody>\n",
       "</table>\n",
       "</div>"
      ],
      "text/plain": [
       "         symbol  company  sector  industry  in_sp500  position\n",
       "in_osci                                                       \n",
       "1.0          22      298      22       298        22       298"
      ]
     },
     "execution_count": 24,
     "metadata": {},
     "output_type": "execute_result"
    }
   ],
   "source": [
    "df_check = df_parta.groupby(['in_osci']).count()\n",
    "df_check"
   ]
  },
  {
   "cell_type": "code",
   "execution_count": 25,
   "metadata": {},
   "outputs": [
    {
     "data": {
      "text/html": [
       "<div>\n",
       "<style scoped>\n",
       "    .dataframe tbody tr th:only-of-type {\n",
       "        vertical-align: middle;\n",
       "    }\n",
       "\n",
       "    .dataframe tbody tr th {\n",
       "        vertical-align: top;\n",
       "    }\n",
       "\n",
       "    .dataframe thead th {\n",
       "        text-align: right;\n",
       "    }\n",
       "</style>\n",
       "<table border=\"1\" class=\"dataframe\">\n",
       "  <thead>\n",
       "    <tr style=\"text-align: right;\">\n",
       "      <th></th>\n",
       "      <th></th>\n",
       "      <th>symbol</th>\n",
       "      <th>company</th>\n",
       "      <th>sector</th>\n",
       "      <th>industry</th>\n",
       "      <th>position</th>\n",
       "    </tr>\n",
       "    <tr>\n",
       "      <th>in_sp500</th>\n",
       "      <th>in_osci</th>\n",
       "      <th></th>\n",
       "      <th></th>\n",
       "      <th></th>\n",
       "      <th></th>\n",
       "      <th></th>\n",
       "    </tr>\n",
       "  </thead>\n",
       "  <tbody>\n",
       "    <tr>\n",
       "      <th>1.0</th>\n",
       "      <th>1.0</th>\n",
       "      <td>22</td>\n",
       "      <td>22</td>\n",
       "      <td>22</td>\n",
       "      <td>22</td>\n",
       "      <td>22</td>\n",
       "    </tr>\n",
       "  </tbody>\n",
       "</table>\n",
       "</div>"
      ],
      "text/plain": [
       "                  symbol  company  sector  industry  position\n",
       "in_sp500 in_osci                                             \n",
       "1.0      1.0          22       22      22        22        22"
      ]
     },
     "execution_count": 25,
     "metadata": {},
     "output_type": "execute_result"
    }
   ],
   "source": [
    "df_check = df_parta.groupby(['in_sp500','in_osci']).count()\n",
    "df_check"
   ]
  },
  {
   "cell_type": "code",
   "execution_count": 26,
   "metadata": {},
   "outputs": [],
   "source": [
    "#df_check = df_parta.groupby(['company']).count()\n",
    "#df_check"
   ]
  },
  {
   "cell_type": "code",
   "execution_count": 27,
   "metadata": {},
   "outputs": [],
   "source": [
    "#df_parta.head(5)"
   ]
  },
  {
   "cell_type": "code",
   "execution_count": 28,
   "metadata": {},
   "outputs": [],
   "source": [
    "#df_parta.dtypes"
   ]
  },
  {
   "cell_type": "code",
   "execution_count": 29,
   "metadata": {},
   "outputs": [],
   "source": [
    "#df_sample = df_parta.sample(20)"
   ]
  },
  {
   "cell_type": "code",
   "execution_count": 30,
   "metadata": {},
   "outputs": [],
   "source": [
    "#df_sample.sort_values(by=['company'])"
   ]
  },
  {
   "cell_type": "code",
   "execution_count": 31,
   "metadata": {},
   "outputs": [
    {
     "data": {
      "text/html": [
       "<div>\n",
       "<style scoped>\n",
       "    .dataframe tbody tr th:only-of-type {\n",
       "        vertical-align: middle;\n",
       "    }\n",
       "\n",
       "    .dataframe tbody tr th {\n",
       "        vertical-align: top;\n",
       "    }\n",
       "\n",
       "    .dataframe thead th {\n",
       "        text-align: right;\n",
       "    }\n",
       "</style>\n",
       "<table border=\"1\" class=\"dataframe\">\n",
       "  <thead>\n",
       "    <tr style=\"text-align: right;\">\n",
       "      <th></th>\n",
       "      <th>symbol</th>\n",
       "      <th>company</th>\n",
       "      <th>sector</th>\n",
       "      <th>industry</th>\n",
       "      <th>in_sp500</th>\n",
       "      <th>in_osci</th>\n",
       "      <th>position</th>\n",
       "    </tr>\n",
       "  </thead>\n",
       "  <tbody>\n",
       "    <tr>\n",
       "      <th>505</th>\n",
       "      <td>NaN</td>\n",
       "      <td>Google</td>\n",
       "      <td>NaN</td>\n",
       "      <td>Technology</td>\n",
       "      <td>NaN</td>\n",
       "      <td>1.0</td>\n",
       "      <td>1.0</td>\n",
       "    </tr>\n",
       "  </tbody>\n",
       "</table>\n",
       "</div>"
      ],
      "text/plain": [
       "    symbol company sector    industry  in_sp500  in_osci  position\n",
       "505    NaN  Google    NaN  Technology       NaN      1.0       1.0"
      ]
     },
     "execution_count": 31,
     "metadata": {},
     "output_type": "execute_result"
    }
   ],
   "source": [
    "df_parta[df_parta['company']==\"Google\"]"
   ]
  },
  {
   "cell_type": "code",
   "execution_count": 32,
   "metadata": {},
   "outputs": [
    {
     "data": {
      "text/html": [
       "<div>\n",
       "<style scoped>\n",
       "    .dataframe tbody tr th:only-of-type {\n",
       "        vertical-align: middle;\n",
       "    }\n",
       "\n",
       "    .dataframe tbody tr th {\n",
       "        vertical-align: top;\n",
       "    }\n",
       "\n",
       "    .dataframe thead th {\n",
       "        text-align: right;\n",
       "    }\n",
       "</style>\n",
       "<table border=\"1\" class=\"dataframe\">\n",
       "  <thead>\n",
       "    <tr style=\"text-align: right;\">\n",
       "      <th></th>\n",
       "      <th>symbol</th>\n",
       "      <th>company</th>\n",
       "      <th>sector</th>\n",
       "      <th>industry</th>\n",
       "      <th>in_sp500</th>\n",
       "      <th>in_osci</th>\n",
       "      <th>position</th>\n",
       "    </tr>\n",
       "  </thead>\n",
       "  <tbody>\n",
       "    <tr>\n",
       "      <th>87</th>\n",
       "      <td>KMX</td>\n",
       "      <td>CarMax</td>\n",
       "      <td>Consumer Discretionary</td>\n",
       "      <td>NaN</td>\n",
       "      <td>1.0</td>\n",
       "      <td>NaN</td>\n",
       "      <td>NaN</td>\n",
       "    </tr>\n",
       "    <tr>\n",
       "      <th>618</th>\n",
       "      <td>NaN</td>\n",
       "      <td>Kaltura</td>\n",
       "      <td>NaN</td>\n",
       "      <td>Technology</td>\n",
       "      <td>NaN</td>\n",
       "      <td>1.0</td>\n",
       "      <td>135.0</td>\n",
       "    </tr>\n",
       "    <tr>\n",
       "      <th>265</th>\n",
       "      <td>JPM</td>\n",
       "      <td>JPMorgan Chase</td>\n",
       "      <td>Financials</td>\n",
       "      <td>NaN</td>\n",
       "      <td>1.0</td>\n",
       "      <td>NaN</td>\n",
       "      <td>NaN</td>\n",
       "    </tr>\n",
       "    <tr>\n",
       "      <th>567</th>\n",
       "      <td>NaN</td>\n",
       "      <td>WSO2</td>\n",
       "      <td>NaN</td>\n",
       "      <td>Technology</td>\n",
       "      <td>NaN</td>\n",
       "      <td>1.0</td>\n",
       "      <td>79.0</td>\n",
       "    </tr>\n",
       "    <tr>\n",
       "      <th>70</th>\n",
       "      <td>BK</td>\n",
       "      <td>BNY Mellon</td>\n",
       "      <td>Financials</td>\n",
       "      <td>NaN</td>\n",
       "      <td>1.0</td>\n",
       "      <td>NaN</td>\n",
       "      <td>NaN</td>\n",
       "    </tr>\n",
       "    <tr>\n",
       "      <th>221</th>\n",
       "      <td>HAL</td>\n",
       "      <td>Halliburton</td>\n",
       "      <td>Energy</td>\n",
       "      <td>NaN</td>\n",
       "      <td>1.0</td>\n",
       "      <td>NaN</td>\n",
       "      <td>NaN</td>\n",
       "    </tr>\n",
       "    <tr>\n",
       "      <th>630</th>\n",
       "      <td>NaN</td>\n",
       "      <td>Linagora</td>\n",
       "      <td>NaN</td>\n",
       "      <td>Technology</td>\n",
       "      <td>NaN</td>\n",
       "      <td>1.0</td>\n",
       "      <td>147.0</td>\n",
       "    </tr>\n",
       "    <tr>\n",
       "      <th>616</th>\n",
       "      <td>NaN</td>\n",
       "      <td>SiFive</td>\n",
       "      <td>NaN</td>\n",
       "      <td>Technology</td>\n",
       "      <td>NaN</td>\n",
       "      <td>1.0</td>\n",
       "      <td>133.0</td>\n",
       "    </tr>\n",
       "    <tr>\n",
       "      <th>369</th>\n",
       "      <td>PNW</td>\n",
       "      <td>Pinnacle West Capital</td>\n",
       "      <td>Utilities</td>\n",
       "      <td>NaN</td>\n",
       "      <td>1.0</td>\n",
       "      <td>NaN</td>\n",
       "      <td>NaN</td>\n",
       "    </tr>\n",
       "    <tr>\n",
       "      <th>739</th>\n",
       "      <td>NaN</td>\n",
       "      <td>Polidea</td>\n",
       "      <td>NaN</td>\n",
       "      <td>Technology</td>\n",
       "      <td>NaN</td>\n",
       "      <td>1.0</td>\n",
       "      <td>257.0</td>\n",
       "    </tr>\n",
       "    <tr>\n",
       "      <th>624</th>\n",
       "      <td>NaN</td>\n",
       "      <td>Kainos</td>\n",
       "      <td>NaN</td>\n",
       "      <td>Technology</td>\n",
       "      <td>NaN</td>\n",
       "      <td>1.0</td>\n",
       "      <td>141.0</td>\n",
       "    </tr>\n",
       "    <tr>\n",
       "      <th>606</th>\n",
       "      <td>NaN</td>\n",
       "      <td>Brave</td>\n",
       "      <td>NaN</td>\n",
       "      <td>Technology</td>\n",
       "      <td>NaN</td>\n",
       "      <td>1.0</td>\n",
       "      <td>123.0</td>\n",
       "    </tr>\n",
       "    <tr>\n",
       "      <th>211</th>\n",
       "      <td>GNRC</td>\n",
       "      <td>Generac Holdings</td>\n",
       "      <td>Industrials</td>\n",
       "      <td>NaN</td>\n",
       "      <td>1.0</td>\n",
       "      <td>NaN</td>\n",
       "      <td>NaN</td>\n",
       "    </tr>\n",
       "    <tr>\n",
       "      <th>637</th>\n",
       "      <td>NaN</td>\n",
       "      <td>TI</td>\n",
       "      <td>NaN</td>\n",
       "      <td>Technology</td>\n",
       "      <td>NaN</td>\n",
       "      <td>1.0</td>\n",
       "      <td>154.0</td>\n",
       "    </tr>\n",
       "    <tr>\n",
       "      <th>308</th>\n",
       "      <td>MRK</td>\n",
       "      <td>Merck &amp; Co.</td>\n",
       "      <td>Health Care</td>\n",
       "      <td>NaN</td>\n",
       "      <td>1.0</td>\n",
       "      <td>NaN</td>\n",
       "      <td>NaN</td>\n",
       "    </tr>\n",
       "    <tr>\n",
       "      <th>55</th>\n",
       "      <td>AZO</td>\n",
       "      <td>AutoZone</td>\n",
       "      <td>Consumer Discretionary</td>\n",
       "      <td>NaN</td>\n",
       "      <td>1.0</td>\n",
       "      <td>NaN</td>\n",
       "      <td>NaN</td>\n",
       "    </tr>\n",
       "    <tr>\n",
       "      <th>521</th>\n",
       "      <td>NaN</td>\n",
       "      <td>Datadoghq</td>\n",
       "      <td>NaN</td>\n",
       "      <td>Technology</td>\n",
       "      <td>NaN</td>\n",
       "      <td>1.0</td>\n",
       "      <td>26.0</td>\n",
       "    </tr>\n",
       "    <tr>\n",
       "      <th>118</th>\n",
       "      <td>KO</td>\n",
       "      <td>Coca-Cola Company</td>\n",
       "      <td>Consumer Staples</td>\n",
       "      <td>NaN</td>\n",
       "      <td>1.0</td>\n",
       "      <td>NaN</td>\n",
       "      <td>NaN</td>\n",
       "    </tr>\n",
       "    <tr>\n",
       "      <th>685</th>\n",
       "      <td>NaN</td>\n",
       "      <td>Enalean</td>\n",
       "      <td>NaN</td>\n",
       "      <td>Technology</td>\n",
       "      <td>NaN</td>\n",
       "      <td>1.0</td>\n",
       "      <td>202.0</td>\n",
       "    </tr>\n",
       "    <tr>\n",
       "      <th>460</th>\n",
       "      <td>UNP</td>\n",
       "      <td>Union Pacific</td>\n",
       "      <td>Industrials</td>\n",
       "      <td>NaN</td>\n",
       "      <td>1.0</td>\n",
       "      <td>NaN</td>\n",
       "      <td>NaN</td>\n",
       "    </tr>\n",
       "  </tbody>\n",
       "</table>\n",
       "</div>"
      ],
      "text/plain": [
       "    symbol                company                  sector    industry  \\\n",
       "87     KMX                 CarMax  Consumer Discretionary         NaN   \n",
       "618    NaN                Kaltura                     NaN  Technology   \n",
       "265    JPM         JPMorgan Chase              Financials         NaN   \n",
       "567    NaN                   WSO2                     NaN  Technology   \n",
       "70      BK             BNY Mellon              Financials         NaN   \n",
       "221    HAL            Halliburton                  Energy         NaN   \n",
       "630    NaN               Linagora                     NaN  Technology   \n",
       "616    NaN                 SiFive                     NaN  Technology   \n",
       "369    PNW  Pinnacle West Capital               Utilities         NaN   \n",
       "739    NaN                Polidea                     NaN  Technology   \n",
       "624    NaN                 Kainos                     NaN  Technology   \n",
       "606    NaN                  Brave                     NaN  Technology   \n",
       "211   GNRC       Generac Holdings             Industrials         NaN   \n",
       "637    NaN                     TI                     NaN  Technology   \n",
       "308    MRK            Merck & Co.             Health Care         NaN   \n",
       "55     AZO               AutoZone  Consumer Discretionary         NaN   \n",
       "521    NaN              Datadoghq                     NaN  Technology   \n",
       "118     KO      Coca-Cola Company        Consumer Staples         NaN   \n",
       "685    NaN                Enalean                     NaN  Technology   \n",
       "460    UNP          Union Pacific             Industrials         NaN   \n",
       "\n",
       "     in_sp500  in_osci  position  \n",
       "87        1.0      NaN       NaN  \n",
       "618       NaN      1.0     135.0  \n",
       "265       1.0      NaN       NaN  \n",
       "567       NaN      1.0      79.0  \n",
       "70        1.0      NaN       NaN  \n",
       "221       1.0      NaN       NaN  \n",
       "630       NaN      1.0     147.0  \n",
       "616       NaN      1.0     133.0  \n",
       "369       1.0      NaN       NaN  \n",
       "739       NaN      1.0     257.0  \n",
       "624       NaN      1.0     141.0  \n",
       "606       NaN      1.0     123.0  \n",
       "211       1.0      NaN       NaN  \n",
       "637       NaN      1.0     154.0  \n",
       "308       1.0      NaN       NaN  \n",
       "55        1.0      NaN       NaN  \n",
       "521       NaN      1.0      26.0  \n",
       "118       1.0      NaN       NaN  \n",
       "685       NaN      1.0     202.0  \n",
       "460       1.0      NaN       NaN  "
      ]
     },
     "execution_count": 32,
     "metadata": {},
     "output_type": "execute_result"
    }
   ],
   "source": [
    "df_sorted = df_parta.sort_values(by=['company'])\n",
    "\n",
    "df_sorted\n",
    "\n",
    "df_sample = df_sorted.sample(20)\n",
    "df_sample"
   ]
  },
  {
   "cell_type": "markdown",
   "metadata": {},
   "source": [
    "### 3. Data Source:  Suzy spreadsheet"
   ]
  },
  {
   "cell_type": "code",
   "execution_count": 33,
   "metadata": {},
   "outputs": [
    {
     "data": {
      "text/html": [
       "<div>\n",
       "<style scoped>\n",
       "    .dataframe tbody tr th:only-of-type {\n",
       "        vertical-align: middle;\n",
       "    }\n",
       "\n",
       "    .dataframe tbody tr th {\n",
       "        vertical-align: top;\n",
       "    }\n",
       "\n",
       "    .dataframe thead th {\n",
       "        text-align: right;\n",
       "    }\n",
       "</style>\n",
       "<table border=\"1\" class=\"dataframe\">\n",
       "  <thead>\n",
       "    <tr style=\"text-align: right;\">\n",
       "      <th></th>\n",
       "      <th>company</th>\n",
       "      <th>date_updated_suzy</th>\n",
       "      <th>Main Business</th>\n",
       "      <th>Area of Business Value</th>\n",
       "      <th>relevance</th>\n",
       "      <th>os_engagement</th>\n",
       "      <th>todo_member</th>\n",
       "      <th>todo_adopter</th>\n",
       "      <th>Linux Foundation (Platinum + Gold)</th>\n",
       "      <th>GitHub list https://github.com/collections/open-source-organizations</th>\n",
       "      <th>OSCI Index top 60(as of Feb 2021)</th>\n",
       "      <th>Reasoning</th>\n",
       "      <th>GitHub</th>\n",
       "      <th>Note</th>\n",
       "      <th>Response to survey</th>\n",
       "      <th>Survey: What do you consider to be your company's dominant open source investment where there are likely shared dependencies?</th>\n",
       "      <th>Survey: Want to hear more?</th>\n",
       "      <th>Emailed to:</th>\n",
       "      <th>in_suzy</th>\n",
       "    </tr>\n",
       "  </thead>\n",
       "  <tbody>\n",
       "    <tr>\n",
       "      <th>0</th>\n",
       "      <td>AT&amp;T</td>\n",
       "      <td>2021-05-07</td>\n",
       "      <td>Telcom/operator is main revenue source (also m...</td>\n",
       "      <td>software</td>\n",
       "      <td>Accelerant</td>\n",
       "      <td>Co-Leading</td>\n",
       "      <td>NaN</td>\n",
       "      <td>NaN</td>\n",
       "      <td>X</td>\n",
       "      <td>NaN</td>\n",
       "      <td>NaN</td>\n",
       "      <td>I sense that AT&amp;T sees investments as strategi...</td>\n",
       "      <td>NaN</td>\n",
       "      <td>NaN</td>\n",
       "      <td>NaN</td>\n",
       "      <td>NaN</td>\n",
       "      <td>NaN</td>\n",
       "      <td>NaN</td>\n",
       "      <td>1</td>\n",
       "    </tr>\n",
       "    <tr>\n",
       "      <th>1</th>\n",
       "      <td>SAIC</td>\n",
       "      <td>2021-05-07</td>\n",
       "      <td>SAIC integrates multiple disciplines to provid...</td>\n",
       "      <td>services</td>\n",
       "      <td>Accelerant</td>\n",
       "      <td>Combining</td>\n",
       "      <td>NaN</td>\n",
       "      <td>NaN</td>\n",
       "      <td>NaN</td>\n",
       "      <td>NaN</td>\n",
       "      <td>NaN</td>\n",
       "      <td>SAIC gov't focused. They contribute (e.g. RedH...</td>\n",
       "      <td>https://github.com/saic-oss</td>\n",
       "      <td>NaN</td>\n",
       "      <td>NaN</td>\n",
       "      <td>NaN</td>\n",
       "      <td>NaN</td>\n",
       "      <td>NaN</td>\n",
       "      <td>1</td>\n",
       "    </tr>\n",
       "    <tr>\n",
       "      <th>2</th>\n",
       "      <td>Vapor IO</td>\n",
       "      <td>2021-05-07</td>\n",
       "      <td>edge computing infra</td>\n",
       "      <td>software</td>\n",
       "      <td>Accelerant</td>\n",
       "      <td>Co-Leading</td>\n",
       "      <td>NaN</td>\n",
       "      <td>NaN</td>\n",
       "      <td>NaN</td>\n",
       "      <td>NaN</td>\n",
       "      <td>NaN</td>\n",
       "      <td>Using os for trust, function, ecosystem develo...</td>\n",
       "      <td>NaN</td>\n",
       "      <td>NaN</td>\n",
       "      <td>NaN</td>\n",
       "      <td>NaN</td>\n",
       "      <td>NaN</td>\n",
       "      <td>NaN</td>\n",
       "      <td>1</td>\n",
       "    </tr>\n",
       "  </tbody>\n",
       "</table>\n",
       "</div>"
      ],
      "text/plain": [
       "    company date_updated_suzy  \\\n",
       "0      AT&T        2021-05-07   \n",
       "1      SAIC        2021-05-07   \n",
       "2  Vapor IO        2021-05-07   \n",
       "\n",
       "                                      Main Business  Area of Business Value  \\\n",
       "0  Telcom/operator is main revenue source (also m...               software   \n",
       "1  SAIC integrates multiple disciplines to provid...               services   \n",
       "2                               edge computing infra               software   \n",
       "\n",
       "    relevance os_engagement todo_member todo_adopter  \\\n",
       "0  Accelerant    Co-Leading         NaN          NaN   \n",
       "1  Accelerant     Combining         NaN          NaN   \n",
       "2  Accelerant    Co-Leading         NaN          NaN   \n",
       "\n",
       "  Linux Foundation (Platinum + Gold)  \\\n",
       "0                                  X   \n",
       "1                                NaN   \n",
       "2                                NaN   \n",
       "\n",
       "  GitHub list https://github.com/collections/open-source-organizations  \\\n",
       "0                                                NaN                     \n",
       "1                                                NaN                     \n",
       "2                                                NaN                     \n",
       "\n",
       "  OSCI Index top 60(as of Feb 2021)  \\\n",
       "0                               NaN   \n",
       "1                               NaN   \n",
       "2                               NaN   \n",
       "\n",
       "                                           Reasoning  \\\n",
       "0  I sense that AT&T sees investments as strategi...   \n",
       "1  SAIC gov't focused. They contribute (e.g. RedH...   \n",
       "2  Using os for trust, function, ecosystem develo...   \n",
       "\n",
       "                        GitHub Note Response to survey  \\\n",
       "0                          NaN  NaN                NaN   \n",
       "1  https://github.com/saic-oss  NaN                NaN   \n",
       "2                          NaN  NaN                NaN   \n",
       "\n",
       "  Survey: What do you consider to be your company's dominant open source investment where there are likely shared dependencies?   \\\n",
       "0                                                NaN                                                                               \n",
       "1                                                NaN                                                                               \n",
       "2                                                NaN                                                                               \n",
       "\n",
       "  Survey: Want to hear more?  Emailed to:  in_suzy  \n",
       "0                         NaN         NaN        1  \n",
       "1                         NaN         NaN        1  \n",
       "2                         NaN         NaN        1  "
      ]
     },
     "execution_count": 33,
     "metadata": {},
     "output_type": "execute_result"
    }
   ],
   "source": [
    "file_name = 'classification_suzy.csv'\n",
    "\n",
    "df_suzy = pd.read_csv('data_raw/'+file_name)\n",
    "df_suzy['in_suzy']=1\n",
    "\n",
    "df_suzy = df_suzy.rename(columns=\n",
    "                         {'Company': 'company',\n",
    "                          'Level of Engagement': 'os_engagement',\n",
    "                          'TODO Member': 'todo_member',\n",
    "                          'TODO Adopter': 'todo_adopter',\n",
    "                          'Main Business': 'area',\n",
    "                          'Relevance to Core Business': 'relevance'\n",
    "                             })\n",
    "\n",
    "df_suzy.head(3)"
   ]
  },
  {
   "cell_type": "code",
   "execution_count": 34,
   "metadata": {},
   "outputs": [
    {
     "name": "stdout",
     "output_type": "stream",
     "text": [
      "(141, 4)\n"
     ]
    },
    {
     "data": {
      "text/html": [
       "<div>\n",
       "<style scoped>\n",
       "    .dataframe tbody tr th:only-of-type {\n",
       "        vertical-align: middle;\n",
       "    }\n",
       "\n",
       "    .dataframe tbody tr th {\n",
       "        vertical-align: top;\n",
       "    }\n",
       "\n",
       "    .dataframe thead th {\n",
       "        text-align: right;\n",
       "    }\n",
       "</style>\n",
       "<table border=\"1\" class=\"dataframe\">\n",
       "  <thead>\n",
       "    <tr style=\"text-align: right;\">\n",
       "      <th></th>\n",
       "      <th>company</th>\n",
       "      <th>os_engagement</th>\n",
       "      <th>in_suzy</th>\n",
       "      <th>relevance</th>\n",
       "    </tr>\n",
       "  </thead>\n",
       "  <tbody>\n",
       "    <tr>\n",
       "      <th>0</th>\n",
       "      <td>AT&amp;T</td>\n",
       "      <td>Co-Leading</td>\n",
       "      <td>1</td>\n",
       "      <td>Accelerant</td>\n",
       "    </tr>\n",
       "    <tr>\n",
       "      <th>1</th>\n",
       "      <td>SAIC</td>\n",
       "      <td>Combining</td>\n",
       "      <td>1</td>\n",
       "      <td>Accelerant</td>\n",
       "    </tr>\n",
       "    <tr>\n",
       "      <th>2</th>\n",
       "      <td>Vapor IO</td>\n",
       "      <td>Co-Leading</td>\n",
       "      <td>1</td>\n",
       "      <td>Accelerant</td>\n",
       "    </tr>\n",
       "  </tbody>\n",
       "</table>\n",
       "</div>"
      ],
      "text/plain": [
       "    company os_engagement  in_suzy   relevance\n",
       "0      AT&T    Co-Leading        1  Accelerant\n",
       "1      SAIC     Combining        1  Accelerant\n",
       "2  Vapor IO    Co-Leading        1  Accelerant"
      ]
     },
     "execution_count": 34,
     "metadata": {},
     "output_type": "execute_result"
    }
   ],
   "source": [
    "keep_cols = ['company', 'area','os_engagement', 'in_suzy', 'relevance' \n",
    "            ]\n",
    "            #'activeContributors', 'activeContributorsChange', \n",
    "            # 'totalCommunity', 'totalCommunityChange', 'position', 'industry'\n",
    "            #]\n",
    "\n",
    "df_suzy = df_suzy.filter(keep_cols)\n",
    "\n",
    "print(df_suzy.shape)\n",
    "df_suzy.head(3)"
   ]
  },
  {
   "cell_type": "code",
   "execution_count": 35,
   "metadata": {},
   "outputs": [
    {
     "data": {
      "text/html": [
       "<div>\n",
       "<style scoped>\n",
       "    .dataframe tbody tr th:only-of-type {\n",
       "        vertical-align: middle;\n",
       "    }\n",
       "\n",
       "    .dataframe tbody tr th {\n",
       "        vertical-align: top;\n",
       "    }\n",
       "\n",
       "    .dataframe thead th {\n",
       "        text-align: right;\n",
       "    }\n",
       "</style>\n",
       "<table border=\"1\" class=\"dataframe\">\n",
       "  <thead>\n",
       "    <tr style=\"text-align: right;\">\n",
       "      <th></th>\n",
       "      <th>company</th>\n",
       "      <th>os_engagement</th>\n",
       "      <th>relevance</th>\n",
       "    </tr>\n",
       "    <tr>\n",
       "      <th>in_suzy</th>\n",
       "      <th></th>\n",
       "      <th></th>\n",
       "      <th></th>\n",
       "    </tr>\n",
       "  </thead>\n",
       "  <tbody>\n",
       "    <tr>\n",
       "      <th>1</th>\n",
       "      <td>141</td>\n",
       "      <td>55</td>\n",
       "      <td>55</td>\n",
       "    </tr>\n",
       "  </tbody>\n",
       "</table>\n",
       "</div>"
      ],
      "text/plain": [
       "         company  os_engagement  relevance\n",
       "in_suzy                                   \n",
       "1            141             55         55"
      ]
     },
     "execution_count": 35,
     "metadata": {},
     "output_type": "execute_result"
    }
   ],
   "source": [
    "df_check = df_suzy.groupby(['in_suzy']).count()\n",
    "df_check"
   ]
  },
  {
   "cell_type": "code",
   "execution_count": 36,
   "metadata": {},
   "outputs": [
    {
     "name": "stdout",
     "output_type": "stream",
     "text": [
      "(876, 10)\n"
     ]
    },
    {
     "data": {
      "text/html": [
       "<div>\n",
       "<style scoped>\n",
       "    .dataframe tbody tr th:only-of-type {\n",
       "        vertical-align: middle;\n",
       "    }\n",
       "\n",
       "    .dataframe tbody tr th {\n",
       "        vertical-align: top;\n",
       "    }\n",
       "\n",
       "    .dataframe thead th {\n",
       "        text-align: right;\n",
       "    }\n",
       "</style>\n",
       "<table border=\"1\" class=\"dataframe\">\n",
       "  <thead>\n",
       "    <tr style=\"text-align: right;\">\n",
       "      <th></th>\n",
       "      <th>symbol</th>\n",
       "      <th>company</th>\n",
       "      <th>sector</th>\n",
       "      <th>industry</th>\n",
       "      <th>in_sp500</th>\n",
       "      <th>in_osci</th>\n",
       "      <th>position</th>\n",
       "      <th>os_engagement</th>\n",
       "      <th>in_suzy</th>\n",
       "      <th>relevance</th>\n",
       "    </tr>\n",
       "  </thead>\n",
       "  <tbody>\n",
       "    <tr>\n",
       "      <th>0</th>\n",
       "      <td>MMM</td>\n",
       "      <td>3M</td>\n",
       "      <td>Industrials</td>\n",
       "      <td>NaN</td>\n",
       "      <td>1.0</td>\n",
       "      <td>NaN</td>\n",
       "      <td>NaN</td>\n",
       "      <td>NaN</td>\n",
       "      <td>NaN</td>\n",
       "      <td>NaN</td>\n",
       "    </tr>\n",
       "    <tr>\n",
       "      <th>1</th>\n",
       "      <td>NaN</td>\n",
       "      <td>4teamwork</td>\n",
       "      <td>NaN</td>\n",
       "      <td>Technology</td>\n",
       "      <td>NaN</td>\n",
       "      <td>1.0</td>\n",
       "      <td>285.0</td>\n",
       "      <td>NaN</td>\n",
       "      <td>NaN</td>\n",
       "      <td>NaN</td>\n",
       "    </tr>\n",
       "    <tr>\n",
       "      <th>2</th>\n",
       "      <td>NaN</td>\n",
       "      <td>5minds</td>\n",
       "      <td>NaN</td>\n",
       "      <td>Technology</td>\n",
       "      <td>NaN</td>\n",
       "      <td>1.0</td>\n",
       "      <td>276.0</td>\n",
       "      <td>NaN</td>\n",
       "      <td>NaN</td>\n",
       "      <td>NaN</td>\n",
       "    </tr>\n",
       "    <tr>\n",
       "      <th>3</th>\n",
       "      <td>AOS</td>\n",
       "      <td>A. O. Smith</td>\n",
       "      <td>Industrials</td>\n",
       "      <td>NaN</td>\n",
       "      <td>1.0</td>\n",
       "      <td>NaN</td>\n",
       "      <td>NaN</td>\n",
       "      <td>NaN</td>\n",
       "      <td>NaN</td>\n",
       "      <td>NaN</td>\n",
       "    </tr>\n",
       "    <tr>\n",
       "      <th>4</th>\n",
       "      <td>ADM</td>\n",
       "      <td>ADM</td>\n",
       "      <td>Consumer Staples</td>\n",
       "      <td>NaN</td>\n",
       "      <td>1.0</td>\n",
       "      <td>NaN</td>\n",
       "      <td>NaN</td>\n",
       "      <td>NaN</td>\n",
       "      <td>NaN</td>\n",
       "      <td>NaN</td>\n",
       "    </tr>\n",
       "  </tbody>\n",
       "</table>\n",
       "</div>"
      ],
      "text/plain": [
       "  symbol      company            sector    industry  in_sp500  in_osci  \\\n",
       "0    MMM           3M       Industrials         NaN       1.0      NaN   \n",
       "1    NaN    4teamwork               NaN  Technology       NaN      1.0   \n",
       "2    NaN       5minds               NaN  Technology       NaN      1.0   \n",
       "3    AOS  A. O. Smith       Industrials         NaN       1.0      NaN   \n",
       "4    ADM          ADM  Consumer Staples         NaN       1.0      NaN   \n",
       "\n",
       "   position os_engagement  in_suzy relevance  \n",
       "0       NaN           NaN      NaN       NaN  \n",
       "1     285.0           NaN      NaN       NaN  \n",
       "2     276.0           NaN      NaN       NaN  \n",
       "3       NaN           NaN      NaN       NaN  \n",
       "4       NaN           NaN      NaN       NaN  "
      ]
     },
     "execution_count": 36,
     "metadata": {},
     "output_type": "execute_result"
    }
   ],
   "source": [
    "df_partb = df_sorted.merge(df_suzy, left_on=\"company\", right_on=\"company\", how=\"outer\")\n",
    "df_partb['company_count']=1\n",
    "print(df_partb.shape)\n",
    "df_partb.head()"
   ]
  },
  {
   "cell_type": "code",
   "execution_count": 39,
   "metadata": {},
   "outputs": [
    {
     "data": {
      "text/html": [
       "<div>\n",
       "<style scoped>\n",
       "    .dataframe tbody tr th:only-of-type {\n",
       "        vertical-align: middle;\n",
       "    }\n",
       "\n",
       "    .dataframe tbody tr th {\n",
       "        vertical-align: top;\n",
       "    }\n",
       "\n",
       "    .dataframe thead th {\n",
       "        text-align: right;\n",
       "    }\n",
       "</style>\n",
       "<table border=\"1\" class=\"dataframe\">\n",
       "  <thead>\n",
       "    <tr style=\"text-align: right;\">\n",
       "      <th></th>\n",
       "      <th>in_osci</th>\n",
       "      <th>position</th>\n",
       "      <th>in_suzy</th>\n",
       "    </tr>\n",
       "    <tr>\n",
       "      <th>in_sp500</th>\n",
       "      <th></th>\n",
       "      <th></th>\n",
       "      <th></th>\n",
       "    </tr>\n",
       "  </thead>\n",
       "  <tbody>\n",
       "    <tr>\n",
       "      <th>1.0</th>\n",
       "      <td>22.0</td>\n",
       "      <td>1268.0</td>\n",
       "      <td>14.0</td>\n",
       "    </tr>\n",
       "  </tbody>\n",
       "</table>\n",
       "</div>"
      ],
      "text/plain": [
       "          in_osci  position  in_suzy\n",
       "in_sp500                            \n",
       "1.0          22.0    1268.0     14.0"
      ]
     },
     "execution_count": 39,
     "metadata": {},
     "output_type": "execute_result"
    }
   ],
   "source": [
    "df_check = df_partb.groupby(['in_sp500','company_count']).sum()\n",
    "df_check"
   ]
  },
  {
   "cell_type": "markdown",
   "metadata": {},
   "source": [
    "# END OF CODE"
   ]
  },
  {
   "cell_type": "markdown",
   "metadata": {},
   "source": [
    "# END OF CODE"
   ]
  },
  {
   "cell_type": "markdown",
   "metadata": {},
   "source": [
    "# END OF CODE"
   ]
  },
  {
   "cell_type": "markdown",
   "metadata": {},
   "source": [
    "---"
   ]
  },
  {
   "cell_type": "code",
   "execution_count": 37,
   "metadata": {},
   "outputs": [
    {
     "ename": "SyntaxError",
     "evalue": "Missing parentheses in call to 'print'. Did you mean print(x)? (3945978432.py, line 1)",
     "output_type": "error",
     "traceback": [
      "\u001b[0;36m  File \u001b[0;32m\"/var/folders/f5/4hllfzqx6pq2sfm22_khf5400000gn/T/ipykernel_86575/3945978432.py\"\u001b[0;36m, line \u001b[0;32m1\u001b[0m\n\u001b[0;31m    print x\u001b[0m\n\u001b[0m          ^\u001b[0m\n\u001b[0;31mSyntaxError\u001b[0m\u001b[0;31m:\u001b[0m Missing parentheses in call to 'print'. Did you mean print(x)?\n"
     ]
    }
   ],
   "source": [
    "print x"
   ]
  },
  {
   "cell_type": "code",
   "execution_count": null,
   "metadata": {},
   "outputs": [],
   "source": []
  },
  {
   "cell_type": "code",
   "execution_count": null,
   "metadata": {},
   "outputs": [],
   "source": []
  },
  {
   "cell_type": "code",
   "execution_count": null,
   "metadata": {},
   "outputs": [],
   "source": []
  },
  {
   "cell_type": "code",
   "execution_count": null,
   "metadata": {},
   "outputs": [],
   "source": []
  },
  {
   "cell_type": "code",
   "execution_count": null,
   "metadata": {},
   "outputs": [],
   "source": []
  },
  {
   "cell_type": "code",
   "execution_count": null,
   "metadata": {},
   "outputs": [],
   "source": []
  },
  {
   "cell_type": "code",
   "execution_count": null,
   "metadata": {},
   "outputs": [],
   "source": []
  },
  {
   "cell_type": "code",
   "execution_count": null,
   "metadata": {},
   "outputs": [],
   "source": []
  },
  {
   "cell_type": "code",
   "execution_count": null,
   "metadata": {},
   "outputs": [],
   "source": [
    "df_meetup['city'].mask(df_meetup['city'] == 'Raleigh', 'Raleigh-Durham', inplace=True)\n",
    "\n"
   ]
  },
  {
   "cell_type": "code",
   "execution_count": null,
   "metadata": {},
   "outputs": [],
   "source": [
    "# rename columns\n",
    "df_meetup.rename(columns={\"name\": \"meetup_name\", \n",
    "                          \"members\": \"meetup_members\",\n",
    "                          \"fullurl\": \"meetup_url\",\n",
    "                          \"created\": \"meetup_created\",\n",
    "                          \"status\": \"meetup_status\"\n",
    "                            },\n",
    "                   inplace = True,\n",
    "                   errors=\"raise\")"
   ]
  },
  {
   "cell_type": "markdown",
   "metadata": {},
   "source": [
    "## 2. Data Source:  Chapter List\n",
    "### Get raw data"
   ]
  },
  {
   "cell_type": "code",
   "execution_count": null,
   "metadata": {},
   "outputs": [],
   "source": [
    "!ls -alt data_raw/"
   ]
  },
  {
   "cell_type": "code",
   "execution_count": null,
   "metadata": {},
   "outputs": [],
   "source": [
    "file_name = '1_pyladies_export_2021_03_01.csv'\n",
    "\n",
    "chapter_list = pd.read_csv(datapath+file_name)  "
   ]
  },
  {
   "cell_type": "code",
   "execution_count": null,
   "metadata": {},
   "outputs": [],
   "source": [
    "chapter_list.head()"
   ]
  },
  {
   "cell_type": "code",
   "execution_count": null,
   "metadata": {},
   "outputs": [],
   "source": [
    "chapter_list.info()"
   ]
  },
  {
   "cell_type": "code",
   "execution_count": null,
   "metadata": {},
   "outputs": [],
   "source": [
    "chapter_list.shape"
   ]
  },
  {
   "cell_type": "code",
   "execution_count": null,
   "metadata": {},
   "outputs": [],
   "source": [
    "df_chapter = chapter_list.copy()\n",
    "# rename columns\n",
    "df_chapter.rename(columns={\"First Name [Required]\": \"city1\", \n",
    "                             \"Last Name [Required]\": \"city2\", \n",
    "                             \"Email Address [Required]\": \"email\",\n",
    "                             \"Last Sign In [READ ONLY]\": \"email_signin_date\",\n",
    "                             \"Email Usage [READ ONLY]\": \"email_usage\"\n",
    "                            },\n",
    "                   inplace = True,\n",
    "                   errors=\"raise\")\n",
    "\n",
    "\n",
    "# delete columns:  'active' is same for all\n",
    "df_chapter = df_chapter.drop(['Status [READ ONLY]'], axis=1)\n",
    "\n",
    "# fix data issue\n",
    "df_chapter['city2'].mask(df_chapter['city2'] == \\\n",
    "                      'PyLladies', \\\n",
    "                      'PyLadies', inplace=True)\n",
    "\n",
    "df_chapter['city2'].mask(df_chapter['city2'] == \\\n",
    "                      'PyLdies', \\\n",
    "                      'PyLadies', inplace=True)\n",
    "\n",
    "# swap some rows\n",
    "df_chapter['city_temp1'] = df_chapter['city1'].str.upper() \n",
    "df_chapter['city_temp2'] = df_chapter['city2'].str.upper() \n",
    "\n",
    "df_chapter['city'] = df_chapter['city1']\n",
    "df_chapter['temp'] = df_chapter['city2']\n",
    "\n",
    "df_chapter['city'].mask(df_chapter['city_temp1'] == 'PYLADIES', df_chapter['city2'], inplace=True)\n",
    "\n",
    "df_chapter['temp'].mask(df_chapter['city_temp2'] == 'PYLADIES', df_chapter['city1'], inplace=True)\n",
    "\n",
    "# exclude some rows\n",
    "df_chapter = df_chapter[(df_chapter['city_temp1'] == 'PYLADIES') | (df_chapter['city_temp2'] == 'PYLADIES')] \n",
    "\n",
    "df_chapter = df_chapter[(df_chapter['city1'] != 'Admin')] \n",
    "df_chapter = df_chapter[(df_chapter['city2'] != 'Sponsorship')] \n",
    "df_chapter = df_chapter[(df_chapter['city2'] != 'Info')] \n",
    "df_chapter = df_chapter[(df_chapter['city2'] != 'Systems')] \n",
    "df_chapter = df_chapter[(df_chapter['city1'] != 'Communications')] \n",
    "\n",
    "# clean up city names\n",
    "df_chapter['city'].mask(df_chapter['city'] == 'NYC', 'New York', inplace=True)\n",
    "df_chapter['city'].mask(df_chapter['city'] == 'Princeton NJ', 'Princeton', inplace=True)\n",
    "df_chapter['city'].mask(df_chapter['city'] == 'Pune, India', 'Pune', inplace=True)\n",
    "df_chapter['city'].mask(df_chapter['city'] == 'TC', 'Minneapolis', inplace=True)\n",
    "df_chapter['city'].mask(df_chapter['city'] == 'Goa', 'Panaji Goa', inplace=True)\n",
    "df_chapter['city'].mask(df_chapter['city'] == 'Visakhapatnam/Andhra Pradesh/India', 'Visakhapatnam', inplace=True)\n",
    "df_chapter['city'].mask(df_chapter['city'] == 'Washington', 'Washington DC', inplace=True)\n",
    "df_chapter['city'].mask(df_chapter['city'] == 'Aba / Abia State', 'Aba', inplace=True)\n",
    "df_chapter['city'].mask(df_chapter['city'] == 'West Windsor NJ', 'West Windsor', inplace=True)\n",
    "df_chapter['city'].mask(df_chapter['city'] == 'Medellin', 'Medellín', inplace=True)\n",
    "df_chapter['city'].mask(df_chapter['city'] == 'Albania', 'Tirania', inplace=True)\n",
    "df_chapter['city'].mask(df_chapter['city'] == 'BH', 'Belo Horizonte', inplace=True)\n",
    "df_chapter['city'].mask(df_chapter['city'] == 'Guatemala', 'Guatemala City', inplace=True)\n",
    "df_chapter['city'].mask(df_chapter['city'] == 'Inland Empire', 'Riverside', inplace=True)\n",
    "df_chapter['city'].mask(df_chapter['city'] == 'Vale', 'Vale do Paraiba', inplace=True)\n",
    "df_chapter['city'].mask(df_chapter['city'] == 'Plateau', 'Jos Plateau', inplace=True)\n",
    "df_chapter['city'].mask(df_chapter['city'] == 'Recife, Brasil', 'Recife', inplace=True)\n",
    "df_chapter['city'].mask(df_chapter['city'] == 'Rio de Janerio', 'Rio de Janeirio', inplace=True)\n",
    "df_chapter['city'].mask(df_chapter['city'] == 'Salt Lake', 'Salt Lake City', inplace=True)\n",
    "df_chapter['city'].mask(df_chapter['city'] == 'SA', 'San Antonio', inplace=True)\n",
    "df_chapter['city'].mask(df_chapter['city'] == 'São Carlos, Brasil', 'São Carlos', inplace=True)\n",
    "df_chapter['city'].mask(df_chapter['city'] == 'Taiwan', 'Taipei', inplace=True)\n",
    "df_chapter['city'].mask(df_chapter['city'] == 'Milan', 'Milano', inplace=True)\n",
    "df_chapter['city'].mask(df_chapter['city'] == 'Munich', 'München', inplace=True)\n",
    "df_chapter['city'].mask(df_chapter['city'] == 'Rio de Janeirio', 'Rio de Janeiro', inplace=True)\n",
    "df_chapter['city'].mask(df_chapter['city'] == 'Bangalore', 'Bengaluru', inplace=True)\n",
    "df_chapter['city'].mask(df_chapter['city'] == 'DC', 'Washington DC', inplace=True)\n",
    "df_chapter['city'].mask(df_chapter['city'] == 'DF', 'Brasilia', inplace=True)\n",
    "df_chapter['city'].mask(df_chapter['city'] == 'Congo-Brazzaville', 'Brazzaville', inplace=True)\n",
    "\n",
    "\n",
    "import datetime\n",
    "df_chapter['date_logged'] = df_chapter['email_signin_date']\n",
    "\n",
    "df_chapter['email_signin_date'].mask(df_chapter['email_signin_date'] == 'Never logged in', 'NaN', inplace=True)\n",
    "\n",
    "df_chapter['email_signin_date'] = df_chapter['email_signin_date'].astype('datetime64[ns]').dt.date\n",
    "\n",
    "# drop temp variables\n",
    "df_chapter = df_chapter.drop(['city1','city2','city_temp1','city_temp2','temp'], axis=1)\n",
    "\n",
    "df_chapter['registered_db'] = 1"
   ]
  },
  {
   "cell_type": "code",
   "execution_count": null,
   "metadata": {},
   "outputs": [],
   "source": [
    "df_chapter.head(300)"
   ]
  },
  {
   "cell_type": "code",
   "execution_count": null,
   "metadata": {},
   "outputs": [],
   "source": [
    "df_chapter.shape"
   ]
  },
  {
   "cell_type": "code",
   "execution_count": null,
   "metadata": {},
   "outputs": [],
   "source": [
    "df_all = pd.merge(df_chapter, df_meetup, on=['city'],  how='outer')"
   ]
  },
  {
   "cell_type": "code",
   "execution_count": null,
   "metadata": {},
   "outputs": [],
   "source": [
    "print('emails (all):      ', chapter_list.shape)\n",
    "print('emails (chapters): ', df_chapter.shape)\n",
    "print('-'*30)\n",
    "print('meetup dashboard:  ', df_meetup.shape)\n",
    "print('-'*30)\n",
    "print('Merged:            ', df_all.shape)"
   ]
  },
  {
   "cell_type": "code",
   "execution_count": null,
   "metadata": {},
   "outputs": [],
   "source": [
    "df_all.sort_values(by=['city'])"
   ]
  },
  {
   "cell_type": "code",
   "execution_count": null,
   "metadata": {},
   "outputs": [],
   "source": [
    "df_all[['email','email_signin_date','email_usage','city','country','region', 'registered_db','meetup_db','meetup_status','last_event']]"
   ]
  },
  {
   "cell_type": "code",
   "execution_count": null,
   "metadata": {},
   "outputs": [],
   "source": [
    "df_all = df_all.drop(['country','region'], axis=1)"
   ]
  },
  {
   "cell_type": "code",
   "execution_count": null,
   "metadata": {},
   "outputs": [],
   "source": []
  },
  {
   "cell_type": "markdown",
   "metadata": {},
   "source": [
    "## 3. Data Source:  Reshama's Inventory\n",
    "### Get raw data"
   ]
  },
  {
   "cell_type": "code",
   "execution_count": null,
   "metadata": {},
   "outputs": [],
   "source": [
    "file_name3 = '2021_PyLadies_Inventory - 2021-03.csv'\n",
    "df_inventory = pd.read_csv(datapath+file_name3)  \n",
    "df_inventory['inv_db'] = 1"
   ]
  },
  {
   "cell_type": "code",
   "execution_count": null,
   "metadata": {},
   "outputs": [],
   "source": [
    "#df_inventory['city'].mask(df_inventory['city'] == 'Caxias Do Sul', 'Caxias do Sul', inplace=True)\n",
    "#df_inventory['city'].mask(df_inventory['city'] == 'Duque De Caxias', 'Duque de Caxias', inplace=True)\n",
    "#df_inventory['city'].mask(df_inventory['city'] == 'Salt Lake Area', 'Salt Lake City', inplace=True)\n"
   ]
  },
  {
   "cell_type": "code",
   "execution_count": null,
   "metadata": {},
   "outputs": [],
   "source": [
    "df_inventory.head(5)"
   ]
  },
  {
   "cell_type": "code",
   "execution_count": null,
   "metadata": {},
   "outputs": [],
   "source": [
    "df_inventory.shape"
   ]
  },
  {
   "cell_type": "code",
   "execution_count": null,
   "metadata": {},
   "outputs": [],
   "source": []
  },
  {
   "cell_type": "code",
   "execution_count": null,
   "metadata": {},
   "outputs": [],
   "source": [
    "df_use = pd.merge(df_all, df_inventory, on=['city'],  how='outer')"
   ]
  },
  {
   "cell_type": "code",
   "execution_count": null,
   "metadata": {
    "scrolled": true
   },
   "outputs": [],
   "source": [
    "df_use = df_use.sort_values(by=['city'])\n",
    "\n",
    "df_use.head(4)"
   ]
  },
  {
   "cell_type": "code",
   "execution_count": null,
   "metadata": {},
   "outputs": [],
   "source": [
    "# As a default, if meetup group exists, use that member count\n",
    "\n",
    "#df_test=df_use.copy()\n",
    "\n",
    "# df_test[['city', 'country','region', \\\n",
    "#         'registered_db','meetup_db','main_platform','meetup_members','members_followers']].head(10)\n",
    "# df_test['members_followers'].mask(df_test['meetup_members'] == 'NaN', df_test['members_followers'], inplace=True)\n",
    "\n",
    "\n",
    "df_use['members_followers']=df_use['meetup_members'].mask(pd.isnull, df_use['members_manual'])\n",
    "\n",
    "\n",
    "df_use[['city', 'country','region', \\\n",
    "        'registered_db','meetup_db','main_platform','meetup_members','members_manual','members_followers']].head(100)\n"
   ]
  },
  {
   "cell_type": "code",
   "execution_count": null,
   "metadata": {},
   "outputs": [],
   "source": [
    "df_use[['city', 'country','region', \\\n",
    "        'registered_db','meetup_db','main_platform','meetup_members','members_followers']]\n"
   ]
  },
  {
   "cell_type": "code",
   "execution_count": null,
   "metadata": {},
   "outputs": [],
   "source": [
    "df_use.shape"
   ]
  },
  {
   "cell_type": "code",
   "execution_count": null,
   "metadata": {},
   "outputs": [],
   "source": [
    "#df_use[['email','email_signin_date','email_usage','city','country_x','region_x', 'country_y','region_y', 'registered_db','meetup_db','status','last_event']]\n",
    "df_use[['email','email_signin_date','city', 'country','region', \\\n",
    "        'registered_db','meetup_db','main_platform']]\n"
   ]
  },
  {
   "cell_type": "code",
   "execution_count": null,
   "metadata": {},
   "outputs": [],
   "source": [
    "df_use['chapter_count'] = 1"
   ]
  },
  {
   "cell_type": "code",
   "execution_count": null,
   "metadata": {},
   "outputs": [],
   "source": [
    "df_use['meetup_db'].unique()"
   ]
  },
  {
   "cell_type": "code",
   "execution_count": null,
   "metadata": {},
   "outputs": [],
   "source": [
    "df_use['meetup_db'].value_counts(normalize=True)"
   ]
  },
  {
   "cell_type": "code",
   "execution_count": null,
   "metadata": {},
   "outputs": [],
   "source": [
    "df_use['meetup_db'].value_counts(normalize=False)"
   ]
  },
  {
   "cell_type": "code",
   "execution_count": null,
   "metadata": {},
   "outputs": [],
   "source": [
    "#df_use.head(3)"
   ]
  },
  {
   "cell_type": "code",
   "execution_count": null,
   "metadata": {
    "scrolled": true
   },
   "outputs": [],
   "source": [
    "df_use.shape"
   ]
  },
  {
   "cell_type": "markdown",
   "metadata": {},
   "source": [
    "### Remove Duplicates"
   ]
  },
  {
   "cell_type": "code",
   "execution_count": null,
   "metadata": {},
   "outputs": [],
   "source": [
    "# get names of indexes for which \n",
    "\n",
    "# Note:  There are 2 registered chapters for Bengaluru\n",
    "index_names = df_use[ df_use['email'] == 'bangalore@pyladies.com' ].index \n",
    "df_use.drop(index_names, inplace = True) \n",
    "\n",
    "index_names = df_use[ df_use['email'] == 'sa@pyladies.com' ].index \n",
    "df_use.drop(index_names, inplace = True) \n",
    "\n",
    "index_names = df_use[ df_use['email'] == 'mum@pyladies.com' ].index \n",
    "df_use.drop(index_names, inplace = True) \n",
    "\n",
    "index_names = df_use[ df_use['email'] == 'newark@pyladies.com' ].index \n",
    "df_use.drop(index_names, inplace = True) \n",
    "\n",
    "index_names = df_use[ df_use['email'] == 'alb@pyladies.com' ].index \n",
    "df_use.drop(index_names, inplace = True) \n",
    "\n",
    "index_names = df_use[ df_use['email'] == 'tampa@pyladies.com' ].index \n",
    "df_use.drop(index_names, inplace = True) \n",
    "\n",
    "index_names = df_use[ df_use['email'] == 'tunisia@pyladies.com' ].index \n",
    "df_use.drop(index_names, inplace = True) \n",
    "\n",
    "# Note:  There are 2 meetup groups with same name\n",
    "index_names = df_use[ df_use['meetup_url'] == 'https://www.meetup.com/Pyladies-Bogota/'].index \n",
    "df_use.drop(index_names, inplace = True) \n",
    "\n",
    "# Note:  There are 2 meetup groups with same name\n",
    "index_names = df_use[ df_use['meetup_url'] == 'https://www.meetup.com/PyLadies-PUC-Rio/'].index \n",
    "df_use.drop(index_names, inplace = True) \n",
    "\n",
    "\n",
    "df_use.shape"
   ]
  },
  {
   "cell_type": "markdown",
   "metadata": {},
   "source": [
    "### Create `location` column"
   ]
  },
  {
   "cell_type": "code",
   "execution_count": null,
   "metadata": {},
   "outputs": [],
   "source": [
    "df_use['location'] = df_use['city'].astype(str) + ' ' + df_use['country'].astype(str)\n",
    "df_use['location2']= df_use['city'].astype(str) \\\n",
    "                        + ' ' \\\n",
    "                        + df_use['state-province'].astype(str) \\\n",
    "                        + ' ' \\\n",
    "                        + df_use['country'].astype(str)\n",
    "\n",
    "\n",
    "subset = df_use[['location','location2', 'city', 'state-province','country','country_level','region', 'main_platform']]\n",
    "subset.head(300)"
   ]
  },
  {
   "cell_type": "code",
   "execution_count": null,
   "metadata": {},
   "outputs": [],
   "source": [
    "df_use.head()"
   ]
  },
  {
   "cell_type": "markdown",
   "metadata": {},
   "source": [
    "## For Venn Diagram"
   ]
  },
  {
   "cell_type": "code",
   "execution_count": null,
   "metadata": {},
   "outputs": [],
   "source": [
    "# subset = df_use[df_use[\"meetup\"].isin([\"1\"])]\n",
    "# subset"
   ]
  },
  {
   "cell_type": "code",
   "execution_count": null,
   "metadata": {},
   "outputs": [],
   "source": []
  },
  {
   "cell_type": "code",
   "execution_count": null,
   "metadata": {},
   "outputs": [],
   "source": [
    "df_use[['email','email_signin_date','city', 'country','region', \\\n",
    "        'registered_db','meetup_db','main_platform']]"
   ]
  },
  {
   "cell_type": "code",
   "execution_count": null,
   "metadata": {},
   "outputs": [],
   "source": [
    "df_use_check=df_use[['meetup_db','registered_db','inv_db','chapter_count']]"
   ]
  },
  {
   "cell_type": "code",
   "execution_count": null,
   "metadata": {},
   "outputs": [],
   "source": [
    "df_check = df_use_check.groupby(['meetup_db']).sum()"
   ]
  },
  {
   "cell_type": "code",
   "execution_count": null,
   "metadata": {},
   "outputs": [],
   "source": [
    "df_check"
   ]
  },
  {
   "cell_type": "code",
   "execution_count": null,
   "metadata": {},
   "outputs": [],
   "source": [
    "df_check = df_use_check.groupby(['registered_db']).sum()"
   ]
  },
  {
   "cell_type": "code",
   "execution_count": null,
   "metadata": {},
   "outputs": [],
   "source": [
    "df_check"
   ]
  },
  {
   "cell_type": "code",
   "execution_count": null,
   "metadata": {},
   "outputs": [],
   "source": [
    "df_check = df_use_check.groupby(['inv_db']).sum()"
   ]
  },
  {
   "cell_type": "code",
   "execution_count": null,
   "metadata": {},
   "outputs": [],
   "source": [
    "df_check"
   ]
  },
  {
   "cell_type": "code",
   "execution_count": null,
   "metadata": {},
   "outputs": [],
   "source": [
    "df_check = df_use.groupby(['meetup_db','registered_db','inv_db']).sum()\n",
    "#df_check = df_use.groupby(['meetup_db','registered_db','inv_db']).count()\n",
    "df_check"
   ]
  },
  {
   "cell_type": "code",
   "execution_count": null,
   "metadata": {},
   "outputs": [],
   "source": [
    "df_use[['meetup_db','registered_db','inv_db','email','email_signin_date','city', 'state-province','country','region', 'main_platform']]"
   ]
  },
  {
   "cell_type": "code",
   "execution_count": null,
   "metadata": {},
   "outputs": [],
   "source": [
    "df_use.shape"
   ]
  },
  {
   "cell_type": "code",
   "execution_count": null,
   "metadata": {},
   "outputs": [],
   "source": [
    "# subset = df_use.query('meetup_db' in(1))\n",
    "# #& registered_db == '1')\n",
    "\n",
    "\n",
    "# temp = df_use[df_use.eval(\"meetup_db = '1'\")]\n"
   ]
  },
  {
   "cell_type": "code",
   "execution_count": null,
   "metadata": {},
   "outputs": [],
   "source": [
    "df_use['status_derived'].value_counts(normalize=False)"
   ]
  },
  {
   "cell_type": "code",
   "execution_count": null,
   "metadata": {},
   "outputs": [],
   "source": [
    "df_use['main_platform'].value_counts(normalize=False)"
   ]
  },
  {
   "cell_type": "code",
   "execution_count": null,
   "metadata": {},
   "outputs": [],
   "source": [
    "subset = df_use[df_use[\"country_level\"].isin([\"1\"])]\n",
    "print(subset.shape)\n",
    "subset.head()\n"
   ]
  },
  {
   "cell_type": "code",
   "execution_count": null,
   "metadata": {},
   "outputs": [],
   "source": [
    "df_use['region'].value_counts(normalize=False)"
   ]
  },
  {
   "cell_type": "code",
   "execution_count": null,
   "metadata": {},
   "outputs": [],
   "source": [
    "df_use['members_followers'].sum()"
   ]
  },
  {
   "cell_type": "code",
   "execution_count": null,
   "metadata": {},
   "outputs": [],
   "source": [
    "(df_use['country'].unique()).shape"
   ]
  },
  {
   "cell_type": "code",
   "execution_count": null,
   "metadata": {},
   "outputs": [],
   "source": [
    "df_use['country'].value_counts(normalize=False)[:10]"
   ]
  },
  {
   "cell_type": "code",
   "execution_count": null,
   "metadata": {},
   "outputs": [],
   "source": [
    "# 75 meetup\n",
    "# 60 not found\n",
    "# 135\n",
    "# 261 - 135 = 125 -45 Brazil = 90\n",
    "\n"
   ]
  },
  {
   "cell_type": "markdown",
   "metadata": {},
   "source": [
    "# Set cvs file"
   ]
  },
  {
   "cell_type": "code",
   "execution_count": null,
   "metadata": {},
   "outputs": [],
   "source": [
    "#df_use.sort_values(by=['region','country','city','state-province'])\n",
    "\n",
    "df_use.sort_values(['region','country','city','state-province'], inplace=True, ascending=True)\n"
   ]
  },
  {
   "cell_type": "code",
   "execution_count": null,
   "metadata": {},
   "outputs": [],
   "source": [
    "df_use.to_csv('data_derived/pyladies_clean.csv',\n",
    "              columns=['region','country','city','state-province','email','email_signin_date','email_usage', \\\n",
    "                       'main_platform','founded','meetup_created','main_platform_link','members_followers', \\\n",
    "                       'status_derived','members_manual','meetup_members', 'meetup_url', 'meetup_status','last_event',\\\n",
    "                       'past_events','upcoming_events','country_level','last_activity', 'facebook_page',\\\n",
    "                       'website','meetup_link', 'twitter_link','instagram_link','other_social_media', \\\n",
    "                       'meetup_db','registered_db','inv_db','meetup_name','location','location2','chapter_count'\n",
    "                                 ])\n"
   ]
  },
  {
   "cell_type": "code",
   "execution_count": null,
   "metadata": {},
   "outputs": [],
   "source": [
    "#df_use.info()"
   ]
  },
  {
   "cell_type": "code",
   "execution_count": null,
   "metadata": {
    "scrolled": true
   },
   "outputs": [],
   "source": [
    "df_use.head()"
   ]
  },
  {
   "cell_type": "code",
   "execution_count": null,
   "metadata": {},
   "outputs": [],
   "source": []
  },
  {
   "cell_type": "code",
   "execution_count": null,
   "metadata": {},
   "outputs": [],
   "source": []
  },
  {
   "cell_type": "code",
   "execution_count": null,
   "metadata": {},
   "outputs": [],
   "source": []
  }
 ],
 "metadata": {
  "kernelspec": {
   "display_name": "Python 3 (ipykernel)",
   "language": "python",
   "name": "python3"
  },
  "language_info": {
   "codemirror_mode": {
    "name": "ipython",
    "version": 3
   },
   "file_extension": ".py",
   "mimetype": "text/x-python",
   "name": "python",
   "nbconvert_exporter": "python",
   "pygments_lexer": "ipython3",
   "version": "3.9.7"
  }
 },
 "nbformat": 4,
 "nbformat_minor": 4
}
